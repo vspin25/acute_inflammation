{
  "nbformat": 4,
  "nbformat_minor": 0,
  "metadata": {
    "colab": {
      "provenance": [],
      "authorship_tag": "ABX9TyPkFq18LEZBnEyObxLXKo+b",
      "include_colab_link": true
    },
    "kernelspec": {
      "name": "python3",
      "display_name": "Python 3"
    },
    "language_info": {
      "name": "python"
    }
  },
  "cells": [
    {
      "cell_type": "markdown",
      "metadata": {
        "id": "view-in-github",
        "colab_type": "text"
      },
      "source": [
        "<a href=\"https://colab.research.google.com/github/vspin25/acute_inflammation/blob/main/Preprocess.ipynb\" target=\"_parent\"><img src=\"https://colab.research.google.com/assets/colab-badge.svg\" alt=\"Open In Colab\"/></a>"
      ]
    },
    {
      "cell_type": "markdown",
      "source": [
        "# **Acute Inflammations**\n",
        "Dataset https://archive.ics.uci.edu/dataset/184/acute+inflammations"
      ],
      "metadata": {
        "id": "rW4IY7K-W4Tc"
      }
    },
    {
      "cell_type": "markdown",
      "source": [
        "Libraries"
      ],
      "metadata": {
        "id": "QjQSDxpRXR3u"
      }
    },
    {
      "cell_type": "code",
      "source": [
        "import pandas as pd\n",
        "from google.colab import files\n",
        "from sklearn.preprocessing import LabelEncoder\n",
        "from sklearn.model_selection import train_test_split"
      ],
      "metadata": {
        "id": "2VThJiukXUbL"
      },
      "execution_count": null,
      "outputs": []
    },
    {
      "cell_type": "markdown",
      "source": [
        "Dataset"
      ],
      "metadata": {
        "id": "Bn68-rF1Xcai"
      }
    },
    {
      "cell_type": "code",
      "source": [
        "uploaded = files.upload()"
      ],
      "metadata": {
        "colab": {
          "base_uri": "https://localhost:8080/",
          "height": 74
        },
        "id": "uHfC5__6XeXQ",
        "outputId": "44e49909-cd79-4b23-edff-f52e23af3997"
      },
      "execution_count": null,
      "outputs": [
        {
          "output_type": "display_data",
          "data": {
            "text/plain": [
              "<IPython.core.display.HTML object>"
            ],
            "text/html": [
              "\n",
              "     <input type=\"file\" id=\"files-aa6e476f-c4cf-40bf-bc65-302dece54aee\" name=\"files[]\" multiple disabled\n",
              "        style=\"border:none\" />\n",
              "     <output id=\"result-aa6e476f-c4cf-40bf-bc65-302dece54aee\">\n",
              "      Upload widget is only available when the cell has been executed in the\n",
              "      current browser session. Please rerun this cell to enable.\n",
              "      </output>\n",
              "      <script>// Copyright 2017 Google LLC\n",
              "//\n",
              "// Licensed under the Apache License, Version 2.0 (the \"License\");\n",
              "// you may not use this file except in compliance with the License.\n",
              "// You may obtain a copy of the License at\n",
              "//\n",
              "//      http://www.apache.org/licenses/LICENSE-2.0\n",
              "//\n",
              "// Unless required by applicable law or agreed to in writing, software\n",
              "// distributed under the License is distributed on an \"AS IS\" BASIS,\n",
              "// WITHOUT WARRANTIES OR CONDITIONS OF ANY KIND, either express or implied.\n",
              "// See the License for the specific language governing permissions and\n",
              "// limitations under the License.\n",
              "\n",
              "/**\n",
              " * @fileoverview Helpers for google.colab Python module.\n",
              " */\n",
              "(function(scope) {\n",
              "function span(text, styleAttributes = {}) {\n",
              "  const element = document.createElement('span');\n",
              "  element.textContent = text;\n",
              "  for (const key of Object.keys(styleAttributes)) {\n",
              "    element.style[key] = styleAttributes[key];\n",
              "  }\n",
              "  return element;\n",
              "}\n",
              "\n",
              "// Max number of bytes which will be uploaded at a time.\n",
              "const MAX_PAYLOAD_SIZE = 100 * 1024;\n",
              "\n",
              "function _uploadFiles(inputId, outputId) {\n",
              "  const steps = uploadFilesStep(inputId, outputId);\n",
              "  const outputElement = document.getElementById(outputId);\n",
              "  // Cache steps on the outputElement to make it available for the next call\n",
              "  // to uploadFilesContinue from Python.\n",
              "  outputElement.steps = steps;\n",
              "\n",
              "  return _uploadFilesContinue(outputId);\n",
              "}\n",
              "\n",
              "// This is roughly an async generator (not supported in the browser yet),\n",
              "// where there are multiple asynchronous steps and the Python side is going\n",
              "// to poll for completion of each step.\n",
              "// This uses a Promise to block the python side on completion of each step,\n",
              "// then passes the result of the previous step as the input to the next step.\n",
              "function _uploadFilesContinue(outputId) {\n",
              "  const outputElement = document.getElementById(outputId);\n",
              "  const steps = outputElement.steps;\n",
              "\n",
              "  const next = steps.next(outputElement.lastPromiseValue);\n",
              "  return Promise.resolve(next.value.promise).then((value) => {\n",
              "    // Cache the last promise value to make it available to the next\n",
              "    // step of the generator.\n",
              "    outputElement.lastPromiseValue = value;\n",
              "    return next.value.response;\n",
              "  });\n",
              "}\n",
              "\n",
              "/**\n",
              " * Generator function which is called between each async step of the upload\n",
              " * process.\n",
              " * @param {string} inputId Element ID of the input file picker element.\n",
              " * @param {string} outputId Element ID of the output display.\n",
              " * @return {!Iterable<!Object>} Iterable of next steps.\n",
              " */\n",
              "function* uploadFilesStep(inputId, outputId) {\n",
              "  const inputElement = document.getElementById(inputId);\n",
              "  inputElement.disabled = false;\n",
              "\n",
              "  const outputElement = document.getElementById(outputId);\n",
              "  outputElement.innerHTML = '';\n",
              "\n",
              "  const pickedPromise = new Promise((resolve) => {\n",
              "    inputElement.addEventListener('change', (e) => {\n",
              "      resolve(e.target.files);\n",
              "    });\n",
              "  });\n",
              "\n",
              "  const cancel = document.createElement('button');\n",
              "  inputElement.parentElement.appendChild(cancel);\n",
              "  cancel.textContent = 'Cancel upload';\n",
              "  const cancelPromise = new Promise((resolve) => {\n",
              "    cancel.onclick = () => {\n",
              "      resolve(null);\n",
              "    };\n",
              "  });\n",
              "\n",
              "  // Wait for the user to pick the files.\n",
              "  const files = yield {\n",
              "    promise: Promise.race([pickedPromise, cancelPromise]),\n",
              "    response: {\n",
              "      action: 'starting',\n",
              "    }\n",
              "  };\n",
              "\n",
              "  cancel.remove();\n",
              "\n",
              "  // Disable the input element since further picks are not allowed.\n",
              "  inputElement.disabled = true;\n",
              "\n",
              "  if (!files) {\n",
              "    return {\n",
              "      response: {\n",
              "        action: 'complete',\n",
              "      }\n",
              "    };\n",
              "  }\n",
              "\n",
              "  for (const file of files) {\n",
              "    const li = document.createElement('li');\n",
              "    li.append(span(file.name, {fontWeight: 'bold'}));\n",
              "    li.append(span(\n",
              "        `(${file.type || 'n/a'}) - ${file.size} bytes, ` +\n",
              "        `last modified: ${\n",
              "            file.lastModifiedDate ? file.lastModifiedDate.toLocaleDateString() :\n",
              "                                    'n/a'} - `));\n",
              "    const percent = span('0% done');\n",
              "    li.appendChild(percent);\n",
              "\n",
              "    outputElement.appendChild(li);\n",
              "\n",
              "    const fileDataPromise = new Promise((resolve) => {\n",
              "      const reader = new FileReader();\n",
              "      reader.onload = (e) => {\n",
              "        resolve(e.target.result);\n",
              "      };\n",
              "      reader.readAsArrayBuffer(file);\n",
              "    });\n",
              "    // Wait for the data to be ready.\n",
              "    let fileData = yield {\n",
              "      promise: fileDataPromise,\n",
              "      response: {\n",
              "        action: 'continue',\n",
              "      }\n",
              "    };\n",
              "\n",
              "    // Use a chunked sending to avoid message size limits. See b/62115660.\n",
              "    let position = 0;\n",
              "    do {\n",
              "      const length = Math.min(fileData.byteLength - position, MAX_PAYLOAD_SIZE);\n",
              "      const chunk = new Uint8Array(fileData, position, length);\n",
              "      position += length;\n",
              "\n",
              "      const base64 = btoa(String.fromCharCode.apply(null, chunk));\n",
              "      yield {\n",
              "        response: {\n",
              "          action: 'append',\n",
              "          file: file.name,\n",
              "          data: base64,\n",
              "        },\n",
              "      };\n",
              "\n",
              "      let percentDone = fileData.byteLength === 0 ?\n",
              "          100 :\n",
              "          Math.round((position / fileData.byteLength) * 100);\n",
              "      percent.textContent = `${percentDone}% done`;\n",
              "\n",
              "    } while (position < fileData.byteLength);\n",
              "  }\n",
              "\n",
              "  // All done.\n",
              "  yield {\n",
              "    response: {\n",
              "      action: 'complete',\n",
              "    }\n",
              "  };\n",
              "}\n",
              "\n",
              "scope.google = scope.google || {};\n",
              "scope.google.colab = scope.google.colab || {};\n",
              "scope.google.colab._files = {\n",
              "  _uploadFiles,\n",
              "  _uploadFilesContinue,\n",
              "};\n",
              "})(self);\n",
              "</script> "
            ]
          },
          "metadata": {}
        },
        {
          "output_type": "stream",
          "name": "stdout",
          "text": [
            "Saving Acute_Inflammations.xlsx to Acute_Inflammations (1).xlsx\n"
          ]
        }
      ]
    },
    {
      "cell_type": "code",
      "source": [
        "dataset = pd.read_excel('Acute_Inflammations.xlsx')"
      ],
      "metadata": {
        "id": "35iJvwMiXxL3"
      },
      "execution_count": null,
      "outputs": []
    },
    {
      "cell_type": "markdown",
      "source": [
        "# Preprocess"
      ],
      "metadata": {
        "id": "UphHF72cYJFg"
      }
    },
    {
      "cell_type": "code",
      "source": [
        "dataset['temperature'] = dataset['temperature'].str.replace(',', '.')\n",
        "\n",
        "dataset['temperature'] = pd.to_numeric(dataset['temperature'])\n",
        "\n",
        "print(dataset['temperature'].head())"
      ],
      "metadata": {
        "colab": {
          "base_uri": "https://localhost:8080/"
        },
        "id": "4_LEefHKYKZ_",
        "outputId": "8cf089d4-6d7d-4ff2-d531-8b01e95be9ac"
      },
      "execution_count": null,
      "outputs": [
        {
          "output_type": "stream",
          "name": "stdout",
          "text": [
            "0    35.5\n",
            "1    35.9\n",
            "2    35.9\n",
            "3    36.0\n",
            "4    36.0\n",
            "Name: temperature, dtype: float64\n"
          ]
        }
      ]
    },
    {
      "cell_type": "markdown",
      "source": [
        "Change temperature to categorical variable\n",
        "\n",
        "hypothermia: less than 36.2 (not including 36.2)\n",
        "normal: 36.2-37.4\n",
        "fever: more than 37.5 (including 37.5)"
      ],
      "metadata": {
        "id": "BF_ruGwmYqHX"
      }
    },
    {
      "cell_type": "code",
      "source": [
        "bins = [0, 36.2, 37.5, 42]\n",
        "labels = ['hypothermia', 'normal', 'fever']\n",
        "dataset['temperature'] = pd.cut(dataset['temperature'], bins=bins, labels=labels, right=False)\n",
        "print(dataset['temperature'].unique())"
      ],
      "metadata": {
        "colab": {
          "base_uri": "https://localhost:8080/"
        },
        "id": "ApUXcIJ4YvOT",
        "outputId": "1cfc367f-7ccc-4c5e-9af3-aa0afb349c09"
      },
      "execution_count": null,
      "outputs": [
        {
          "output_type": "stream",
          "name": "stdout",
          "text": [
            "['hypothermia', 'normal', 'fever']\n",
            "Categories (3, object): ['hypothermia' < 'normal' < 'fever']\n"
          ]
        }
      ]
    },
    {
      "cell_type": "markdown",
      "source": [
        "Create new feature \"Symptom count\""
      ],
      "metadata": {
        "id": "zs2DFNbUb0xX"
      }
    },
    {
      "cell_type": "code",
      "source": [
        "dataset['symptom_count'] = dataset[['nausea', 'lumbar-pain', 'urine-pushing', 'micturition-pains', 'burning-urethra']].apply(lambda x: (x == 'yes').sum(), axis=1)\n",
        "print(dataset.head())"
      ],
      "metadata": {
        "colab": {
          "base_uri": "https://localhost:8080/"
        },
        "id": "YqdP9nfGbzrX",
        "outputId": "f7b2560b-0d86-482d-a007-dc5520181152"
      },
      "execution_count": null,
      "outputs": [
        {
          "output_type": "stream",
          "name": "stdout",
          "text": [
            "   temperature nausea lumbar-pain urine-pushing micturition-pains  \\\n",
            "0  hypothermia     no         yes            no                no   \n",
            "1  hypothermia     no          no           yes               yes   \n",
            "2  hypothermia     no         yes            no                no   \n",
            "3  hypothermia     no          no           yes               yes   \n",
            "4  hypothermia     no         yes            no                no   \n",
            "\n",
            "  burning-urethra bladder-inflammation nephritis  symptom_count  \n",
            "0              no                   no        no              1  \n",
            "1             yes                  yes        no              3  \n",
            "2              no                   no        no              1  \n",
            "3             yes                  yes        no              3  \n",
            "4              no                   no        no              1  \n"
          ]
        }
      ]
    },
    {
      "cell_type": "code",
      "source": [
        "dataset['symptom_count'].value_counts()"
      ],
      "metadata": {
        "colab": {
          "base_uri": "https://localhost:8080/",
          "height": 303
        },
        "id": "tZ8f_wGp71Kl",
        "outputId": "04d5b60a-2d64-4911-b43c-08cb6a7912fb"
      },
      "execution_count": null,
      "outputs": [
        {
          "output_type": "execute_result",
          "data": {
            "text/plain": [
              "symptom_count\n",
              "3    51\n",
              "1    30\n",
              "2    10\n",
              "4    10\n",
              "0    10\n",
              "5     9\n",
              "Name: count, dtype: int64"
            ],
            "text/html": [
              "<div>\n",
              "<style scoped>\n",
              "    .dataframe tbody tr th:only-of-type {\n",
              "        vertical-align: middle;\n",
              "    }\n",
              "\n",
              "    .dataframe tbody tr th {\n",
              "        vertical-align: top;\n",
              "    }\n",
              "\n",
              "    .dataframe thead th {\n",
              "        text-align: right;\n",
              "    }\n",
              "</style>\n",
              "<table border=\"1\" class=\"dataframe\">\n",
              "  <thead>\n",
              "    <tr style=\"text-align: right;\">\n",
              "      <th></th>\n",
              "      <th>count</th>\n",
              "    </tr>\n",
              "    <tr>\n",
              "      <th>symptom_count</th>\n",
              "      <th></th>\n",
              "    </tr>\n",
              "  </thead>\n",
              "  <tbody>\n",
              "    <tr>\n",
              "      <th>3</th>\n",
              "      <td>51</td>\n",
              "    </tr>\n",
              "    <tr>\n",
              "      <th>1</th>\n",
              "      <td>30</td>\n",
              "    </tr>\n",
              "    <tr>\n",
              "      <th>2</th>\n",
              "      <td>10</td>\n",
              "    </tr>\n",
              "    <tr>\n",
              "      <th>4</th>\n",
              "      <td>10</td>\n",
              "    </tr>\n",
              "    <tr>\n",
              "      <th>0</th>\n",
              "      <td>10</td>\n",
              "    </tr>\n",
              "    <tr>\n",
              "      <th>5</th>\n",
              "      <td>9</td>\n",
              "    </tr>\n",
              "  </tbody>\n",
              "</table>\n",
              "</div><br><label><b>dtype:</b> int64</label>"
            ]
          },
          "metadata": {},
          "execution_count": 22
        }
      ]
    },
    {
      "cell_type": "markdown",
      "source": [
        "Nephritis and symptom count"
      ],
      "metadata": {
        "id": "lbeGscLjO1s_"
      }
    },
    {
      "cell_type": "code",
      "source": [
        "nephritis_data = dataset[dataset['nephritis'] == 'yes']\n",
        "nephritis_symptom = nephritis_data['symptom_count'].value_counts()\n",
        "\n",
        "print(\"Symptom count (nephritis):\")\n",
        "print(nephritis_symptom)"
      ],
      "metadata": {
        "colab": {
          "base_uri": "https://localhost:8080/"
        },
        "id": "8EX-YsoUOxPV",
        "outputId": "89a7fef4-4ce8-453e-c21d-3545dfc720b9"
      },
      "execution_count": null,
      "outputs": [
        {
          "output_type": "stream",
          "name": "stdout",
          "text": [
            "Symptom count (nephritis):\n",
            "symptom_count\n",
            "3    31\n",
            "4    10\n",
            "5     9\n",
            "Name: count, dtype: int64\n"
          ]
        }
      ]
    },
    {
      "cell_type": "markdown",
      "source": [
        "Bladder and symptom count"
      ],
      "metadata": {
        "id": "gPu81OfWO5qJ"
      }
    },
    {
      "cell_type": "code",
      "source": [
        "bladder_data = dataset[dataset['bladder-inflammation'] == 'yes']\n",
        "bladder_symptom = bladder_data['symptom_count'].value_counts()\n",
        "\n",
        "print(\"Symptom count (bladder inflammation):\")\n",
        "print(bladder_symptom)"
      ],
      "metadata": {
        "colab": {
          "base_uri": "https://localhost:8080/"
        },
        "id": "m7vYaUj8O_Cm",
        "outputId": "c04638b0-8c3c-44a6-caa4-fcd24764069e"
      },
      "execution_count": null,
      "outputs": [
        {
          "output_type": "stream",
          "name": "stdout",
          "text": [
            "Symptom count (bladder inflammation):\n",
            "symptom_count\n",
            "3    20\n",
            "2    10\n",
            "1    10\n",
            "4    10\n",
            "5     9\n",
            "Name: count, dtype: int64\n"
          ]
        }
      ]
    },
    {
      "cell_type": "markdown",
      "source": [
        "Encode columns (0,1,2)"
      ],
      "metadata": {
        "id": "4RZMrsgXneK5"
      }
    },
    {
      "cell_type": "code",
      "source": [
        "new_label = LabelEncoder()\n",
        "data_encoded = dataset.copy()\n",
        "\n",
        "label_mappings = {}\n",
        "\n",
        "for col in data_encoded.columns:\n",
        "    new_label.fit(data_encoded[col])\n",
        "    data_encoded[col] = new_label.fit_transform(data_encoded[col])\n",
        "    label_mappings[col] = dict(zip(new_label.classes_, new_label.transform(new_label.classes_)))\n",
        "\n",
        "# Mapping values\n",
        "for feature, mapping in label_mappings.items():\n",
        "    print(f\"Feature: {feature}\")\n",
        "    print(\"Original---> Encoded:\")\n",
        "    for original, encoded in mapping.items():\n",
        "        print(f\"  {original} -> {encoded}\")\n",
        "    print(\"\\n\")"
      ],
      "metadata": {
        "colab": {
          "base_uri": "https://localhost:8080/"
        },
        "collapsed": true,
        "id": "1rksMlsnmmiH",
        "outputId": "a2987d19-bcda-4a4d-8f77-170624ab636e"
      },
      "execution_count": null,
      "outputs": [
        {
          "output_type": "stream",
          "name": "stdout",
          "text": [
            "Feature: temperature\n",
            "Original---> Encoded:\n",
            "  fever -> 0\n",
            "  hypothermia -> 1\n",
            "  normal -> 2\n",
            "\n",
            "\n",
            "Feature: nausea\n",
            "Original---> Encoded:\n",
            "  no -> 0\n",
            "  yes -> 1\n",
            "\n",
            "\n",
            "Feature: lumbar-pain\n",
            "Original---> Encoded:\n",
            "  no -> 0\n",
            "  yes -> 1\n",
            "\n",
            "\n",
            "Feature: urine-pushing\n",
            "Original---> Encoded:\n",
            "  no -> 0\n",
            "  yes -> 1\n",
            "\n",
            "\n",
            "Feature: micturition-pains\n",
            "Original---> Encoded:\n",
            "  no -> 0\n",
            "  yes -> 1\n",
            "\n",
            "\n",
            "Feature: burning-urethra\n",
            "Original---> Encoded:\n",
            "  no -> 0\n",
            "  yes -> 1\n",
            "\n",
            "\n",
            "Feature: bladder-inflammation\n",
            "Original---> Encoded:\n",
            "  no -> 0\n",
            "  yes -> 1\n",
            "\n",
            "\n",
            "Feature: nephritis\n",
            "Original---> Encoded:\n",
            "  no -> 0\n",
            "  yes -> 1\n",
            "\n",
            "\n",
            "Feature: symptom_count\n",
            "Original---> Encoded:\n",
            "  0 -> 0\n",
            "  1 -> 1\n",
            "  2 -> 2\n",
            "  3 -> 3\n",
            "  4 -> 4\n",
            "  5 -> 5\n",
            "\n",
            "\n"
          ]
        }
      ]
    },
    {
      "cell_type": "code",
      "source": [
        "print(data_encoded.head())"
      ],
      "metadata": {
        "colab": {
          "base_uri": "https://localhost:8080/"
        },
        "collapsed": true,
        "id": "CubEx1FtnSCY",
        "outputId": "1f612680-1cc8-47ce-b625-fa1855ab5829"
      },
      "execution_count": null,
      "outputs": [
        {
          "output_type": "stream",
          "name": "stdout",
          "text": [
            "   temperature  nausea  lumbar-pain  urine-pushing  micturition-pains  \\\n",
            "0            1       0            1              0                  0   \n",
            "1            1       0            0              1                  1   \n",
            "2            1       0            1              0                  0   \n",
            "3            1       0            0              1                  1   \n",
            "4            1       0            1              0                  0   \n",
            "\n",
            "   burning-urethra  bladder-inflammation  nephritis  symptom_count  \n",
            "0                0                     0          0              1  \n",
            "1                1                     1          0              3  \n",
            "2                0                     0          0              1  \n",
            "3                1                     1          0              3  \n",
            "4                0                     0          0              1  \n"
          ]
        }
      ]
    },
    {
      "cell_type": "markdown",
      "source": [
        "Define target variables\n",
        "y1 = bladder inflammation\n",
        "y2 = nephritis"
      ],
      "metadata": {
        "id": "DPJi64YynrLn"
      }
    },
    {
      "cell_type": "code",
      "source": [
        "x = data_encoded.drop(['bladder-inflammation', 'nephritis'], axis=1)\n",
        "y1 = data_encoded['bladder-inflammation']\n",
        "y2 = data_encoded['nephritis']"
      ],
      "metadata": {
        "id": "iPAWGytcnjVo"
      },
      "execution_count": null,
      "outputs": []
    }
  ]
}