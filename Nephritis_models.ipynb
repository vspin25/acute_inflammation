{
  "nbformat": 4,
  "nbformat_minor": 0,
  "metadata": {
    "colab": {
      "provenance": [],
      "collapsed_sections": [
        "UphHF72cYJFg"
      ],
      "authorship_tag": "ABX9TyP03KE4HKd3cn5FxTCyqFaQ",
      "include_colab_link": true
    },
    "kernelspec": {
      "name": "python3",
      "display_name": "Python 3"
    },
    "language_info": {
      "name": "python"
    }
  },
  "cells": [
    {
      "cell_type": "markdown",
      "metadata": {
        "id": "view-in-github",
        "colab_type": "text"
      },
      "source": [
        "<a href=\"https://colab.research.google.com/github/vspin25/acute_inflammation/blob/main/Nephritis_models.ipynb\" target=\"_parent\"><img src=\"https://colab.research.google.com/assets/colab-badge.svg\" alt=\"Open In Colab\"/></a>"
      ]
    },
    {
      "cell_type": "markdown",
      "source": [
        "# **Acute Inflammations (NEPHRITIS)**\n",
        "Dataset https://archive.ics.uci.edu/dataset/184/acute+inflammations"
      ],
      "metadata": {
        "id": "rW4IY7K-W4Tc"
      }
    },
    {
      "cell_type": "markdown",
      "source": [
        "Libraries"
      ],
      "metadata": {
        "id": "QjQSDxpRXR3u"
      }
    },
    {
      "cell_type": "code",
      "source": [
        "import pandas as pd\n",
        "from google.colab import files\n",
        "from sklearn.preprocessing import LabelEncoder\n",
        "from sklearn.model_selection import train_test_split\n",
        "from sklearn.ensemble import RandomForestClassifier\n",
        "from sklearn.tree import DecisionTreeClassifier\n",
        "from sklearn.metrics import confusion_matrix\n",
        "from sklearn.model_selection import cross_validate\n",
        "from sklearn.metrics import accuracy_score, make_scorer, precision_score, recall_score, f1_score, roc_auc_score\n",
        "from sklearn.model_selection import cross_val_score\n",
        "import matplotlib.pyplot as plt\n",
        "import seaborn as sns\n",
        "from sklearn.model_selection import KFold\n",
        "import numpy as np\n",
        "from sklearn.tree import plot_tree"
      ],
      "metadata": {
        "id": "2VThJiukXUbL"
      },
      "execution_count": null,
      "outputs": []
    },
    {
      "cell_type": "markdown",
      "source": [
        "Dataset"
      ],
      "metadata": {
        "id": "Bn68-rF1Xcai"
      }
    },
    {
      "cell_type": "code",
      "source": [
        "uploaded = files.upload()"
      ],
      "metadata": {
        "colab": {
          "base_uri": "https://localhost:8080/",
          "height": 74
        },
        "id": "uHfC5__6XeXQ",
        "outputId": "3654a8a8-ac21-44ea-8283-79457dc13306"
      },
      "execution_count": null,
      "outputs": [
        {
          "output_type": "display_data",
          "data": {
            "text/plain": [
              "<IPython.core.display.HTML object>"
            ],
            "text/html": [
              "\n",
              "     <input type=\"file\" id=\"files-77a93468-446b-4183-8711-3b7291ab6d12\" name=\"files[]\" multiple disabled\n",
              "        style=\"border:none\" />\n",
              "     <output id=\"result-77a93468-446b-4183-8711-3b7291ab6d12\">\n",
              "      Upload widget is only available when the cell has been executed in the\n",
              "      current browser session. Please rerun this cell to enable.\n",
              "      </output>\n",
              "      <script>// Copyright 2017 Google LLC\n",
              "//\n",
              "// Licensed under the Apache License, Version 2.0 (the \"License\");\n",
              "// you may not use this file except in compliance with the License.\n",
              "// You may obtain a copy of the License at\n",
              "//\n",
              "//      http://www.apache.org/licenses/LICENSE-2.0\n",
              "//\n",
              "// Unless required by applicable law or agreed to in writing, software\n",
              "// distributed under the License is distributed on an \"AS IS\" BASIS,\n",
              "// WITHOUT WARRANTIES OR CONDITIONS OF ANY KIND, either express or implied.\n",
              "// See the License for the specific language governing permissions and\n",
              "// limitations under the License.\n",
              "\n",
              "/**\n",
              " * @fileoverview Helpers for google.colab Python module.\n",
              " */\n",
              "(function(scope) {\n",
              "function span(text, styleAttributes = {}) {\n",
              "  const element = document.createElement('span');\n",
              "  element.textContent = text;\n",
              "  for (const key of Object.keys(styleAttributes)) {\n",
              "    element.style[key] = styleAttributes[key];\n",
              "  }\n",
              "  return element;\n",
              "}\n",
              "\n",
              "// Max number of bytes which will be uploaded at a time.\n",
              "const MAX_PAYLOAD_SIZE = 100 * 1024;\n",
              "\n",
              "function _uploadFiles(inputId, outputId) {\n",
              "  const steps = uploadFilesStep(inputId, outputId);\n",
              "  const outputElement = document.getElementById(outputId);\n",
              "  // Cache steps on the outputElement to make it available for the next call\n",
              "  // to uploadFilesContinue from Python.\n",
              "  outputElement.steps = steps;\n",
              "\n",
              "  return _uploadFilesContinue(outputId);\n",
              "}\n",
              "\n",
              "// This is roughly an async generator (not supported in the browser yet),\n",
              "// where there are multiple asynchronous steps and the Python side is going\n",
              "// to poll for completion of each step.\n",
              "// This uses a Promise to block the python side on completion of each step,\n",
              "// then passes the result of the previous step as the input to the next step.\n",
              "function _uploadFilesContinue(outputId) {\n",
              "  const outputElement = document.getElementById(outputId);\n",
              "  const steps = outputElement.steps;\n",
              "\n",
              "  const next = steps.next(outputElement.lastPromiseValue);\n",
              "  return Promise.resolve(next.value.promise).then((value) => {\n",
              "    // Cache the last promise value to make it available to the next\n",
              "    // step of the generator.\n",
              "    outputElement.lastPromiseValue = value;\n",
              "    return next.value.response;\n",
              "  });\n",
              "}\n",
              "\n",
              "/**\n",
              " * Generator function which is called between each async step of the upload\n",
              " * process.\n",
              " * @param {string} inputId Element ID of the input file picker element.\n",
              " * @param {string} outputId Element ID of the output display.\n",
              " * @return {!Iterable<!Object>} Iterable of next steps.\n",
              " */\n",
              "function* uploadFilesStep(inputId, outputId) {\n",
              "  const inputElement = document.getElementById(inputId);\n",
              "  inputElement.disabled = false;\n",
              "\n",
              "  const outputElement = document.getElementById(outputId);\n",
              "  outputElement.innerHTML = '';\n",
              "\n",
              "  const pickedPromise = new Promise((resolve) => {\n",
              "    inputElement.addEventListener('change', (e) => {\n",
              "      resolve(e.target.files);\n",
              "    });\n",
              "  });\n",
              "\n",
              "  const cancel = document.createElement('button');\n",
              "  inputElement.parentElement.appendChild(cancel);\n",
              "  cancel.textContent = 'Cancel upload';\n",
              "  const cancelPromise = new Promise((resolve) => {\n",
              "    cancel.onclick = () => {\n",
              "      resolve(null);\n",
              "    };\n",
              "  });\n",
              "\n",
              "  // Wait for the user to pick the files.\n",
              "  const files = yield {\n",
              "    promise: Promise.race([pickedPromise, cancelPromise]),\n",
              "    response: {\n",
              "      action: 'starting',\n",
              "    }\n",
              "  };\n",
              "\n",
              "  cancel.remove();\n",
              "\n",
              "  // Disable the input element since further picks are not allowed.\n",
              "  inputElement.disabled = true;\n",
              "\n",
              "  if (!files) {\n",
              "    return {\n",
              "      response: {\n",
              "        action: 'complete',\n",
              "      }\n",
              "    };\n",
              "  }\n",
              "\n",
              "  for (const file of files) {\n",
              "    const li = document.createElement('li');\n",
              "    li.append(span(file.name, {fontWeight: 'bold'}));\n",
              "    li.append(span(\n",
              "        `(${file.type || 'n/a'}) - ${file.size} bytes, ` +\n",
              "        `last modified: ${\n",
              "            file.lastModifiedDate ? file.lastModifiedDate.toLocaleDateString() :\n",
              "                                    'n/a'} - `));\n",
              "    const percent = span('0% done');\n",
              "    li.appendChild(percent);\n",
              "\n",
              "    outputElement.appendChild(li);\n",
              "\n",
              "    const fileDataPromise = new Promise((resolve) => {\n",
              "      const reader = new FileReader();\n",
              "      reader.onload = (e) => {\n",
              "        resolve(e.target.result);\n",
              "      };\n",
              "      reader.readAsArrayBuffer(file);\n",
              "    });\n",
              "    // Wait for the data to be ready.\n",
              "    let fileData = yield {\n",
              "      promise: fileDataPromise,\n",
              "      response: {\n",
              "        action: 'continue',\n",
              "      }\n",
              "    };\n",
              "\n",
              "    // Use a chunked sending to avoid message size limits. See b/62115660.\n",
              "    let position = 0;\n",
              "    do {\n",
              "      const length = Math.min(fileData.byteLength - position, MAX_PAYLOAD_SIZE);\n",
              "      const chunk = new Uint8Array(fileData, position, length);\n",
              "      position += length;\n",
              "\n",
              "      const base64 = btoa(String.fromCharCode.apply(null, chunk));\n",
              "      yield {\n",
              "        response: {\n",
              "          action: 'append',\n",
              "          file: file.name,\n",
              "          data: base64,\n",
              "        },\n",
              "      };\n",
              "\n",
              "      let percentDone = fileData.byteLength === 0 ?\n",
              "          100 :\n",
              "          Math.round((position / fileData.byteLength) * 100);\n",
              "      percent.textContent = `${percentDone}% done`;\n",
              "\n",
              "    } while (position < fileData.byteLength);\n",
              "  }\n",
              "\n",
              "  // All done.\n",
              "  yield {\n",
              "    response: {\n",
              "      action: 'complete',\n",
              "    }\n",
              "  };\n",
              "}\n",
              "\n",
              "scope.google = scope.google || {};\n",
              "scope.google.colab = scope.google.colab || {};\n",
              "scope.google.colab._files = {\n",
              "  _uploadFiles,\n",
              "  _uploadFilesContinue,\n",
              "};\n",
              "})(self);\n",
              "</script> "
            ]
          },
          "metadata": {}
        },
        {
          "output_type": "stream",
          "name": "stdout",
          "text": [
            "Saving Acute_Inflammations.xlsx to Acute_Inflammations.xlsx\n"
          ]
        }
      ]
    },
    {
      "cell_type": "code",
      "source": [
        "dataset =pd.read_excel('Acute_Inflammations.xlsx')"
      ],
      "metadata": {
        "id": "35iJvwMiXxL3"
      },
      "execution_count": null,
      "outputs": []
    },
    {
      "cell_type": "markdown",
      "source": [
        "# Preprocess"
      ],
      "metadata": {
        "id": "UphHF72cYJFg"
      }
    },
    {
      "cell_type": "code",
      "source": [
        "dataset['temperature']=dataset['temperature'].str.replace(',', '.')\n",
        "\n",
        "dataset['temperature'] = pd.to_numeric(dataset['temperature'])\n",
        "\n",
        "print(dataset['temperature'].head())"
      ],
      "metadata": {
        "colab": {
          "base_uri": "https://localhost:8080/"
        },
        "id": "4_LEefHKYKZ_",
        "outputId": "8b88fdf9-1923-497b-b9ed-4bbf2eeb0159",
        "collapsed": true
      },
      "execution_count": null,
      "outputs": [
        {
          "output_type": "stream",
          "name": "stdout",
          "text": [
            "0    35.5\n",
            "1    35.9\n",
            "2    35.9\n",
            "3    36.0\n",
            "4    36.0\n",
            "Name: temperature, dtype: float64\n"
          ]
        }
      ]
    },
    {
      "cell_type": "markdown",
      "source": [
        "Change temperature to categorical variable\n",
        "\n",
        "hypothermia: less than 36.2 (not including 36.2)\n",
        "normal: 36.2-37.4\n",
        "fever: more than 37.5 (including 37.5)"
      ],
      "metadata": {
        "id": "BF_ruGwmYqHX"
      }
    },
    {
      "cell_type": "code",
      "source": [
        "bins = [0, 36.2, 37.5, 42]\n",
        "labels = ['hypothermia', 'normal', 'fever']\n",
        "dataset['temperature'] = pd.cut(dataset['temperature'], bins=bins, labels=labels, right =False)\n",
        "print(dataset['temperature'].unique())"
      ],
      "metadata": {
        "colab": {
          "base_uri": "https://localhost:8080/"
        },
        "id": "ApUXcIJ4YvOT",
        "outputId": "97950c16-b595-4d8e-9c6a-0cebe8c64eee"
      },
      "execution_count": null,
      "outputs": [
        {
          "output_type": "stream",
          "name": "stdout",
          "text": [
            "['hypothermia', 'normal', 'fever']\n",
            "Categories (3, object): ['hypothermia' < 'normal' < 'fever']\n"
          ]
        }
      ]
    },
    {
      "cell_type": "markdown",
      "source": [
        "Create new feature \"Symptom count\""
      ],
      "metadata": {
        "id": "zs2DFNbUb0xX"
      }
    },
    {
      "cell_type": "code",
      "source": [
        "dataset['symptom_count']=dataset[['nausea', 'lumbar-pain', 'urine-pushing','micturition-pains','burning-urethra']].apply(lambda x: (x == 'yes').sum(), axis=1)\n",
        "print(dataset.head())"
      ],
      "metadata": {
        "colab": {
          "base_uri": "https://localhost:8080/"
        },
        "id": "YqdP9nfGbzrX",
        "outputId": "5560d83a-32ff-4d7e-ee50-6aa8c0a52ca5",
        "collapsed": true
      },
      "execution_count": null,
      "outputs": [
        {
          "output_type": "stream",
          "name": "stdout",
          "text": [
            "   temperature nausea lumbar-pain urine-pushing micturition-pains  \\\n",
            "0  hypothermia     no         yes            no                no   \n",
            "1  hypothermia     no          no           yes               yes   \n",
            "2  hypothermia     no         yes            no                no   \n",
            "3  hypothermia     no          no           yes               yes   \n",
            "4  hypothermia     no         yes            no                no   \n",
            "\n",
            "  burning-urethra bladder-inflammation nephritis  symptom_count  \n",
            "0              no                   no        no              1  \n",
            "1             yes                  yes        no              3  \n",
            "2              no                   no        no              1  \n",
            "3             yes                  yes        no              3  \n",
            "4              no                   no        no              1  \n"
          ]
        }
      ]
    },
    {
      "cell_type": "markdown",
      "source": [
        "Encode columns (0,1,2)"
      ],
      "metadata": {
        "id": "4RZMrsgXneK5"
      }
    },
    {
      "cell_type": "code",
      "source": [
        "new_label=LabelEncoder()\n",
        "data_encoded = dataset.copy()\n",
        "\n",
        "label_mappings ={}\n",
        "\n",
        "for col in data_encoded.columns:\n",
        "    new_label.fit(data_encoded[col])\n",
        "    data_encoded[col] = new_label.fit_transform(data_encoded[col])\n",
        "    label_mappings[col] = dict(zip(new_label.classes_, new_label.transform(new_label.classes_)))\n",
        "\n",
        "# Mapping values\n",
        "for feature, mapping in label_mappings.items():\n",
        "    print(f\"Feature:{feature}\")\n",
        "    print(\"Original---> Encoded:\")\n",
        "    for original, encoded in mapping.items():\n",
        "        print(f\"  {original} ---> {encoded}\")\n",
        "    print(\"\\n\")"
      ],
      "metadata": {
        "colab": {
          "base_uri": "https://localhost:8080/"
        },
        "collapsed": true,
        "id": "1rksMlsnmmiH",
        "outputId": "a2b6f6ab-7ba9-4365-d37f-e5d5d7e97b92"
      },
      "execution_count": null,
      "outputs": [
        {
          "output_type": "stream",
          "name": "stdout",
          "text": [
            "Feature:temperature\n",
            "Original---> Encoded:\n",
            "  fever ---> 0\n",
            "  hypothermia ---> 1\n",
            "  normal ---> 2\n",
            "\n",
            "\n",
            "Feature:nausea\n",
            "Original---> Encoded:\n",
            "  no ---> 0\n",
            "  yes ---> 1\n",
            "\n",
            "\n",
            "Feature:lumbar-pain\n",
            "Original---> Encoded:\n",
            "  no ---> 0\n",
            "  yes ---> 1\n",
            "\n",
            "\n",
            "Feature:urine-pushing\n",
            "Original---> Encoded:\n",
            "  no ---> 0\n",
            "  yes ---> 1\n",
            "\n",
            "\n",
            "Feature:micturition-pains\n",
            "Original---> Encoded:\n",
            "  no ---> 0\n",
            "  yes ---> 1\n",
            "\n",
            "\n",
            "Feature:burning-urethra\n",
            "Original---> Encoded:\n",
            "  no ---> 0\n",
            "  yes ---> 1\n",
            "\n",
            "\n",
            "Feature:bladder-inflammation\n",
            "Original---> Encoded:\n",
            "  no ---> 0\n",
            "  yes ---> 1\n",
            "\n",
            "\n",
            "Feature:nephritis\n",
            "Original---> Encoded:\n",
            "  no ---> 0\n",
            "  yes ---> 1\n",
            "\n",
            "\n",
            "Feature:symptom_count\n",
            "Original---> Encoded:\n",
            "  0 ---> 0\n",
            "  1 ---> 1\n",
            "  2 ---> 2\n",
            "  3 ---> 3\n",
            "  4 ---> 4\n",
            "  5 ---> 5\n",
            "\n",
            "\n"
          ]
        }
      ]
    },
    {
      "cell_type": "code",
      "source": [
        "print(data_encoded.head())"
      ],
      "metadata": {
        "id": "CubEx1FtnSCY",
        "colab": {
          "base_uri": "https://localhost:8080/"
        },
        "outputId": "341d7b2c-0107-4090-9ff0-ec3d6477b3ea"
      },
      "execution_count": null,
      "outputs": [
        {
          "output_type": "stream",
          "name": "stdout",
          "text": [
            "   temperature  nausea  lumbar-pain  urine-pushing  micturition-pains  \\\n",
            "0            1       0            1              0                  0   \n",
            "1            1       0            0              1                  1   \n",
            "2            1       0            1              0                  0   \n",
            "3            1       0            0              1                  1   \n",
            "4            1       0            1              0                  0   \n",
            "\n",
            "   burning-urethra  bladder-inflammation  nephritis  symptom_count  \n",
            "0                0                     0          0              1  \n",
            "1                1                     1          0              3  \n",
            "2                0                     0          0              1  \n",
            "3                1                     1          0              3  \n",
            "4                0                     0          0              1  \n"
          ]
        }
      ]
    },
    {
      "cell_type": "markdown",
      "source": [
        "# Variables"
      ],
      "metadata": {
        "id": "YGQUG9--D7YF"
      }
    },
    {
      "cell_type": "markdown",
      "source": [
        "Define target variables\n",
        "\n",
        "y1 = bladder inflammation\n",
        "\n",
        "y2 = nephritis"
      ],
      "metadata": {
        "id": "DPJi64YynrLn"
      }
    },
    {
      "cell_type": "code",
      "source": [
        "x = data_encoded.drop(['bladder-inflammation', 'nephritis'], axis=1)\n",
        "y1 = data_encoded['bladder-inflammation']\n",
        "y2 = data_encoded['nephritis']"
      ],
      "metadata": {
        "id": "iPAWGytcnjVo"
      },
      "execution_count": null,
      "outputs": []
    },
    {
      "cell_type": "code",
      "source": [
        "x_train, x_test, y1_train, y1_test = train_test_split(x, y1, test_size=0.3, random_state=42)\n",
        "x_train, x_test, y2_train, y2_test = train_test_split(x, y2, test_size=0.3, random_state=42)"
      ],
      "metadata": {
        "id": "NHV3HEyDsI5J"
      },
      "execution_count": null,
      "outputs": []
    },
    {
      "cell_type": "code",
      "source": [
        "print(f\"Training set X:{x_train.shape[0]}\")\n",
        "print(f\"Testing set X:{x_test.shape[0]}\")\n",
        "print(\"\\n\")\n",
        "\n",
        "print(f\"Training set Y1:{y1_train.shape[0]}\")\n",
        "print(f\"Testing set Y1:{y1_test.shape[0]}\")\n",
        "print(\"\\n\")\n",
        "\n",
        "print(f\"Training set Y2:{y2_train.shape[0]}\")\n",
        "print(f\"Testing set Y2:{y2_test.shape[0]}\")\n",
        "print(\"\\n\")\n",
        "\n",
        "#Features\n",
        "print(f\"Number of features: {x_train.shape[1]}\")"
      ],
      "metadata": {
        "colab": {
          "base_uri": "https://localhost:8080/"
        },
        "id": "ldWNnHSarBIP",
        "outputId": "44208155-75aa-4196-badb-21c44f015411",
        "collapsed": true
      },
      "execution_count": null,
      "outputs": [
        {
          "output_type": "stream",
          "name": "stdout",
          "text": [
            "Training set X:84\n",
            "Testing set X:36\n",
            "\n",
            "\n",
            "Training set Y1:84\n",
            "Testing set Y1:36\n",
            "\n",
            "\n",
            "Training set Y2:84\n",
            "Testing set Y2:36\n",
            "\n",
            "\n",
            "Number of features: 7\n"
          ]
        }
      ]
    },
    {
      "cell_type": "markdown",
      "source": [
        "**VARIABLES**"
      ],
      "metadata": {
        "id": "jYlshwfMXlis"
      }
    },
    {
      "cell_type": "code",
      "source": [
        "x=data_encoded.drop(['bladder-inflammation', 'nephritis'], axis=1) #complete data (x)\n",
        "x_simple= x.drop('symptom_count', axis=1) # complete \"x\" without symptom count for cross validation\n",
        "x_simple_train= x_train.drop('symptom_count', axis=1) # x_train set NO symtom count\n",
        "x_simple_test= x_test.drop('symptom_count', axis=1) # x_test set NO symtom count\n",
        "\n",
        "y= y2 #Complete data (y)\n",
        "y_train= y2_train\n",
        "y_test= y2_test\n",
        "\n",
        "metrics = ['accuracy', 'precision', 'recall', 'f1', 'roc_auc'] #list of metrics\n",
        "\n",
        "# Number of folds = 5\n",
        "kfold = KFold(n_splits=5, shuffle= True, random_state= 42)"
      ],
      "metadata": {
        "id": "koFhPjSZKi6g"
      },
      "execution_count": null,
      "outputs": []
    },
    {
      "cell_type": "markdown",
      "source": [
        "# Random Forest Model 1"
      ],
      "metadata": {
        "id": "L2sIt6FTxTCO"
      }
    },
    {
      "cell_type": "markdown",
      "source": [
        "**RF model 1 with default parameters (NO symptom count)**"
      ],
      "metadata": {
        "id": "PZsXH29gLTDD"
      }
    },
    {
      "cell_type": "code",
      "source": [
        "RF1 = RandomForestClassifier(random_state= 42)"
      ],
      "metadata": {
        "id": "wqBvcUUkTuCL"
      },
      "execution_count": null,
      "outputs": []
    },
    {
      "cell_type": "markdown",
      "source": [
        "Train using training and testing sets"
      ],
      "metadata": {
        "id": "SlekXdBdPccs"
      }
    },
    {
      "cell_type": "code",
      "source": [
        "RF1.fit(x_simple_train, y_train)"
      ],
      "metadata": {
        "colab": {
          "base_uri": "https://localhost:8080/",
          "height": 80
        },
        "id": "XT24t24cKa2s",
        "outputId": "79d8408d-b21a-4c4a-9ae9-2b309ceca159"
      },
      "execution_count": null,
      "outputs": [
        {
          "output_type": "execute_result",
          "data": {
            "text/plain": [
              "RandomForestClassifier(random_state=42)"
            ],
            "text/html": [
              "<style>#sk-container-id-1 {\n",
              "  /* Definition of color scheme common for light and dark mode */\n",
              "  --sklearn-color-text: #000;\n",
              "  --sklearn-color-text-muted: #666;\n",
              "  --sklearn-color-line: gray;\n",
              "  /* Definition of color scheme for unfitted estimators */\n",
              "  --sklearn-color-unfitted-level-0: #fff5e6;\n",
              "  --sklearn-color-unfitted-level-1: #f6e4d2;\n",
              "  --sklearn-color-unfitted-level-2: #ffe0b3;\n",
              "  --sklearn-color-unfitted-level-3: chocolate;\n",
              "  /* Definition of color scheme for fitted estimators */\n",
              "  --sklearn-color-fitted-level-0: #f0f8ff;\n",
              "  --sklearn-color-fitted-level-1: #d4ebff;\n",
              "  --sklearn-color-fitted-level-2: #b3dbfd;\n",
              "  --sklearn-color-fitted-level-3: cornflowerblue;\n",
              "\n",
              "  /* Specific color for light theme */\n",
              "  --sklearn-color-text-on-default-background: var(--sg-text-color, var(--theme-code-foreground, var(--jp-content-font-color1, black)));\n",
              "  --sklearn-color-background: var(--sg-background-color, var(--theme-background, var(--jp-layout-color0, white)));\n",
              "  --sklearn-color-border-box: var(--sg-text-color, var(--theme-code-foreground, var(--jp-content-font-color1, black)));\n",
              "  --sklearn-color-icon: #696969;\n",
              "\n",
              "  @media (prefers-color-scheme: dark) {\n",
              "    /* Redefinition of color scheme for dark theme */\n",
              "    --sklearn-color-text-on-default-background: var(--sg-text-color, var(--theme-code-foreground, var(--jp-content-font-color1, white)));\n",
              "    --sklearn-color-background: var(--sg-background-color, var(--theme-background, var(--jp-layout-color0, #111)));\n",
              "    --sklearn-color-border-box: var(--sg-text-color, var(--theme-code-foreground, var(--jp-content-font-color1, white)));\n",
              "    --sklearn-color-icon: #878787;\n",
              "  }\n",
              "}\n",
              "\n",
              "#sk-container-id-1 {\n",
              "  color: var(--sklearn-color-text);\n",
              "}\n",
              "\n",
              "#sk-container-id-1 pre {\n",
              "  padding: 0;\n",
              "}\n",
              "\n",
              "#sk-container-id-1 input.sk-hidden--visually {\n",
              "  border: 0;\n",
              "  clip: rect(1px 1px 1px 1px);\n",
              "  clip: rect(1px, 1px, 1px, 1px);\n",
              "  height: 1px;\n",
              "  margin: -1px;\n",
              "  overflow: hidden;\n",
              "  padding: 0;\n",
              "  position: absolute;\n",
              "  width: 1px;\n",
              "}\n",
              "\n",
              "#sk-container-id-1 div.sk-dashed-wrapped {\n",
              "  border: 1px dashed var(--sklearn-color-line);\n",
              "  margin: 0 0.4em 0.5em 0.4em;\n",
              "  box-sizing: border-box;\n",
              "  padding-bottom: 0.4em;\n",
              "  background-color: var(--sklearn-color-background);\n",
              "}\n",
              "\n",
              "#sk-container-id-1 div.sk-container {\n",
              "  /* jupyter's `normalize.less` sets `[hidden] { display: none; }`\n",
              "     but bootstrap.min.css set `[hidden] { display: none !important; }`\n",
              "     so we also need the `!important` here to be able to override the\n",
              "     default hidden behavior on the sphinx rendered scikit-learn.org.\n",
              "     See: https://github.com/scikit-learn/scikit-learn/issues/21755 */\n",
              "  display: inline-block !important;\n",
              "  position: relative;\n",
              "}\n",
              "\n",
              "#sk-container-id-1 div.sk-text-repr-fallback {\n",
              "  display: none;\n",
              "}\n",
              "\n",
              "div.sk-parallel-item,\n",
              "div.sk-serial,\n",
              "div.sk-item {\n",
              "  /* draw centered vertical line to link estimators */\n",
              "  background-image: linear-gradient(var(--sklearn-color-text-on-default-background), var(--sklearn-color-text-on-default-background));\n",
              "  background-size: 2px 100%;\n",
              "  background-repeat: no-repeat;\n",
              "  background-position: center center;\n",
              "}\n",
              "\n",
              "/* Parallel-specific style estimator block */\n",
              "\n",
              "#sk-container-id-1 div.sk-parallel-item::after {\n",
              "  content: \"\";\n",
              "  width: 100%;\n",
              "  border-bottom: 2px solid var(--sklearn-color-text-on-default-background);\n",
              "  flex-grow: 1;\n",
              "}\n",
              "\n",
              "#sk-container-id-1 div.sk-parallel {\n",
              "  display: flex;\n",
              "  align-items: stretch;\n",
              "  justify-content: center;\n",
              "  background-color: var(--sklearn-color-background);\n",
              "  position: relative;\n",
              "}\n",
              "\n",
              "#sk-container-id-1 div.sk-parallel-item {\n",
              "  display: flex;\n",
              "  flex-direction: column;\n",
              "}\n",
              "\n",
              "#sk-container-id-1 div.sk-parallel-item:first-child::after {\n",
              "  align-self: flex-end;\n",
              "  width: 50%;\n",
              "}\n",
              "\n",
              "#sk-container-id-1 div.sk-parallel-item:last-child::after {\n",
              "  align-self: flex-start;\n",
              "  width: 50%;\n",
              "}\n",
              "\n",
              "#sk-container-id-1 div.sk-parallel-item:only-child::after {\n",
              "  width: 0;\n",
              "}\n",
              "\n",
              "/* Serial-specific style estimator block */\n",
              "\n",
              "#sk-container-id-1 div.sk-serial {\n",
              "  display: flex;\n",
              "  flex-direction: column;\n",
              "  align-items: center;\n",
              "  background-color: var(--sklearn-color-background);\n",
              "  padding-right: 1em;\n",
              "  padding-left: 1em;\n",
              "}\n",
              "\n",
              "\n",
              "/* Toggleable style: style used for estimator/Pipeline/ColumnTransformer box that is\n",
              "clickable and can be expanded/collapsed.\n",
              "- Pipeline and ColumnTransformer use this feature and define the default style\n",
              "- Estimators will overwrite some part of the style using the `sk-estimator` class\n",
              "*/\n",
              "\n",
              "/* Pipeline and ColumnTransformer style (default) */\n",
              "\n",
              "#sk-container-id-1 div.sk-toggleable {\n",
              "  /* Default theme specific background. It is overwritten whether we have a\n",
              "  specific estimator or a Pipeline/ColumnTransformer */\n",
              "  background-color: var(--sklearn-color-background);\n",
              "}\n",
              "\n",
              "/* Toggleable label */\n",
              "#sk-container-id-1 label.sk-toggleable__label {\n",
              "  cursor: pointer;\n",
              "  display: flex;\n",
              "  width: 100%;\n",
              "  margin-bottom: 0;\n",
              "  padding: 0.5em;\n",
              "  box-sizing: border-box;\n",
              "  text-align: center;\n",
              "  align-items: start;\n",
              "  justify-content: space-between;\n",
              "  gap: 0.5em;\n",
              "}\n",
              "\n",
              "#sk-container-id-1 label.sk-toggleable__label .caption {\n",
              "  font-size: 0.6rem;\n",
              "  font-weight: lighter;\n",
              "  color: var(--sklearn-color-text-muted);\n",
              "}\n",
              "\n",
              "#sk-container-id-1 label.sk-toggleable__label-arrow:before {\n",
              "  /* Arrow on the left of the label */\n",
              "  content: \"▸\";\n",
              "  float: left;\n",
              "  margin-right: 0.25em;\n",
              "  color: var(--sklearn-color-icon);\n",
              "}\n",
              "\n",
              "#sk-container-id-1 label.sk-toggleable__label-arrow:hover:before {\n",
              "  color: var(--sklearn-color-text);\n",
              "}\n",
              "\n",
              "/* Toggleable content - dropdown */\n",
              "\n",
              "#sk-container-id-1 div.sk-toggleable__content {\n",
              "  max-height: 0;\n",
              "  max-width: 0;\n",
              "  overflow: hidden;\n",
              "  text-align: left;\n",
              "  /* unfitted */\n",
              "  background-color: var(--sklearn-color-unfitted-level-0);\n",
              "}\n",
              "\n",
              "#sk-container-id-1 div.sk-toggleable__content.fitted {\n",
              "  /* fitted */\n",
              "  background-color: var(--sklearn-color-fitted-level-0);\n",
              "}\n",
              "\n",
              "#sk-container-id-1 div.sk-toggleable__content pre {\n",
              "  margin: 0.2em;\n",
              "  border-radius: 0.25em;\n",
              "  color: var(--sklearn-color-text);\n",
              "  /* unfitted */\n",
              "  background-color: var(--sklearn-color-unfitted-level-0);\n",
              "}\n",
              "\n",
              "#sk-container-id-1 div.sk-toggleable__content.fitted pre {\n",
              "  /* unfitted */\n",
              "  background-color: var(--sklearn-color-fitted-level-0);\n",
              "}\n",
              "\n",
              "#sk-container-id-1 input.sk-toggleable__control:checked~div.sk-toggleable__content {\n",
              "  /* Expand drop-down */\n",
              "  max-height: 200px;\n",
              "  max-width: 100%;\n",
              "  overflow: auto;\n",
              "}\n",
              "\n",
              "#sk-container-id-1 input.sk-toggleable__control:checked~label.sk-toggleable__label-arrow:before {\n",
              "  content: \"▾\";\n",
              "}\n",
              "\n",
              "/* Pipeline/ColumnTransformer-specific style */\n",
              "\n",
              "#sk-container-id-1 div.sk-label input.sk-toggleable__control:checked~label.sk-toggleable__label {\n",
              "  color: var(--sklearn-color-text);\n",
              "  background-color: var(--sklearn-color-unfitted-level-2);\n",
              "}\n",
              "\n",
              "#sk-container-id-1 div.sk-label.fitted input.sk-toggleable__control:checked~label.sk-toggleable__label {\n",
              "  background-color: var(--sklearn-color-fitted-level-2);\n",
              "}\n",
              "\n",
              "/* Estimator-specific style */\n",
              "\n",
              "/* Colorize estimator box */\n",
              "#sk-container-id-1 div.sk-estimator input.sk-toggleable__control:checked~label.sk-toggleable__label {\n",
              "  /* unfitted */\n",
              "  background-color: var(--sklearn-color-unfitted-level-2);\n",
              "}\n",
              "\n",
              "#sk-container-id-1 div.sk-estimator.fitted input.sk-toggleable__control:checked~label.sk-toggleable__label {\n",
              "  /* fitted */\n",
              "  background-color: var(--sklearn-color-fitted-level-2);\n",
              "}\n",
              "\n",
              "#sk-container-id-1 div.sk-label label.sk-toggleable__label,\n",
              "#sk-container-id-1 div.sk-label label {\n",
              "  /* The background is the default theme color */\n",
              "  color: var(--sklearn-color-text-on-default-background);\n",
              "}\n",
              "\n",
              "/* On hover, darken the color of the background */\n",
              "#sk-container-id-1 div.sk-label:hover label.sk-toggleable__label {\n",
              "  color: var(--sklearn-color-text);\n",
              "  background-color: var(--sklearn-color-unfitted-level-2);\n",
              "}\n",
              "\n",
              "/* Label box, darken color on hover, fitted */\n",
              "#sk-container-id-1 div.sk-label.fitted:hover label.sk-toggleable__label.fitted {\n",
              "  color: var(--sklearn-color-text);\n",
              "  background-color: var(--sklearn-color-fitted-level-2);\n",
              "}\n",
              "\n",
              "/* Estimator label */\n",
              "\n",
              "#sk-container-id-1 div.sk-label label {\n",
              "  font-family: monospace;\n",
              "  font-weight: bold;\n",
              "  display: inline-block;\n",
              "  line-height: 1.2em;\n",
              "}\n",
              "\n",
              "#sk-container-id-1 div.sk-label-container {\n",
              "  text-align: center;\n",
              "}\n",
              "\n",
              "/* Estimator-specific */\n",
              "#sk-container-id-1 div.sk-estimator {\n",
              "  font-family: monospace;\n",
              "  border: 1px dotted var(--sklearn-color-border-box);\n",
              "  border-radius: 0.25em;\n",
              "  box-sizing: border-box;\n",
              "  margin-bottom: 0.5em;\n",
              "  /* unfitted */\n",
              "  background-color: var(--sklearn-color-unfitted-level-0);\n",
              "}\n",
              "\n",
              "#sk-container-id-1 div.sk-estimator.fitted {\n",
              "  /* fitted */\n",
              "  background-color: var(--sklearn-color-fitted-level-0);\n",
              "}\n",
              "\n",
              "/* on hover */\n",
              "#sk-container-id-1 div.sk-estimator:hover {\n",
              "  /* unfitted */\n",
              "  background-color: var(--sklearn-color-unfitted-level-2);\n",
              "}\n",
              "\n",
              "#sk-container-id-1 div.sk-estimator.fitted:hover {\n",
              "  /* fitted */\n",
              "  background-color: var(--sklearn-color-fitted-level-2);\n",
              "}\n",
              "\n",
              "/* Specification for estimator info (e.g. \"i\" and \"?\") */\n",
              "\n",
              "/* Common style for \"i\" and \"?\" */\n",
              "\n",
              ".sk-estimator-doc-link,\n",
              "a:link.sk-estimator-doc-link,\n",
              "a:visited.sk-estimator-doc-link {\n",
              "  float: right;\n",
              "  font-size: smaller;\n",
              "  line-height: 1em;\n",
              "  font-family: monospace;\n",
              "  background-color: var(--sklearn-color-background);\n",
              "  border-radius: 1em;\n",
              "  height: 1em;\n",
              "  width: 1em;\n",
              "  text-decoration: none !important;\n",
              "  margin-left: 0.5em;\n",
              "  text-align: center;\n",
              "  /* unfitted */\n",
              "  border: var(--sklearn-color-unfitted-level-1) 1pt solid;\n",
              "  color: var(--sklearn-color-unfitted-level-1);\n",
              "}\n",
              "\n",
              ".sk-estimator-doc-link.fitted,\n",
              "a:link.sk-estimator-doc-link.fitted,\n",
              "a:visited.sk-estimator-doc-link.fitted {\n",
              "  /* fitted */\n",
              "  border: var(--sklearn-color-fitted-level-1) 1pt solid;\n",
              "  color: var(--sklearn-color-fitted-level-1);\n",
              "}\n",
              "\n",
              "/* On hover */\n",
              "div.sk-estimator:hover .sk-estimator-doc-link:hover,\n",
              ".sk-estimator-doc-link:hover,\n",
              "div.sk-label-container:hover .sk-estimator-doc-link:hover,\n",
              ".sk-estimator-doc-link:hover {\n",
              "  /* unfitted */\n",
              "  background-color: var(--sklearn-color-unfitted-level-3);\n",
              "  color: var(--sklearn-color-background);\n",
              "  text-decoration: none;\n",
              "}\n",
              "\n",
              "div.sk-estimator.fitted:hover .sk-estimator-doc-link.fitted:hover,\n",
              ".sk-estimator-doc-link.fitted:hover,\n",
              "div.sk-label-container:hover .sk-estimator-doc-link.fitted:hover,\n",
              ".sk-estimator-doc-link.fitted:hover {\n",
              "  /* fitted */\n",
              "  background-color: var(--sklearn-color-fitted-level-3);\n",
              "  color: var(--sklearn-color-background);\n",
              "  text-decoration: none;\n",
              "}\n",
              "\n",
              "/* Span, style for the box shown on hovering the info icon */\n",
              ".sk-estimator-doc-link span {\n",
              "  display: none;\n",
              "  z-index: 9999;\n",
              "  position: relative;\n",
              "  font-weight: normal;\n",
              "  right: .2ex;\n",
              "  padding: .5ex;\n",
              "  margin: .5ex;\n",
              "  width: min-content;\n",
              "  min-width: 20ex;\n",
              "  max-width: 50ex;\n",
              "  color: var(--sklearn-color-text);\n",
              "  box-shadow: 2pt 2pt 4pt #999;\n",
              "  /* unfitted */\n",
              "  background: var(--sklearn-color-unfitted-level-0);\n",
              "  border: .5pt solid var(--sklearn-color-unfitted-level-3);\n",
              "}\n",
              "\n",
              ".sk-estimator-doc-link.fitted span {\n",
              "  /* fitted */\n",
              "  background: var(--sklearn-color-fitted-level-0);\n",
              "  border: var(--sklearn-color-fitted-level-3);\n",
              "}\n",
              "\n",
              ".sk-estimator-doc-link:hover span {\n",
              "  display: block;\n",
              "}\n",
              "\n",
              "/* \"?\"-specific style due to the `<a>` HTML tag */\n",
              "\n",
              "#sk-container-id-1 a.estimator_doc_link {\n",
              "  float: right;\n",
              "  font-size: 1rem;\n",
              "  line-height: 1em;\n",
              "  font-family: monospace;\n",
              "  background-color: var(--sklearn-color-background);\n",
              "  border-radius: 1rem;\n",
              "  height: 1rem;\n",
              "  width: 1rem;\n",
              "  text-decoration: none;\n",
              "  /* unfitted */\n",
              "  color: var(--sklearn-color-unfitted-level-1);\n",
              "  border: var(--sklearn-color-unfitted-level-1) 1pt solid;\n",
              "}\n",
              "\n",
              "#sk-container-id-1 a.estimator_doc_link.fitted {\n",
              "  /* fitted */\n",
              "  border: var(--sklearn-color-fitted-level-1) 1pt solid;\n",
              "  color: var(--sklearn-color-fitted-level-1);\n",
              "}\n",
              "\n",
              "/* On hover */\n",
              "#sk-container-id-1 a.estimator_doc_link:hover {\n",
              "  /* unfitted */\n",
              "  background-color: var(--sklearn-color-unfitted-level-3);\n",
              "  color: var(--sklearn-color-background);\n",
              "  text-decoration: none;\n",
              "}\n",
              "\n",
              "#sk-container-id-1 a.estimator_doc_link.fitted:hover {\n",
              "  /* fitted */\n",
              "  background-color: var(--sklearn-color-fitted-level-3);\n",
              "}\n",
              "</style><div id=\"sk-container-id-1\" class=\"sk-top-container\"><div class=\"sk-text-repr-fallback\"><pre>RandomForestClassifier(random_state=42)</pre><b>In a Jupyter environment, please rerun this cell to show the HTML representation or trust the notebook. <br />On GitHub, the HTML representation is unable to render, please try loading this page with nbviewer.org.</b></div><div class=\"sk-container\" hidden><div class=\"sk-item\"><div class=\"sk-estimator fitted sk-toggleable\"><input class=\"sk-toggleable__control sk-hidden--visually\" id=\"sk-estimator-id-1\" type=\"checkbox\" checked><label for=\"sk-estimator-id-1\" class=\"sk-toggleable__label fitted sk-toggleable__label-arrow\"><div><div>RandomForestClassifier</div></div><div><a class=\"sk-estimator-doc-link fitted\" rel=\"noreferrer\" target=\"_blank\" href=\"https://scikit-learn.org/1.6/modules/generated/sklearn.ensemble.RandomForestClassifier.html\">?<span>Documentation for RandomForestClassifier</span></a><span class=\"sk-estimator-doc-link fitted\">i<span>Fitted</span></span></div></label><div class=\"sk-toggleable__content fitted\"><pre>RandomForestClassifier(random_state=42)</pre></div> </div></div></div></div>"
            ]
          },
          "metadata": {},
          "execution_count": 14
        }
      ]
    },
    {
      "cell_type": "markdown",
      "source": [
        "Hyperparameters Model 1"
      ],
      "metadata": {
        "id": "eiS2brh7WxvE"
      }
    },
    {
      "cell_type": "code",
      "source": [
        "#Number of trees\n",
        "trees= RF1.n_estimators\n",
        "print(f\"Number of trees: {trees}\")\n",
        "\n",
        "# Samples per tree\n",
        "samples_tree = x_simple_train.shape[0]\n",
        "print(f\"Number of samples per tree: {samples_tree}\")\n",
        "\n",
        "# Maximum depth\n",
        "max_depths = [estimator.get_depth() for estimator in RF1.estimators_]\n",
        "print(f\"Maximum depth of each tree: {max_depths}\")\n",
        "\n",
        "#Features\n",
        "num_features = RF1.n_features_in_\n",
        "print(f\"Number of features used in the Random Forest model: {num_features}\")\n",
        "\n",
        "print(f\"Features used for each tree: {RF1.max_features}\")"
      ],
      "metadata": {
        "colab": {
          "base_uri": "https://localhost:8080/"
        },
        "id": "_loCJ3bDW5P2",
        "outputId": "5a83d735-298e-4dd9-b280-02e6b3bbb0a9"
      },
      "execution_count": null,
      "outputs": [
        {
          "output_type": "stream",
          "name": "stdout",
          "text": [
            "Number of trees: 100\n",
            "Number of samples per tree: 84\n",
            "Maximum depth of each tree: [4, 3, 3, 4, 4, 3, 5, 4, 4, 5, 4, 4, 4, 4, 4, 4, 5, 3, 3, 4, 5, 3, 4, 3, 3, 5, 3, 2, 4, 4, 4, 2, 3, 5, 4, 4, 3, 3, 3, 3, 3, 3, 4, 3, 3, 3, 4, 4, 2, 5, 4, 4, 5, 3, 4, 4, 4, 4, 4, 4, 5, 3, 4, 4, 5, 4, 4, 2, 3, 3, 3, 4, 2, 3, 3, 3, 3, 4, 3, 4, 4, 4, 4, 3, 3, 5, 3, 5, 5, 4, 3, 3, 4, 4, 4, 5, 5, 3, 4, 4]\n",
            "Number of features used in the Random Forest model: 6\n",
            "Features used for each tree: sqrt\n"
          ]
        }
      ]
    },
    {
      "cell_type": "markdown",
      "source": [
        "Prediction RF model 1"
      ],
      "metadata": {
        "id": "D8NRv_Y9Pefh"
      }
    },
    {
      "cell_type": "code",
      "source": [
        "y_pred_RF1 = RF1.predict(x_simple_test)"
      ],
      "metadata": {
        "id": "kRSLhK4FKoB3"
      },
      "execution_count": null,
      "outputs": []
    },
    {
      "cell_type": "markdown",
      "source": [
        "Confusion matrix RF model 1"
      ],
      "metadata": {
        "id": "3_mewg_kSbry"
      }
    },
    {
      "cell_type": "code",
      "source": [
        "print(\"Confusion Matrix (Model 1):\")\n",
        "print(confusion_matrix(y_test, y_pred_RF1))"
      ],
      "metadata": {
        "colab": {
          "base_uri": "https://localhost:8080/"
        },
        "id": "KHpzu5PMSa-u",
        "outputId": "dfdd9832-0b08-491d-ccce-c0d16cfeb218"
      },
      "execution_count": null,
      "outputs": [
        {
          "output_type": "stream",
          "name": "stdout",
          "text": [
            "Confusion Matrix (Model 1):\n",
            "[[21  0]\n",
            " [ 0 15]]\n"
          ]
        }
      ]
    },
    {
      "cell_type": "markdown",
      "source": [
        "Accuracy RF model 1"
      ],
      "metadata": {
        "id": "WBViV1BQPwJF"
      }
    },
    {
      "cell_type": "code",
      "source": [
        "accuracy_RF1 = accuracy_score(y_test, y_pred_RF1)\n",
        "print(f\"Accuracy Random Forest model1: {accuracy_RF1 *100:.2f}%\")\n"
      ],
      "metadata": {
        "colab": {
          "base_uri": "https://localhost:8080/"
        },
        "id": "vZbTcoL5UBpF",
        "outputId": "fe2a3ea5-3c21-4fac-f242-7fe47bc00c7f"
      },
      "execution_count": null,
      "outputs": [
        {
          "output_type": "stream",
          "name": "stdout",
          "text": [
            "Accuracy Random Forest model1: 100.00%\n"
          ]
        }
      ]
    },
    {
      "cell_type": "markdown",
      "source": [
        "Using cross validation"
      ],
      "metadata": {
        "id": "ySViNH4wUMm6"
      }
    },
    {
      "cell_type": "code",
      "source": [
        "#Metrics\n",
        "fi_RF1 = [] #Feature importances per fold\n",
        "accuracy_scores_RF1= []\n",
        "precision_scores_RF1= []\n",
        "recall_scores_RF1= []\n",
        "\n",
        "accuracy_scores_RF1_train = []\n",
        "precision_scores_RF1_train = []\n",
        "recall_scores_RF1_train = []"
      ],
      "metadata": {
        "id": "2HljykS42nVG"
      },
      "execution_count": null,
      "outputs": []
    },
    {
      "cell_type": "markdown",
      "source": [
        "Train model and get metrics per fold"
      ],
      "metadata": {
        "id": "vqnYIX-CGBwJ"
      }
    },
    {
      "cell_type": "code",
      "source": [
        "for train_index_RF1, test_index_RF1 in kfold.split(x_simple):\n",
        "    xRF1_train_cv, xRF1_test_cv = x_simple.iloc[train_index_RF1], x_simple.iloc[test_index_RF1]\n",
        "    yRF1_train_cv, yRF1_test_cv = y.iloc[train_index_RF1], y.iloc[test_index_RF1]\n",
        "\n",
        "    train_size1 = len(train_index_RF1)\n",
        "    test_size1 = len(test_index_RF1)\n",
        "    print(f\"Training Size: {train_size1}, Testing Size: {test_size1}\")\n",
        "\n",
        "     # Train\n",
        "    RF1.fit(xRF1_train_cv,yRF1_train_cv)\n",
        "\n",
        "    y_pred_RF1 = RF1.predict(xRF1_test_cv)\n",
        "    ytrain_pred_RF1 = RF1.predict (xRF1_train_cv)\n",
        "\n",
        "    # Metrics for each fold and feature importance\n",
        "    accuracy_scores_RF1.append(accuracy_score (yRF1_test_cv, y_pred_RF1))\n",
        "    precision_scores_RF1.append(precision_score (yRF1_test_cv, y_pred_RF1, average='binary'))\n",
        "    recall_scores_RF1.append(recall_score (yRF1_test_cv, y_pred_RF1, average='binary'))\n",
        "\n",
        "    fi_RF1.append(RF1.feature_importances_) #feature imp\n",
        "\n",
        "    # Metrics for each fold (train)\n",
        "    accuracy_scores_RF1_train.append(accuracy_score(yRF1_train_cv, ytrain_pred_RF1))\n",
        "    precision_scores_RF1_train.append(precision_score(yRF1_train_cv, ytrain_pred_RF1, average='binary'))\n",
        "    recall_scores_RF1_train.append(recall_score(yRF1_train_cv, ytrain_pred_RF1, average='binary'))\n",
        "\n",
        "    print(RF1.get_params())"
      ],
      "metadata": {
        "id": "32yR1aGjGEsz",
        "colab": {
          "base_uri": "https://localhost:8080/"
        },
        "outputId": "77436aab-ed32-46fd-8ad0-b331d95c5307"
      },
      "execution_count": null,
      "outputs": [
        {
          "output_type": "stream",
          "name": "stdout",
          "text": [
            "Training Size: 96, Testing Size: 24\n",
            "{'bootstrap': True, 'ccp_alpha': 0.0, 'class_weight': None, 'criterion': 'gini', 'max_depth': None, 'max_features': 'sqrt', 'max_leaf_nodes': None, 'max_samples': None, 'min_impurity_decrease': 0.0, 'min_samples_leaf': 1, 'min_samples_split': 2, 'min_weight_fraction_leaf': 0.0, 'monotonic_cst': None, 'n_estimators': 100, 'n_jobs': None, 'oob_score': False, 'random_state': 42, 'verbose': 0, 'warm_start': False}\n",
            "Training Size: 96, Testing Size: 24\n",
            "{'bootstrap': True, 'ccp_alpha': 0.0, 'class_weight': None, 'criterion': 'gini', 'max_depth': None, 'max_features': 'sqrt', 'max_leaf_nodes': None, 'max_samples': None, 'min_impurity_decrease': 0.0, 'min_samples_leaf': 1, 'min_samples_split': 2, 'min_weight_fraction_leaf': 0.0, 'monotonic_cst': None, 'n_estimators': 100, 'n_jobs': None, 'oob_score': False, 'random_state': 42, 'verbose': 0, 'warm_start': False}\n",
            "Training Size: 96, Testing Size: 24\n",
            "{'bootstrap': True, 'ccp_alpha': 0.0, 'class_weight': None, 'criterion': 'gini', 'max_depth': None, 'max_features': 'sqrt', 'max_leaf_nodes': None, 'max_samples': None, 'min_impurity_decrease': 0.0, 'min_samples_leaf': 1, 'min_samples_split': 2, 'min_weight_fraction_leaf': 0.0, 'monotonic_cst': None, 'n_estimators': 100, 'n_jobs': None, 'oob_score': False, 'random_state': 42, 'verbose': 0, 'warm_start': False}\n",
            "Training Size: 96, Testing Size: 24\n",
            "{'bootstrap': True, 'ccp_alpha': 0.0, 'class_weight': None, 'criterion': 'gini', 'max_depth': None, 'max_features': 'sqrt', 'max_leaf_nodes': None, 'max_samples': None, 'min_impurity_decrease': 0.0, 'min_samples_leaf': 1, 'min_samples_split': 2, 'min_weight_fraction_leaf': 0.0, 'monotonic_cst': None, 'n_estimators': 100, 'n_jobs': None, 'oob_score': False, 'random_state': 42, 'verbose': 0, 'warm_start': False}\n",
            "Training Size: 96, Testing Size: 24\n",
            "{'bootstrap': True, 'ccp_alpha': 0.0, 'class_weight': None, 'criterion': 'gini', 'max_depth': None, 'max_features': 'sqrt', 'max_leaf_nodes': None, 'max_samples': None, 'min_impurity_decrease': 0.0, 'min_samples_leaf': 1, 'min_samples_split': 2, 'min_weight_fraction_leaf': 0.0, 'monotonic_cst': None, 'n_estimators': 100, 'n_jobs': None, 'oob_score': False, 'random_state': 42, 'verbose': 0, 'warm_start': False}\n"
          ]
        }
      ]
    },
    {
      "cell_type": "markdown",
      "source": [
        "Metrics average"
      ],
      "metadata": {
        "id": "wtsXcyeTG4CA"
      }
    },
    {
      "cell_type": "code",
      "source": [
        "#train\n",
        "print(f\"Mean Accuracy RF 1 test (cross-validation): {np.mean(accuracy_scores_RF1 ) *100:.2f}%\")\n",
        "print(f\"Mean Precision RF1 test(Cross-validation): {np.mean(precision_scores_RF1) * 100:.2f}%\")\n",
        "print(f\"Mean Recall RF1 test(Cross-validation): {np.mean(recall_scores_RF1) * 100:.2f}%\")"
      ],
      "metadata": {
        "colab": {
          "base_uri": "https://localhost:8080/"
        },
        "id": "MwZeqI4CGRDM",
        "outputId": "90da62cd-284d-4456-88f7-caf20d211378"
      },
      "execution_count": null,
      "outputs": [
        {
          "output_type": "stream",
          "name": "stdout",
          "text": [
            "Mean Accuracy RF 1 test (cross-validation): 100.00%\n",
            "Mean Precision RF1 test(Cross-validation): 100.00%\n",
            "Mean Recall RF1 test(Cross-validation): 100.00%\n"
          ]
        }
      ]
    },
    {
      "cell_type": "code",
      "source": [
        "#train\n",
        "print(f\"Mean Accuracy RF1 Train(cross-validation): {np.mean(accuracy_scores_RF1_train )* 100:.2f}%\")\n",
        "print(f\"Mean Precision RF1 Train(Cross-validation): {np.mean(precision_scores_RF1_train )* 100:.2f}%\")\n",
        "print(f\"Mean Recall RF1 Train(Cross-validation): {np.mean(recall_scores_RF1_train)* 100:.2f}%\")"
      ],
      "metadata": {
        "colab": {
          "base_uri": "https://localhost:8080/"
        },
        "id": "idyZIw-zguok",
        "outputId": "a2164374-6cc0-4ce0-b600-08f19185521c"
      },
      "execution_count": null,
      "outputs": [
        {
          "output_type": "stream",
          "name": "stdout",
          "text": [
            "Mean Accuracy RF1 Train(cross-validation): 100.00%\n",
            "Mean Precision RF1 Train(Cross-validation): 100.00%\n",
            "Mean Recall RF1 Train(Cross-validation): 100.00%\n"
          ]
        }
      ]
    },
    {
      "cell_type": "markdown",
      "source": [
        "Feature importance values"
      ],
      "metadata": {
        "id": "tBjIgYcuG9L_"
      }
    },
    {
      "cell_type": "code",
      "source": [
        "fi_RF1 = np.array(fi_RF1)\n",
        "mean_fi_RF1 = fi_RF1.mean(axis= 0) #Mean feature importance\n",
        "percent_fi_RF1 = mean_fi_RF1 *100\n",
        "\n",
        "fi_RF1_df = pd.DataFrame({'Feature': xRF1_train_cv.columns, 'Importance %': percent_fi_RF1})#dataframe fi\n",
        "fi_RF1_df = fi_RF1_df.sort_values(by= 'Importance %', ascending= False)\n",
        "\n",
        "print(fi_RF1_df)#print\n"
      ],
      "metadata": {
        "colab": {
          "base_uri": "https://localhost:8080/"
        },
        "id": "TrIwGWjM2fH7",
        "outputId": "bcc19bb5-9e60-4cef-8182-238ac2ce590c"
      },
      "execution_count": null,
      "outputs": [
        {
          "output_type": "stream",
          "name": "stdout",
          "text": [
            "             Feature  Importance %\n",
            "2        lumbar-pain     30.244377\n",
            "1             nausea     23.306985\n",
            "0        temperature     18.814860\n",
            "5    burning-urethra     10.436576\n",
            "4  micturition-pains      9.220402\n",
            "3      urine-pushing      7.976801\n"
          ]
        }
      ]
    },
    {
      "cell_type": "markdown",
      "source": [
        "Feature importance graph"
      ],
      "metadata": {
        "id": "Ho21MwnxHk9B"
      }
    },
    {
      "cell_type": "code",
      "source": [
        "plt.figure(figsize= (8, 6))\n",
        "sns.barplot(x='Feature', y='Importance %', data=fi_RF1_df, palette=\"coolwarm\")\n",
        "#plt.bar(fi_RF1_df['Feature'], fi_RF1_df['Importance %'])\n",
        "plt.xlabel('Average Feature Importance')\n",
        "plt.title('Average Feature Importance RF (MODEL 1) Cross-Validation')\n",
        "plt.xticks(rotation=45)\n",
        "plt.xticks(fontsize=6)\n",
        "plt.show()"
      ],
      "metadata": {
        "colab": {
          "base_uri": "https://localhost:8080/",
          "height": 698
        },
        "id": "-cltMuY-HrhX",
        "outputId": "aa2e7301-7445-4bef-91c5-aafb030d877e"
      },
      "execution_count": null,
      "outputs": [
        {
          "output_type": "stream",
          "name": "stderr",
          "text": [
            "<ipython-input-24-567a0a8ab72b>:2: FutureWarning: \n",
            "\n",
            "Passing `palette` without assigning `hue` is deprecated and will be removed in v0.14.0. Assign the `x` variable to `hue` and set `legend=False` for the same effect.\n",
            "\n",
            "  sns.barplot(x='Feature', y='Importance %', data=fi_RF1_df, palette=\"coolwarm\")\n"
          ]
        },
        {
          "output_type": "display_data",
          "data": {
            "text/plain": [
              "<Figure size 800x600 with 1 Axes>"
            ],
            "image/png": "[encoded data removed]"
          },
          "metadata": {}
        }
      ]
    },
    {
      "cell_type": "markdown",
      "source": [
        "# Decission Tree model 1"
      ],
      "metadata": {
        "id": "KFifsXiSXaUq"
      }
    },
    {
      "cell_type": "markdown",
      "source": [
        "**DT model 1 with default parameters (NO symptom count)**"
      ],
      "metadata": {
        "id": "G7LmSgMFXyjs"
      }
    },
    {
      "cell_type": "code",
      "source": [
        "DT1= DecisionTreeClassifier(random_state= 42)"
      ],
      "metadata": {
        "id": "d-D_GiWzXe2g"
      },
      "execution_count": null,
      "outputs": []
    },
    {
      "cell_type": "markdown",
      "source": [
        "Train using training and testing sets"
      ],
      "metadata": {
        "id": "PqpRu0p1Ywb0"
      }
    },
    {
      "cell_type": "code",
      "source": [
        "DT1.fit(x_simple_train, y_train)"
      ],
      "metadata": {
        "colab": {
          "base_uri": "https://localhost:8080/",
          "height": 80
        },
        "id": "Y8317GhIYv8y",
        "outputId": "327e8f5d-4fcf-46d0-9415-268efd31c823"
      },
      "execution_count": null,
      "outputs": [
        {
          "output_type": "execute_result",
          "data": {
            "text/plain": [
              "DecisionTreeClassifier(random_state=42)"
            ],
            "text/html": [
              "<style>#sk-container-id-2 {\n",
              "  /* Definition of color scheme common for light and dark mode */\n",
              "  --sklearn-color-text: #000;\n",
              "  --sklearn-color-text-muted: #666;\n",
              "  --sklearn-color-line: gray;\n",
              "  /* Definition of color scheme for unfitted estimators */\n",
              "  --sklearn-color-unfitted-level-0: #fff5e6;\n",
              "  --sklearn-color-unfitted-level-1: #f6e4d2;\n",
              "  --sklearn-color-unfitted-level-2: #ffe0b3;\n",
              "  --sklearn-color-unfitted-level-3: chocolate;\n",
              "  /* Definition of color scheme for fitted estimators */\n",
              "  --sklearn-color-fitted-level-0: #f0f8ff;\n",
              "  --sklearn-color-fitted-level-1: #d4ebff;\n",
              "  --sklearn-color-fitted-level-2: #b3dbfd;\n",
              "  --sklearn-color-fitted-level-3: cornflowerblue;\n",
              "\n",
              "  /* Specific color for light theme */\n",
              "  --sklearn-color-text-on-default-background: var(--sg-text-color, var(--theme-code-foreground, var(--jp-content-font-color1, black)));\n",
              "  --sklearn-color-background: var(--sg-background-color, var(--theme-background, var(--jp-layout-color0, white)));\n",
              "  --sklearn-color-border-box: var(--sg-text-color, var(--theme-code-foreground, var(--jp-content-font-color1, black)));\n",
              "  --sklearn-color-icon: #696969;\n",
              "\n",
              "  @media (prefers-color-scheme: dark) {\n",
              "    /* Redefinition of color scheme for dark theme */\n",
              "    --sklearn-color-text-on-default-background: var(--sg-text-color, var(--theme-code-foreground, var(--jp-content-font-color1, white)));\n",
              "    --sklearn-color-background: var(--sg-background-color, var(--theme-background, var(--jp-layout-color0, #111)));\n",
              "    --sklearn-color-border-box: var(--sg-text-color, var(--theme-code-foreground, var(--jp-content-font-color1, white)));\n",
              "    --sklearn-color-icon: #878787;\n",
              "  }\n",
              "}\n",
              "\n",
              "#sk-container-id-2 {\n",
              "  color: var(--sklearn-color-text);\n",
              "}\n",
              "\n",
              "#sk-container-id-2 pre {\n",
              "  padding: 0;\n",
              "}\n",
              "\n",
              "#sk-container-id-2 input.sk-hidden--visually {\n",
              "  border: 0;\n",
              "  clip: rect(1px 1px 1px 1px);\n",
              "  clip: rect(1px, 1px, 1px, 1px);\n",
              "  height: 1px;\n",
              "  margin: -1px;\n",
              "  overflow: hidden;\n",
              "  padding: 0;\n",
              "  position: absolute;\n",
              "  width: 1px;\n",
              "}\n",
              "\n",
              "#sk-container-id-2 div.sk-dashed-wrapped {\n",
              "  border: 1px dashed var(--sklearn-color-line);\n",
              "  margin: 0 0.4em 0.5em 0.4em;\n",
              "  box-sizing: border-box;\n",
              "  padding-bottom: 0.4em;\n",
              "  background-color: var(--sklearn-color-background);\n",
              "}\n",
              "\n",
              "#sk-container-id-2 div.sk-container {\n",
              "  /* jupyter's `normalize.less` sets `[hidden] { display: none; }`\n",
              "     but bootstrap.min.css set `[hidden] { display: none !important; }`\n",
              "     so we also need the `!important` here to be able to override the\n",
              "     default hidden behavior on the sphinx rendered scikit-learn.org.\n",
              "     See: https://github.com/scikit-learn/scikit-learn/issues/21755 */\n",
              "  display: inline-block !important;\n",
              "  position: relative;\n",
              "}\n",
              "\n",
              "#sk-container-id-2 div.sk-text-repr-fallback {\n",
              "  display: none;\n",
              "}\n",
              "\n",
              "div.sk-parallel-item,\n",
              "div.sk-serial,\n",
              "div.sk-item {\n",
              "  /* draw centered vertical line to link estimators */\n",
              "  background-image: linear-gradient(var(--sklearn-color-text-on-default-background), var(--sklearn-color-text-on-default-background));\n",
              "  background-size: 2px 100%;\n",
              "  background-repeat: no-repeat;\n",
              "  background-position: center center;\n",
              "}\n",
              "\n",
              "/* Parallel-specific style estimator block */\n",
              "\n",
              "#sk-container-id-2 div.sk-parallel-item::after {\n",
              "  content: \"\";\n",
              "  width: 100%;\n",
              "  border-bottom: 2px solid var(--sklearn-color-text-on-default-background);\n",
              "  flex-grow: 1;\n",
              "}\n",
              "\n",
              "#sk-container-id-2 div.sk-parallel {\n",
              "  display: flex;\n",
              "  align-items: stretch;\n",
              "  justify-content: center;\n",
              "  background-color: var(--sklearn-color-background);\n",
              "  position: relative;\n",
              "}\n",
              "\n",
              "#sk-container-id-2 div.sk-parallel-item {\n",
              "  display: flex;\n",
              "  flex-direction: column;\n",
              "}\n",
              "\n",
              "#sk-container-id-2 div.sk-parallel-item:first-child::after {\n",
              "  align-self: flex-end;\n",
              "  width: 50%;\n",
              "}\n",
              "\n",
              "#sk-container-id-2 div.sk-parallel-item:last-child::after {\n",
              "  align-self: flex-start;\n",
              "  width: 50%;\n",
              "}\n",
              "\n",
              "#sk-container-id-2 div.sk-parallel-item:only-child::after {\n",
              "  width: 0;\n",
              "}\n",
              "\n",
              "/* Serial-specific style estimator block */\n",
              "\n",
              "#sk-container-id-2 div.sk-serial {\n",
              "  display: flex;\n",
              "  flex-direction: column;\n",
              "  align-items: center;\n",
              "  background-color: var(--sklearn-color-background);\n",
              "  padding-right: 1em;\n",
              "  padding-left: 1em;\n",
              "}\n",
              "\n",
              "\n",
              "/* Toggleable style: style used for estimator/Pipeline/ColumnTransformer box that is\n",
              "clickable and can be expanded/collapsed.\n",
              "- Pipeline and ColumnTransformer use this feature and define the default style\n",
              "- Estimators will overwrite some part of the style using the `sk-estimator` class\n",
              "*/\n",
              "\n",
              "/* Pipeline and ColumnTransformer style (default) */\n",
              "\n",
              "#sk-container-id-2 div.sk-toggleable {\n",
              "  /* Default theme specific background. It is overwritten whether we have a\n",
              "  specific estimator or a Pipeline/ColumnTransformer */\n",
              "  background-color: var(--sklearn-color-background);\n",
              "}\n",
              "\n",
              "/* Toggleable label */\n",
              "#sk-container-id-2 label.sk-toggleable__label {\n",
              "  cursor: pointer;\n",
              "  display: flex;\n",
              "  width: 100%;\n",
              "  margin-bottom: 0;\n",
              "  padding: 0.5em;\n",
              "  box-sizing: border-box;\n",
              "  text-align: center;\n",
              "  align-items: start;\n",
              "  justify-content: space-between;\n",
              "  gap: 0.5em;\n",
              "}\n",
              "\n",
              "#sk-container-id-2 label.sk-toggleable__label .caption {\n",
              "  font-size: 0.6rem;\n",
              "  font-weight: lighter;\n",
              "  color: var(--sklearn-color-text-muted);\n",
              "}\n",
              "\n",
              "#sk-container-id-2 label.sk-toggleable__label-arrow:before {\n",
              "  /* Arrow on the left of the label */\n",
              "  content: \"▸\";\n",
              "  float: left;\n",
              "  margin-right: 0.25em;\n",
              "  color: var(--sklearn-color-icon);\n",
              "}\n",
              "\n",
              "#sk-container-id-2 label.sk-toggleable__label-arrow:hover:before {\n",
              "  color: var(--sklearn-color-text);\n",
              "}\n",
              "\n",
              "/* Toggleable content - dropdown */\n",
              "\n",
              "#sk-container-id-2 div.sk-toggleable__content {\n",
              "  max-height: 0;\n",
              "  max-width: 0;\n",
              "  overflow: hidden;\n",
              "  text-align: left;\n",
              "  /* unfitted */\n",
              "  background-color: var(--sklearn-color-unfitted-level-0);\n",
              "}\n",
              "\n",
              "#sk-container-id-2 div.sk-toggleable__content.fitted {\n",
              "  /* fitted */\n",
              "  background-color: var(--sklearn-color-fitted-level-0);\n",
              "}\n",
              "\n",
              "#sk-container-id-2 div.sk-toggleable__content pre {\n",
              "  margin: 0.2em;\n",
              "  border-radius: 0.25em;\n",
              "  color: var(--sklearn-color-text);\n",
              "  /* unfitted */\n",
              "  background-color: var(--sklearn-color-unfitted-level-0);\n",
              "}\n",
              "\n",
              "#sk-container-id-2 div.sk-toggleable__content.fitted pre {\n",
              "  /* unfitted */\n",
              "  background-color: var(--sklearn-color-fitted-level-0);\n",
              "}\n",
              "\n",
              "#sk-container-id-2 input.sk-toggleable__control:checked~div.sk-toggleable__content {\n",
              "  /* Expand drop-down */\n",
              "  max-height: 200px;\n",
              "  max-width: 100%;\n",
              "  overflow: auto;\n",
              "}\n",
              "\n",
              "#sk-container-id-2 input.sk-toggleable__control:checked~label.sk-toggleable__label-arrow:before {\n",
              "  content: \"▾\";\n",
              "}\n",
              "\n",
              "/* Pipeline/ColumnTransformer-specific style */\n",
              "\n",
              "#sk-container-id-2 div.sk-label input.sk-toggleable__control:checked~label.sk-toggleable__label {\n",
              "  color: var(--sklearn-color-text);\n",
              "  background-color: var(--sklearn-color-unfitted-level-2);\n",
              "}\n",
              "\n",
              "#sk-container-id-2 div.sk-label.fitted input.sk-toggleable__control:checked~label.sk-toggleable__label {\n",
              "  background-color: var(--sklearn-color-fitted-level-2);\n",
              "}\n",
              "\n",
              "/* Estimator-specific style */\n",
              "\n",
              "/* Colorize estimator box */\n",
              "#sk-container-id-2 div.sk-estimator input.sk-toggleable__control:checked~label.sk-toggleable__label {\n",
              "  /* unfitted */\n",
              "  background-color: var(--sklearn-color-unfitted-level-2);\n",
              "}\n",
              "\n",
              "#sk-container-id-2 div.sk-estimator.fitted input.sk-toggleable__control:checked~label.sk-toggleable__label {\n",
              "  /* fitted */\n",
              "  background-color: var(--sklearn-color-fitted-level-2);\n",
              "}\n",
              "\n",
              "#sk-container-id-2 div.sk-label label.sk-toggleable__label,\n",
              "#sk-container-id-2 div.sk-label label {\n",
              "  /* The background is the default theme color */\n",
              "  color: var(--sklearn-color-text-on-default-background);\n",
              "}\n",
              "\n",
              "/* On hover, darken the color of the background */\n",
              "#sk-container-id-2 div.sk-label:hover label.sk-toggleable__label {\n",
              "  color: var(--sklearn-color-text);\n",
              "  background-color: var(--sklearn-color-unfitted-level-2);\n",
              "}\n",
              "\n",
              "/* Label box, darken color on hover, fitted */\n",
              "#sk-container-id-2 div.sk-label.fitted:hover label.sk-toggleable__label.fitted {\n",
              "  color: var(--sklearn-color-text);\n",
              "  background-color: var(--sklearn-color-fitted-level-2);\n",
              "}\n",
              "\n",
              "/* Estimator label */\n",
              "\n",
              "#sk-container-id-2 div.sk-label label {\n",
              "  font-family: monospace;\n",
              "  font-weight: bold;\n",
              "  display: inline-block;\n",
              "  line-height: 1.2em;\n",
              "}\n",
              "\n",
              "#sk-container-id-2 div.sk-label-container {\n",
              "  text-align: center;\n",
              "}\n",
              "\n",
              "/* Estimator-specific */\n",
              "#sk-container-id-2 div.sk-estimator {\n",
              "  font-family: monospace;\n",
              "  border: 1px dotted var(--sklearn-color-border-box);\n",
              "  border-radius: 0.25em;\n",
              "  box-sizing: border-box;\n",
              "  margin-bottom: 0.5em;\n",
              "  /* unfitted */\n",
              "  background-color: var(--sklearn-color-unfitted-level-0);\n",
              "}\n",
              "\n",
              "#sk-container-id-2 div.sk-estimator.fitted {\n",
              "  /* fitted */\n",
              "  background-color: var(--sklearn-color-fitted-level-0);\n",
              "}\n",
              "\n",
              "/* on hover */\n",
              "#sk-container-id-2 div.sk-estimator:hover {\n",
              "  /* unfitted */\n",
              "  background-color: var(--sklearn-color-unfitted-level-2);\n",
              "}\n",
              "\n",
              "#sk-container-id-2 div.sk-estimator.fitted:hover {\n",
              "  /* fitted */\n",
              "  background-color: var(--sklearn-color-fitted-level-2);\n",
              "}\n",
              "\n",
              "/* Specification for estimator info (e.g. \"i\" and \"?\") */\n",
              "\n",
              "/* Common style for \"i\" and \"?\" */\n",
              "\n",
              ".sk-estimator-doc-link,\n",
              "a:link.sk-estimator-doc-link,\n",
              "a:visited.sk-estimator-doc-link {\n",
              "  float: right;\n",
              "  font-size: smaller;\n",
              "  line-height: 1em;\n",
              "  font-family: monospace;\n",
              "  background-color: var(--sklearn-color-background);\n",
              "  border-radius: 1em;\n",
              "  height: 1em;\n",
              "  width: 1em;\n",
              "  text-decoration: none !important;\n",
              "  margin-left: 0.5em;\n",
              "  text-align: center;\n",
              "  /* unfitted */\n",
              "  border: var(--sklearn-color-unfitted-level-1) 1pt solid;\n",
              "  color: var(--sklearn-color-unfitted-level-1);\n",
              "}\n",
              "\n",
              ".sk-estimator-doc-link.fitted,\n",
              "a:link.sk-estimator-doc-link.fitted,\n",
              "a:visited.sk-estimator-doc-link.fitted {\n",
              "  /* fitted */\n",
              "  border: var(--sklearn-color-fitted-level-1) 1pt solid;\n",
              "  color: var(--sklearn-color-fitted-level-1);\n",
              "}\n",
              "\n",
              "/* On hover */\n",
              "div.sk-estimator:hover .sk-estimator-doc-link:hover,\n",
              ".sk-estimator-doc-link:hover,\n",
              "div.sk-label-container:hover .sk-estimator-doc-link:hover,\n",
              ".sk-estimator-doc-link:hover {\n",
              "  /* unfitted */\n",
              "  background-color: var(--sklearn-color-unfitted-level-3);\n",
              "  color: var(--sklearn-color-background);\n",
              "  text-decoration: none;\n",
              "}\n",
              "\n",
              "div.sk-estimator.fitted:hover .sk-estimator-doc-link.fitted:hover,\n",
              ".sk-estimator-doc-link.fitted:hover,\n",
              "div.sk-label-container:hover .sk-estimator-doc-link.fitted:hover,\n",
              ".sk-estimator-doc-link.fitted:hover {\n",
              "  /* fitted */\n",
              "  background-color: var(--sklearn-color-fitted-level-3);\n",
              "  color: var(--sklearn-color-background);\n",
              "  text-decoration: none;\n",
              "}\n",
              "\n",
              "/* Span, style for the box shown on hovering the info icon */\n",
              ".sk-estimator-doc-link span {\n",
              "  display: none;\n",
              "  z-index: 9999;\n",
              "  position: relative;\n",
              "  font-weight: normal;\n",
              "  right: .2ex;\n",
              "  padding: .5ex;\n",
              "  margin: .5ex;\n",
              "  width: min-content;\n",
              "  min-width: 20ex;\n",
              "  max-width: 50ex;\n",
              "  color: var(--sklearn-color-text);\n",
              "  box-shadow: 2pt 2pt 4pt #999;\n",
              "  /* unfitted */\n",
              "  background: var(--sklearn-color-unfitted-level-0);\n",
              "  border: .5pt solid var(--sklearn-color-unfitted-level-3);\n",
              "}\n",
              "\n",
              ".sk-estimator-doc-link.fitted span {\n",
              "  /* fitted */\n",
              "  background: var(--sklearn-color-fitted-level-0);\n",
              "  border: var(--sklearn-color-fitted-level-3);\n",
              "}\n",
              "\n",
              ".sk-estimator-doc-link:hover span {\n",
              "  display: block;\n",
              "}\n",
              "\n",
              "/* \"?\"-specific style due to the `<a>` HTML tag */\n",
              "\n",
              "#sk-container-id-2 a.estimator_doc_link {\n",
              "  float: right;\n",
              "  font-size: 1rem;\n",
              "  line-height: 1em;\n",
              "  font-family: monospace;\n",
              "  background-color: var(--sklearn-color-background);\n",
              "  border-radius: 1rem;\n",
              "  height: 1rem;\n",
              "  width: 1rem;\n",
              "  text-decoration: none;\n",
              "  /* unfitted */\n",
              "  color: var(--sklearn-color-unfitted-level-1);\n",
              "  border: var(--sklearn-color-unfitted-level-1) 1pt solid;\n",
              "}\n",
              "\n",
              "#sk-container-id-2 a.estimator_doc_link.fitted {\n",
              "  /* fitted */\n",
              "  border: var(--sklearn-color-fitted-level-1) 1pt solid;\n",
              "  color: var(--sklearn-color-fitted-level-1);\n",
              "}\n",
              "\n",
              "/* On hover */\n",
              "#sk-container-id-2 a.estimator_doc_link:hover {\n",
              "  /* unfitted */\n",
              "  background-color: var(--sklearn-color-unfitted-level-3);\n",
              "  color: var(--sklearn-color-background);\n",
              "  text-decoration: none;\n",
              "}\n",
              "\n",
              "#sk-container-id-2 a.estimator_doc_link.fitted:hover {\n",
              "  /* fitted */\n",
              "  background-color: var(--sklearn-color-fitted-level-3);\n",
              "}\n",
              "</style><div id=\"sk-container-id-2\" class=\"sk-top-container\"><div class=\"sk-text-repr-fallback\"><pre>DecisionTreeClassifier(random_state=42)</pre><b>In a Jupyter environment, please rerun this cell to show the HTML representation or trust the notebook. <br />On GitHub, the HTML representation is unable to render, please try loading this page with nbviewer.org.</b></div><div class=\"sk-container\" hidden><div class=\"sk-item\"><div class=\"sk-estimator fitted sk-toggleable\"><input class=\"sk-toggleable__control sk-hidden--visually\" id=\"sk-estimator-id-2\" type=\"checkbox\" checked><label for=\"sk-estimator-id-2\" class=\"sk-toggleable__label fitted sk-toggleable__label-arrow\"><div><div>DecisionTreeClassifier</div></div><div><a class=\"sk-estimator-doc-link fitted\" rel=\"noreferrer\" target=\"_blank\" href=\"https://scikit-learn.org/1.6/modules/generated/sklearn.tree.DecisionTreeClassifier.html\">?<span>Documentation for DecisionTreeClassifier</span></a><span class=\"sk-estimator-doc-link fitted\">i<span>Fitted</span></span></div></label><div class=\"sk-toggleable__content fitted\"><pre>DecisionTreeClassifier(random_state=42)</pre></div> </div></div></div></div>"
            ]
          },
          "metadata": {},
          "execution_count": 26
        }
      ]
    },
    {
      "cell_type": "markdown",
      "source": [
        "Hyperparameters DT Model 1"
      ],
      "metadata": {
        "id": "6j1pdxhhcMCT"
      }
    },
    {
      "cell_type": "code",
      "source": [
        "# Samples per tree\n",
        "samples_tree = x_simple_train.shape[0]\n",
        "print(f\"Number of samples used to train the Decision Tree: {samples_tree}\")\n",
        "\n",
        "# Maximum depth\n",
        "max_depth = DT1.get_depth()\n",
        "print(f\"Maximum depth of the Decision Tree: {max_depth}\")\n",
        "\n",
        "#Features\n",
        "num_features = DT1.n_features_in_\n",
        "print(f\"Number of features used in the Decision Tree model: {num_features}\")"
      ],
      "metadata": {
        "colab": {
          "base_uri": "https://localhost:8080/"
        },
        "id": "41KdAMULabH5",
        "outputId": "e269b54d-666a-4510-824f-8dc2c408576b"
      },
      "execution_count": null,
      "outputs": [
        {
          "output_type": "stream",
          "name": "stdout",
          "text": [
            "Number of samples used to train the Decision Tree: 84\n",
            "Maximum depth of the Decision Tree: 4\n",
            "Number of features used in the Decision Tree model: 6\n"
          ]
        }
      ]
    },
    {
      "cell_type": "markdown",
      "source": [
        "Prediction DT model 1"
      ],
      "metadata": {
        "id": "FlNUYWw1YqOu"
      }
    },
    {
      "cell_type": "code",
      "source": [
        "y_pred_DT1 = DT1.predict (x_simple_test)"
      ],
      "metadata": {
        "id": "H16HhMCMYQi0"
      },
      "execution_count": null,
      "outputs": []
    },
    {
      "cell_type": "markdown",
      "source": [
        "Confusion matrix DT model 1"
      ],
      "metadata": {
        "id": "KoFzvWplY-iL"
      }
    },
    {
      "cell_type": "code",
      "source": [
        "print(\"Confusion Matrix (Model 1 DT):\")\n",
        "print(confusion_matrix (y_test, y_pred_DT1))"
      ],
      "metadata": {
        "colab": {
          "base_uri": "https://localhost:8080/"
        },
        "id": "uwqQgv7VZIJr",
        "outputId": "83e89393-b3d4-46e7-e500-d3b0d50f3182"
      },
      "execution_count": null,
      "outputs": [
        {
          "output_type": "stream",
          "name": "stdout",
          "text": [
            "Confusion Matrix (Model 1 DT):\n",
            "[[21  0]\n",
            " [ 0 15]]\n"
          ]
        }
      ]
    },
    {
      "cell_type": "markdown",
      "source": [
        "Accuract DT model 1"
      ],
      "metadata": {
        "id": "lFuy1lpqb9OT"
      }
    },
    {
      "cell_type": "code",
      "source": [
        "accuracy_DT1 = accuracy_score(y_test, y_pred_DT1)\n",
        "print(f\"Accuracy DT model1: {accuracy_DT1 *100:.2f}%\")"
      ],
      "metadata": {
        "colab": {
          "base_uri": "https://localhost:8080/"
        },
        "id": "IEKzK9MQZQJ_",
        "outputId": "f96b4708-c571-4ce7-a8a6-7c25881b8733"
      },
      "execution_count": null,
      "outputs": [
        {
          "output_type": "stream",
          "name": "stdout",
          "text": [
            "Accuracy DT model1: 100.00%\n"
          ]
        }
      ]
    },
    {
      "cell_type": "markdown",
      "source": [
        "Ussing cross validation"
      ],
      "metadata": {
        "id": "1ywTs87KcBXA"
      }
    },
    {
      "cell_type": "code",
      "source": [
        "#Metrics\n",
        "fi_DT1 = [] #Feature importances per fold\n",
        "accuracy_scores_DT1 = []\n",
        "precision_scores_DT1 = []\n",
        "recall_scores_DT1 = []\n",
        "\n",
        "accuracy_scores_DT1_train = []\n",
        "precision_scores_DT1_train = []\n",
        "recall_scores_DT1_train = []"
      ],
      "metadata": {
        "id": "GF4-fKwnKwi_"
      },
      "execution_count": null,
      "outputs": []
    },
    {
      "cell_type": "markdown",
      "source": [
        "Train model and metrics"
      ],
      "metadata": {
        "id": "W9SFC8kxK9k-"
      }
    },
    {
      "cell_type": "code",
      "source": [
        "for train_index_DT1, test_index_DT1 in kfold.split (x_simple):\n",
        "    xDT1_train_cv, xDT1_test_cv = x_simple.iloc[train_index_DT1], x_simple.iloc[test_index_DT1]\n",
        "    yDT1_train_cv, yDT1_test_cv = y.iloc[train_index_DT1], y.iloc[test_index_DT1]\n",
        "\n",
        "    # Train\n",
        "    DT1.fit (xDT1_train_cv, yDT1_train_cv)\n",
        "\n",
        "    y_pred_DT1 =DT1.predict (xDT1_test_cv)\n",
        "    ytrain_pred_DT1=DT1.predict(xDT1_train_cv)\n",
        "\n",
        "    # Metrics for each fold and feature importance\n",
        "    accuracy_scores_DT1.append(accuracy_score (yDT1_test_cv, y_pred_DT1))\n",
        "    precision_scores_DT1.append(precision_score (yDT1_test_cv, y_pred_DT1, average='binary'))\n",
        "    recall_scores_DT1.append(recall_score(yDT1_test_cv, y_pred_DT1, average='binary'))\n",
        "    fi_DT1.append(DT1.feature_importances_)\n",
        "\n",
        "    # Metrics for each fold TRAIN\n",
        "    accuracy_scores_DT1_train.append(accuracy_score (yDT1_train_cv, ytrain_pred_DT1))\n",
        "    precision_scores_DT1_train.append(precision_score (yDT1_train_cv, ytrain_pred_DT1, average='binary'))\n",
        "    recall_scores_DT1_train.append(recall_score (yDT1_train_cv, ytrain_pred_DT1, average='binary'))\n",
        "\n",
        "    print(DT1.get_params())"
      ],
      "metadata": {
        "id": "pnbRDripK8fI",
        "colab": {
          "base_uri": "https://localhost:8080/"
        },
        "outputId": "00321007-5e37-4bed-93d7-7f034794b4fd"
      },
      "execution_count": null,
      "outputs": [
        {
          "output_type": "stream",
          "name": "stdout",
          "text": [
            "{'ccp_alpha': 0.0, 'class_weight': None, 'criterion': 'gini', 'max_depth': None, 'max_features': None, 'max_leaf_nodes': None, 'min_impurity_decrease': 0.0, 'min_samples_leaf': 1, 'min_samples_split': 2, 'min_weight_fraction_leaf': 0.0, 'monotonic_cst': None, 'random_state': 42, 'splitter': 'best'}\n",
            "{'ccp_alpha': 0.0, 'class_weight': None, 'criterion': 'gini', 'max_depth': None, 'max_features': None, 'max_leaf_nodes': None, 'min_impurity_decrease': 0.0, 'min_samples_leaf': 1, 'min_samples_split': 2, 'min_weight_fraction_leaf': 0.0, 'monotonic_cst': None, 'random_state': 42, 'splitter': 'best'}\n",
            "{'ccp_alpha': 0.0, 'class_weight': None, 'criterion': 'gini', 'max_depth': None, 'max_features': None, 'max_leaf_nodes': None, 'min_impurity_decrease': 0.0, 'min_samples_leaf': 1, 'min_samples_split': 2, 'min_weight_fraction_leaf': 0.0, 'monotonic_cst': None, 'random_state': 42, 'splitter': 'best'}\n",
            "{'ccp_alpha': 0.0, 'class_weight': None, 'criterion': 'gini', 'max_depth': None, 'max_features': None, 'max_leaf_nodes': None, 'min_impurity_decrease': 0.0, 'min_samples_leaf': 1, 'min_samples_split': 2, 'min_weight_fraction_leaf': 0.0, 'monotonic_cst': None, 'random_state': 42, 'splitter': 'best'}\n",
            "{'ccp_alpha': 0.0, 'class_weight': None, 'criterion': 'gini', 'max_depth': None, 'max_features': None, 'max_leaf_nodes': None, 'min_impurity_decrease': 0.0, 'min_samples_leaf': 1, 'min_samples_split': 2, 'min_weight_fraction_leaf': 0.0, 'monotonic_cst': None, 'random_state': 42, 'splitter': 'best'}\n"
          ]
        }
      ]
    },
    {
      "cell_type": "markdown",
      "source": [
        "Metrics Average"
      ],
      "metadata": {
        "id": "-hrdQx2eLcEw"
      }
    },
    {
      "cell_type": "code",
      "source": [
        "print(f\"Mean Accuracy DT 1 (cross-validation): {np.mean(accuracy_scores_DT1 )*100:.2f}%\")\n",
        "print(f\"Mean Precision DT 1 (Cross-validation): {np.mean(precision_scores_DT1)* 100:.2f}%\")\n",
        "print(f\"Mean Recall DT 1 (Cross-validation): {np.mean(recall_scores_DT1) * 100:.2f}%\")"
      ],
      "metadata": {
        "colab": {
          "base_uri": "https://localhost:8080/"
        },
        "id": "0UXW_k4jLUmB",
        "outputId": "f4d8e6d1-b75f-4e21-e9d0-c95af16f63bd"
      },
      "execution_count": null,
      "outputs": [
        {
          "output_type": "stream",
          "name": "stdout",
          "text": [
            "Mean Accuracy DT 1 (cross-validation): 100.00%\n",
            "Mean Precision DT 1 (Cross-validation): 100.00%\n",
            "Mean Recall DT 1 (Cross-validation): 100.00%\n"
          ]
        }
      ]
    },
    {
      "cell_type": "code",
      "source": [
        "#train\n",
        "print(f\"Mean Accuracy DT1 Train(cross-validation): {np.mean(accuracy_scores_DT1_train )* 100:.2f}%\")\n",
        "print(f\"Mean Precision DT1 Train(Cross-validation): {np.mean(precision_scores_DT1_train )* 100:.2f}%\")\n",
        "print(f\"Mean Recall DT1 Train(Cross-validation): {np.mean(recall_scores_DT1_train)* 100:.2f}%\")"
      ],
      "metadata": {
        "colab": {
          "base_uri": "https://localhost:8080/"
        },
        "id": "R3atwcWdxctW",
        "outputId": "968ba437-58fc-4d10-9148-66337b6a29db"
      },
      "execution_count": null,
      "outputs": [
        {
          "output_type": "stream",
          "name": "stdout",
          "text": [
            "Mean Accuracy DT1 Train(cross-validation): 100.00%\n",
            "Mean Precision DT1 Train(Cross-validation): 100.00%\n",
            "Mean Recall DT1 Train(Cross-validation): 100.00%\n"
          ]
        }
      ]
    },
    {
      "cell_type": "markdown",
      "source": [
        "Feature Importance"
      ],
      "metadata": {
        "id": "O1mQDbdfLj4m"
      }
    },
    {
      "cell_type": "code",
      "source": [
        "fi_DT1 = np.array(fi_DT1)\n",
        "mean_fi_DT1 = fi_DT1.mean(axis= 0) #Mean feature importance\n",
        "percent_fi_DT1 = mean_fi_DT1 * 100\n",
        "\n",
        "fi_DT1_df = pd.DataFrame({'Feature': xDT1_train_cv.columns, 'Importance %':percent_fi_DT1})#dataframe fi\n",
        "fi_DT1_df = fi_DT1_df.sort_values(by='Importance %', ascending =False)\n",
        "\n",
        "print(fi_DT1_df)#print"
      ],
      "metadata": {
        "colab": {
          "base_uri": "https://localhost:8080/"
        },
        "id": "Nadp4HvrLleY",
        "outputId": "cc0611b7-01f8-43b9-8542-53614c7dfa59"
      },
      "execution_count": null,
      "outputs": [
        {
          "output_type": "stream",
          "name": "stdout",
          "text": [
            "             Feature  Importance %\n",
            "2        lumbar-pain     51.029782\n",
            "0        temperature     33.482072\n",
            "1             nausea     11.282139\n",
            "3      urine-pushing      4.206007\n",
            "4  micturition-pains      0.000000\n",
            "5    burning-urethra      0.000000\n"
          ]
        }
      ]
    },
    {
      "cell_type": "code",
      "source": [
        "plt.figure(figsize=(8, 6))\n",
        "sns.barplot(x='Feature', y='Importance %', data= fi_DT1_df, palette=\"coolwarm\")\n",
        "\n",
        "plt.xlabel('Average Feature Importance')\n",
        "plt.title('Average Feature Importance (DT model 1) from Cross-Validation')\n",
        "plt.xticks(rotation=45)\n",
        "plt.xticks(fontsize=6)\n",
        "plt.show()\n"
      ],
      "metadata": {
        "colab": {
          "base_uri": "https://localhost:8080/",
          "height": 698
        },
        "id": "buXqa8mfL3m5",
        "outputId": "bc82c7a9-7159-4ba4-c180-2b88c22787c1"
      },
      "execution_count": null,
      "outputs": [
        {
          "output_type": "stream",
          "name": "stderr",
          "text": [
            "<ipython-input-36-361f2efa6a7f>:2: FutureWarning: \n",
            "\n",
            "Passing `palette` without assigning `hue` is deprecated and will be removed in v0.14.0. Assign the `x` variable to `hue` and set `legend=False` for the same effect.\n",
            "\n",
            "  sns.barplot(x='Feature', y='Importance %', data= fi_DT1_df, palette=\"coolwarm\")\n"
          ]
        },
        {
          "output_type": "display_data",
          "data": {
            "text/plain": [
              "<Figure size 800x600 with 1 Axes>"
            ],
            "image/png": "[encoded data removed]"
          },
          "metadata": {}
        }
      ]
    },
    {
      "cell_type": "markdown",
      "source": [
        "# Random Forest Model 2"
      ],
      "metadata": {
        "id": "FyX1KkGJbuB4"
      }
    },
    {
      "cell_type": "markdown",
      "source": [
        "**RF model 2 parameter tunning (NO symptom count)**"
      ],
      "metadata": {
        "id": "RS7rDq_vcnwx"
      }
    },
    {
      "cell_type": "code",
      "source": [
        "RF2 = RandomForestClassifier(random_state= 42, n_estimators= 10, max_depth=3, min_samples_split=50, min_samples_leaf =20)"
      ],
      "metadata": {
        "id": "qDTjyHitc1bo"
      },
      "execution_count": null,
      "outputs": []
    },
    {
      "cell_type": "markdown",
      "source": [
        "Train using training and testing sets"
      ],
      "metadata": {
        "id": "wok8cR27c_MX"
      }
    },
    {
      "cell_type": "code",
      "source": [
        "RF2.fit(x_simple_train, y_train)"
      ],
      "metadata": {
        "colab": {
          "base_uri": "https://localhost:8080/",
          "height": 97
        },
        "id": "SjIRfT6qdCbW",
        "outputId": "b8071ba7-f84e-4aef-b4d8-d80c0486839f"
      },
      "execution_count": null,
      "outputs": [
        {
          "output_type": "execute_result",
          "data": {
            "text/plain": [
              "RandomForestClassifier(max_depth=3, min_samples_leaf=20, min_samples_split=50,\n",
              "                       n_estimators=10, random_state=42)"
            ],
            "text/html": [
              "<style>#sk-container-id-4 {\n",
              "  /* Definition of color scheme common for light and dark mode */\n",
              "  --sklearn-color-text: #000;\n",
              "  --sklearn-color-text-muted: #666;\n",
              "  --sklearn-color-line: gray;\n",
              "  /* Definition of color scheme for unfitted estimators */\n",
              "  --sklearn-color-unfitted-level-0: #fff5e6;\n",
              "  --sklearn-color-unfitted-level-1: #f6e4d2;\n",
              "  --sklearn-color-unfitted-level-2: #ffe0b3;\n",
              "  --sklearn-color-unfitted-level-3: chocolate;\n",
              "  /* Definition of color scheme for fitted estimators */\n",
              "  --sklearn-color-fitted-level-0: #f0f8ff;\n",
              "  --sklearn-color-fitted-level-1: #d4ebff;\n",
              "  --sklearn-color-fitted-level-2: #b3dbfd;\n",
              "  --sklearn-color-fitted-level-3: cornflowerblue;\n",
              "\n",
              "  /* Specific color for light theme */\n",
              "  --sklearn-color-text-on-default-background: var(--sg-text-color, var(--theme-code-foreground, var(--jp-content-font-color1, black)));\n",
              "  --sklearn-color-background: var(--sg-background-color, var(--theme-background, var(--jp-layout-color0, white)));\n",
              "  --sklearn-color-border-box: var(--sg-text-color, var(--theme-code-foreground, var(--jp-content-font-color1, black)));\n",
              "  --sklearn-color-icon: #696969;\n",
              "\n",
              "  @media (prefers-color-scheme: dark) {\n",
              "    /* Redefinition of color scheme for dark theme */\n",
              "    --sklearn-color-text-on-default-background: var(--sg-text-color, var(--theme-code-foreground, var(--jp-content-font-color1, white)));\n",
              "    --sklearn-color-background: var(--sg-background-color, var(--theme-background, var(--jp-layout-color0, #111)));\n",
              "    --sklearn-color-border-box: var(--sg-text-color, var(--theme-code-foreground, var(--jp-content-font-color1, white)));\n",
              "    --sklearn-color-icon: #878787;\n",
              "  }\n",
              "}\n",
              "\n",
              "#sk-container-id-4 {\n",
              "  color: var(--sklearn-color-text);\n",
              "}\n",
              "\n",
              "#sk-container-id-4 pre {\n",
              "  padding: 0;\n",
              "}\n",
              "\n",
              "#sk-container-id-4 input.sk-hidden--visually {\n",
              "  border: 0;\n",
              "  clip: rect(1px 1px 1px 1px);\n",
              "  clip: rect(1px, 1px, 1px, 1px);\n",
              "  height: 1px;\n",
              "  margin: -1px;\n",
              "  overflow: hidden;\n",
              "  padding: 0;\n",
              "  position: absolute;\n",
              "  width: 1px;\n",
              "}\n",
              "\n",
              "#sk-container-id-4 div.sk-dashed-wrapped {\n",
              "  border: 1px dashed var(--sklearn-color-line);\n",
              "  margin: 0 0.4em 0.5em 0.4em;\n",
              "  box-sizing: border-box;\n",
              "  padding-bottom: 0.4em;\n",
              "  background-color: var(--sklearn-color-background);\n",
              "}\n",
              "\n",
              "#sk-container-id-4 div.sk-container {\n",
              "  /* jupyter's `normalize.less` sets `[hidden] { display: none; }`\n",
              "     but bootstrap.min.css set `[hidden] { display: none !important; }`\n",
              "     so we also need the `!important` here to be able to override the\n",
              "     default hidden behavior on the sphinx rendered scikit-learn.org.\n",
              "     See: https://github.com/scikit-learn/scikit-learn/issues/21755 */\n",
              "  display: inline-block !important;\n",
              "  position: relative;\n",
              "}\n",
              "\n",
              "#sk-container-id-4 div.sk-text-repr-fallback {\n",
              "  display: none;\n",
              "}\n",
              "\n",
              "div.sk-parallel-item,\n",
              "div.sk-serial,\n",
              "div.sk-item {\n",
              "  /* draw centered vertical line to link estimators */\n",
              "  background-image: linear-gradient(var(--sklearn-color-text-on-default-background), var(--sklearn-color-text-on-default-background));\n",
              "  background-size: 2px 100%;\n",
              "  background-repeat: no-repeat;\n",
              "  background-position: center center;\n",
              "}\n",
              "\n",
              "/* Parallel-specific style estimator block */\n",
              "\n",
              "#sk-container-id-4 div.sk-parallel-item::after {\n",
              "  content: \"\";\n",
              "  width: 100%;\n",
              "  border-bottom: 2px solid var(--sklearn-color-text-on-default-background);\n",
              "  flex-grow: 1;\n",
              "}\n",
              "\n",
              "#sk-container-id-4 div.sk-parallel {\n",
              "  display: flex;\n",
              "  align-items: stretch;\n",
              "  justify-content: center;\n",
              "  background-color: var(--sklearn-color-background);\n",
              "  position: relative;\n",
              "}\n",
              "\n",
              "#sk-container-id-4 div.sk-parallel-item {\n",
              "  display: flex;\n",
              "  flex-direction: column;\n",
              "}\n",
              "\n",
              "#sk-container-id-4 div.sk-parallel-item:first-child::after {\n",
              "  align-self: flex-end;\n",
              "  width: 50%;\n",
              "}\n",
              "\n",
              "#sk-container-id-4 div.sk-parallel-item:last-child::after {\n",
              "  align-self: flex-start;\n",
              "  width: 50%;\n",
              "}\n",
              "\n",
              "#sk-container-id-4 div.sk-parallel-item:only-child::after {\n",
              "  width: 0;\n",
              "}\n",
              "\n",
              "/* Serial-specific style estimator block */\n",
              "\n",
              "#sk-container-id-4 div.sk-serial {\n",
              "  display: flex;\n",
              "  flex-direction: column;\n",
              "  align-items: center;\n",
              "  background-color: var(--sklearn-color-background);\n",
              "  padding-right: 1em;\n",
              "  padding-left: 1em;\n",
              "}\n",
              "\n",
              "\n",
              "/* Toggleable style: style used for estimator/Pipeline/ColumnTransformer box that is\n",
              "clickable and can be expanded/collapsed.\n",
              "- Pipeline and ColumnTransformer use this feature and define the default style\n",
              "- Estimators will overwrite some part of the style using the `sk-estimator` class\n",
              "*/\n",
              "\n",
              "/* Pipeline and ColumnTransformer style (default) */\n",
              "\n",
              "#sk-container-id-4 div.sk-toggleable {\n",
              "  /* Default theme specific background. It is overwritten whether we have a\n",
              "  specific estimator or a Pipeline/ColumnTransformer */\n",
              "  background-color: var(--sklearn-color-background);\n",
              "}\n",
              "\n",
              "/* Toggleable label */\n",
              "#sk-container-id-4 label.sk-toggleable__label {\n",
              "  cursor: pointer;\n",
              "  display: flex;\n",
              "  width: 100%;\n",
              "  margin-bottom: 0;\n",
              "  padding: 0.5em;\n",
              "  box-sizing: border-box;\n",
              "  text-align: center;\n",
              "  align-items: start;\n",
              "  justify-content: space-between;\n",
              "  gap: 0.5em;\n",
              "}\n",
              "\n",
              "#sk-container-id-4 label.sk-toggleable__label .caption {\n",
              "  font-size: 0.6rem;\n",
              "  font-weight: lighter;\n",
              "  color: var(--sklearn-color-text-muted);\n",
              "}\n",
              "\n",
              "#sk-container-id-4 label.sk-toggleable__label-arrow:before {\n",
              "  /* Arrow on the left of the label */\n",
              "  content: \"▸\";\n",
              "  float: left;\n",
              "  margin-right: 0.25em;\n",
              "  color: var(--sklearn-color-icon);\n",
              "}\n",
              "\n",
              "#sk-container-id-4 label.sk-toggleable__label-arrow:hover:before {\n",
              "  color: var(--sklearn-color-text);\n",
              "}\n",
              "\n",
              "/* Toggleable content - dropdown */\n",
              "\n",
              "#sk-container-id-4 div.sk-toggleable__content {\n",
              "  max-height: 0;\n",
              "  max-width: 0;\n",
              "  overflow: hidden;\n",
              "  text-align: left;\n",
              "  /* unfitted */\n",
              "  background-color: var(--sklearn-color-unfitted-level-0);\n",
              "}\n",
              "\n",
              "#sk-container-id-4 div.sk-toggleable__content.fitted {\n",
              "  /* fitted */\n",
              "  background-color: var(--sklearn-color-fitted-level-0);\n",
              "}\n",
              "\n",
              "#sk-container-id-4 div.sk-toggleable__content pre {\n",
              "  margin: 0.2em;\n",
              "  border-radius: 0.25em;\n",
              "  color: var(--sklearn-color-text);\n",
              "  /* unfitted */\n",
              "  background-color: var(--sklearn-color-unfitted-level-0);\n",
              "}\n",
              "\n",
              "#sk-container-id-4 div.sk-toggleable__content.fitted pre {\n",
              "  /* unfitted */\n",
              "  background-color: var(--sklearn-color-fitted-level-0);\n",
              "}\n",
              "\n",
              "#sk-container-id-4 input.sk-toggleable__control:checked~div.sk-toggleable__content {\n",
              "  /* Expand drop-down */\n",
              "  max-height: 200px;\n",
              "  max-width: 100%;\n",
              "  overflow: auto;\n",
              "}\n",
              "\n",
              "#sk-container-id-4 input.sk-toggleable__control:checked~label.sk-toggleable__label-arrow:before {\n",
              "  content: \"▾\";\n",
              "}\n",
              "\n",
              "/* Pipeline/ColumnTransformer-specific style */\n",
              "\n",
              "#sk-container-id-4 div.sk-label input.sk-toggleable__control:checked~label.sk-toggleable__label {\n",
              "  color: var(--sklearn-color-text);\n",
              "  background-color: var(--sklearn-color-unfitted-level-2);\n",
              "}\n",
              "\n",
              "#sk-container-id-4 div.sk-label.fitted input.sk-toggleable__control:checked~label.sk-toggleable__label {\n",
              "  background-color: var(--sklearn-color-fitted-level-2);\n",
              "}\n",
              "\n",
              "/* Estimator-specific style */\n",
              "\n",
              "/* Colorize estimator box */\n",
              "#sk-container-id-4 div.sk-estimator input.sk-toggleable__control:checked~label.sk-toggleable__label {\n",
              "  /* unfitted */\n",
              "  background-color: var(--sklearn-color-unfitted-level-2);\n",
              "}\n",
              "\n",
              "#sk-container-id-4 div.sk-estimator.fitted input.sk-toggleable__control:checked~label.sk-toggleable__label {\n",
              "  /* fitted */\n",
              "  background-color: var(--sklearn-color-fitted-level-2);\n",
              "}\n",
              "\n",
              "#sk-container-id-4 div.sk-label label.sk-toggleable__label,\n",
              "#sk-container-id-4 div.sk-label label {\n",
              "  /* The background is the default theme color */\n",
              "  color: var(--sklearn-color-text-on-default-background);\n",
              "}\n",
              "\n",
              "/* On hover, darken the color of the background */\n",
              "#sk-container-id-4 div.sk-label:hover label.sk-toggleable__label {\n",
              "  color: var(--sklearn-color-text);\n",
              "  background-color: var(--sklearn-color-unfitted-level-2);\n",
              "}\n",
              "\n",
              "/* Label box, darken color on hover, fitted */\n",
              "#sk-container-id-4 div.sk-label.fitted:hover label.sk-toggleable__label.fitted {\n",
              "  color: var(--sklearn-color-text);\n",
              "  background-color: var(--sklearn-color-fitted-level-2);\n",
              "}\n",
              "\n",
              "/* Estimator label */\n",
              "\n",
              "#sk-container-id-4 div.sk-label label {\n",
              "  font-family: monospace;\n",
              "  font-weight: bold;\n",
              "  display: inline-block;\n",
              "  line-height: 1.2em;\n",
              "}\n",
              "\n",
              "#sk-container-id-4 div.sk-label-container {\n",
              "  text-align: center;\n",
              "}\n",
              "\n",
              "/* Estimator-specific */\n",
              "#sk-container-id-4 div.sk-estimator {\n",
              "  font-family: monospace;\n",
              "  border: 1px dotted var(--sklearn-color-border-box);\n",
              "  border-radius: 0.25em;\n",
              "  box-sizing: border-box;\n",
              "  margin-bottom: 0.5em;\n",
              "  /* unfitted */\n",
              "  background-color: var(--sklearn-color-unfitted-level-0);\n",
              "}\n",
              "\n",
              "#sk-container-id-4 div.sk-estimator.fitted {\n",
              "  /* fitted */\n",
              "  background-color: var(--sklearn-color-fitted-level-0);\n",
              "}\n",
              "\n",
              "/* on hover */\n",
              "#sk-container-id-4 div.sk-estimator:hover {\n",
              "  /* unfitted */\n",
              "  background-color: var(--sklearn-color-unfitted-level-2);\n",
              "}\n",
              "\n",
              "#sk-container-id-4 div.sk-estimator.fitted:hover {\n",
              "  /* fitted */\n",
              "  background-color: var(--sklearn-color-fitted-level-2);\n",
              "}\n",
              "\n",
              "/* Specification for estimator info (e.g. \"i\" and \"?\") */\n",
              "\n",
              "/* Common style for \"i\" and \"?\" */\n",
              "\n",
              ".sk-estimator-doc-link,\n",
              "a:link.sk-estimator-doc-link,\n",
              "a:visited.sk-estimator-doc-link {\n",
              "  float: right;\n",
              "  font-size: smaller;\n",
              "  line-height: 1em;\n",
              "  font-family: monospace;\n",
              "  background-color: var(--sklearn-color-background);\n",
              "  border-radius: 1em;\n",
              "  height: 1em;\n",
              "  width: 1em;\n",
              "  text-decoration: none !important;\n",
              "  margin-left: 0.5em;\n",
              "  text-align: center;\n",
              "  /* unfitted */\n",
              "  border: var(--sklearn-color-unfitted-level-1) 1pt solid;\n",
              "  color: var(--sklearn-color-unfitted-level-1);\n",
              "}\n",
              "\n",
              ".sk-estimator-doc-link.fitted,\n",
              "a:link.sk-estimator-doc-link.fitted,\n",
              "a:visited.sk-estimator-doc-link.fitted {\n",
              "  /* fitted */\n",
              "  border: var(--sklearn-color-fitted-level-1) 1pt solid;\n",
              "  color: var(--sklearn-color-fitted-level-1);\n",
              "}\n",
              "\n",
              "/* On hover */\n",
              "div.sk-estimator:hover .sk-estimator-doc-link:hover,\n",
              ".sk-estimator-doc-link:hover,\n",
              "div.sk-label-container:hover .sk-estimator-doc-link:hover,\n",
              ".sk-estimator-doc-link:hover {\n",
              "  /* unfitted */\n",
              "  background-color: var(--sklearn-color-unfitted-level-3);\n",
              "  color: var(--sklearn-color-background);\n",
              "  text-decoration: none;\n",
              "}\n",
              "\n",
              "div.sk-estimator.fitted:hover .sk-estimator-doc-link.fitted:hover,\n",
              ".sk-estimator-doc-link.fitted:hover,\n",
              "div.sk-label-container:hover .sk-estimator-doc-link.fitted:hover,\n",
              ".sk-estimator-doc-link.fitted:hover {\n",
              "  /* fitted */\n",
              "  background-color: var(--sklearn-color-fitted-level-3);\n",
              "  color: var(--sklearn-color-background);\n",
              "  text-decoration: none;\n",
              "}\n",
              "\n",
              "/* Span, style for the box shown on hovering the info icon */\n",
              ".sk-estimator-doc-link span {\n",
              "  display: none;\n",
              "  z-index: 9999;\n",
              "  position: relative;\n",
              "  font-weight: normal;\n",
              "  right: .2ex;\n",
              "  padding: .5ex;\n",
              "  margin: .5ex;\n",
              "  width: min-content;\n",
              "  min-width: 20ex;\n",
              "  max-width: 50ex;\n",
              "  color: var(--sklearn-color-text);\n",
              "  box-shadow: 2pt 2pt 4pt #999;\n",
              "  /* unfitted */\n",
              "  background: var(--sklearn-color-unfitted-level-0);\n",
              "  border: .5pt solid var(--sklearn-color-unfitted-level-3);\n",
              "}\n",
              "\n",
              ".sk-estimator-doc-link.fitted span {\n",
              "  /* fitted */\n",
              "  background: var(--sklearn-color-fitted-level-0);\n",
              "  border: var(--sklearn-color-fitted-level-3);\n",
              "}\n",
              "\n",
              ".sk-estimator-doc-link:hover span {\n",
              "  display: block;\n",
              "}\n",
              "\n",
              "/* \"?\"-specific style due to the `<a>` HTML tag */\n",
              "\n",
              "#sk-container-id-4 a.estimator_doc_link {\n",
              "  float: right;\n",
              "  font-size: 1rem;\n",
              "  line-height: 1em;\n",
              "  font-family: monospace;\n",
              "  background-color: var(--sklearn-color-background);\n",
              "  border-radius: 1rem;\n",
              "  height: 1rem;\n",
              "  width: 1rem;\n",
              "  text-decoration: none;\n",
              "  /* unfitted */\n",
              "  color: var(--sklearn-color-unfitted-level-1);\n",
              "  border: var(--sklearn-color-unfitted-level-1) 1pt solid;\n",
              "}\n",
              "\n",
              "#sk-container-id-4 a.estimator_doc_link.fitted {\n",
              "  /* fitted */\n",
              "  border: var(--sklearn-color-fitted-level-1) 1pt solid;\n",
              "  color: var(--sklearn-color-fitted-level-1);\n",
              "}\n",
              "\n",
              "/* On hover */\n",
              "#sk-container-id-4 a.estimator_doc_link:hover {\n",
              "  /* unfitted */\n",
              "  background-color: var(--sklearn-color-unfitted-level-3);\n",
              "  color: var(--sklearn-color-background);\n",
              "  text-decoration: none;\n",
              "}\n",
              "\n",
              "#sk-container-id-4 a.estimator_doc_link.fitted:hover {\n",
              "  /* fitted */\n",
              "  background-color: var(--sklearn-color-fitted-level-3);\n",
              "}\n",
              "</style><div id=\"sk-container-id-4\" class=\"sk-top-container\"><div class=\"sk-text-repr-fallback\"><pre>RandomForestClassifier(max_depth=3, min_samples_leaf=20, min_samples_split=50,\n",
              "                       n_estimators=10, random_state=42)</pre><b>In a Jupyter environment, please rerun this cell to show the HTML representation or trust the notebook. <br />On GitHub, the HTML representation is unable to render, please try loading this page with nbviewer.org.</b></div><div class=\"sk-container\" hidden><div class=\"sk-item\"><div class=\"sk-estimator fitted sk-toggleable\"><input class=\"sk-toggleable__control sk-hidden--visually\" id=\"sk-estimator-id-4\" type=\"checkbox\" checked><label for=\"sk-estimator-id-4\" class=\"sk-toggleable__label fitted sk-toggleable__label-arrow\"><div><div>RandomForestClassifier</div></div><div><a class=\"sk-estimator-doc-link fitted\" rel=\"noreferrer\" target=\"_blank\" href=\"https://scikit-learn.org/1.6/modules/generated/sklearn.ensemble.RandomForestClassifier.html\">?<span>Documentation for RandomForestClassifier</span></a><span class=\"sk-estimator-doc-link fitted\">i<span>Fitted</span></span></div></label><div class=\"sk-toggleable__content fitted\"><pre>RandomForestClassifier(max_depth=3, min_samples_leaf=20, min_samples_split=50,\n",
              "                       n_estimators=10, random_state=42)</pre></div> </div></div></div></div>"
            ]
          },
          "metadata": {},
          "execution_count": 61
        }
      ]
    },
    {
      "cell_type": "markdown",
      "source": [
        "Prediction RF model 2"
      ],
      "metadata": {
        "id": "jX5rLR8hdLfe"
      }
    },
    {
      "cell_type": "code",
      "source": [
        "y_pred_RF2 = RF2.predict(x_simple_test)"
      ],
      "metadata": {
        "id": "o4yqRcRcdPpa"
      },
      "execution_count": null,
      "outputs": []
    },
    {
      "cell_type": "markdown",
      "source": [
        "Confusion matrix RF model 2"
      ],
      "metadata": {
        "id": "R4Xr0nL0dVmM"
      }
    },
    {
      "cell_type": "code",
      "source": [
        "print(\"Confusion Matrix (RF Model 2):\")\n",
        "print(confusion_matrix(y_test, y_pred_RF2))"
      ],
      "metadata": {
        "colab": {
          "base_uri": "https://localhost:8080/"
        },
        "id": "tol-YNaHdaZc",
        "outputId": "7c874427-3613-4bc6-cd4b-87c173644057"
      },
      "execution_count": null,
      "outputs": [
        {
          "output_type": "stream",
          "name": "stdout",
          "text": [
            "Confusion Matrix (RF Model 2):\n",
            "[[21  0]\n",
            " [ 0 15]]\n"
          ]
        }
      ]
    },
    {
      "cell_type": "markdown",
      "source": [
        "Accuracy RF model 2"
      ],
      "metadata": {
        "id": "fLI5fdXCd_YN"
      }
    },
    {
      "cell_type": "code",
      "source": [
        "accuracy_RF2 = accuracy_score(y_test, y_pred_RF2)\n",
        "print(f\"Accuracy Random Forest model2: {accuracy_RF2 * 100:.2f}%\")"
      ],
      "metadata": {
        "colab": {
          "base_uri": "https://localhost:8080/"
        },
        "id": "bJ9eHKXfeGfs",
        "outputId": "d1acbdff-3b0c-407b-feef-19fdc1f29e32"
      },
      "execution_count": null,
      "outputs": [
        {
          "output_type": "stream",
          "name": "stdout",
          "text": [
            "Accuracy Random Forest model2: 100.00%\n"
          ]
        }
      ]
    },
    {
      "cell_type": "markdown",
      "source": [
        "Using cross validation"
      ],
      "metadata": {
        "id": "ckcblhx3e-u8"
      }
    },
    {
      "cell_type": "code",
      "source": [
        "# metrics\n",
        "fi_RF2 = []\n",
        "accuracy_scores_RF2 = []\n",
        "precision_scores_RF2 = []\n",
        "recall_scores_RF2 = []\n",
        "\n",
        "accuracy_scores_RF2_train = []\n",
        "precision_scores_RF2_train = []\n",
        "recall_scores_RF2_train = []"
      ],
      "metadata": {
        "id": "6nQQQA_U4jvK"
      },
      "execution_count": null,
      "outputs": []
    },
    {
      "cell_type": "markdown",
      "source": [
        "Train model and metrics"
      ],
      "metadata": {
        "id": "yeqj02qmM_aG"
      }
    },
    {
      "cell_type": "code",
      "source": [
        "for train_index_RF2, test_index_RF2 in kfold.split(x_simple):\n",
        "    xRF2_train_cv, xRF2_test_cv = x_simple.iloc[train_index_RF2], x_simple.iloc[test_index_RF2]\n",
        "    yRF2_train_cv, yRF2_test_cv = y.iloc[train_index_RF2], y.iloc[test_index_RF2]\n",
        "\n",
        "    train_size = len(train_index_RF2)\n",
        "    test_size = len(test_index_RF2)\n",
        "    print(f\"Training Size: {train_size}, Testing Size: {test_size}\")\n",
        "\n",
        "    # Train\n",
        "    RF2.fit(xRF2_train_cv, yRF2_train_cv)\n",
        "\n",
        "    y_pred_RF2 = RF2.predict(xRF2_test_cv)\n",
        "    ytrain_pred_RF2 = RF2.predict (xRF2_train_cv)\n",
        "\n",
        "    # Metrics for each fold TEST\n",
        "    accuracy_scores_RF2.append(accuracy_score (yRF2_test_cv, y_pred_RF2))\n",
        "    precision_scores_RF2.append(precision_score(yRF2_test_cv, y_pred_RF2, average='binary'))\n",
        "    recall_scores_RF2.append (recall_score (yRF2_test_cv, y_pred_RF2, average='binary'))\n",
        "\n",
        "    # Metrics for each fold and feature importance TRAIN\n",
        "    accuracy_scores_RF2_train.append(accuracy_score(yRF2_train_cv, ytrain_pred_RF2))\n",
        "    precision_scores_RF2_train.append(precision_score(yRF2_train_cv, ytrain_pred_RF2, average='binary'))\n",
        "    recall_scores_RF2_train.append(recall_score(yRF2_train_cv, ytrain_pred_RF2, average='binary'))\n",
        "\n",
        "    fi_RF2.append (RF2.feature_importances_)\n",
        "\n",
        "    print(RF2.get_params())"
      ],
      "metadata": {
        "id": "wxABj7BxM_aG",
        "colab": {
          "base_uri": "https://localhost:8080/"
        },
        "outputId": "051dbf6a-059b-446a-d674-07a2e2302d61"
      },
      "execution_count": null,
      "outputs": [
        {
          "output_type": "stream",
          "name": "stdout",
          "text": [
            "Training Size: 96, Testing Size: 24\n",
            "{'bootstrap': True, 'ccp_alpha': 0.0, 'class_weight': None, 'criterion': 'gini', 'max_depth': 3, 'max_features': 'sqrt', 'max_leaf_nodes': None, 'max_samples': None, 'min_impurity_decrease': 0.0, 'min_samples_leaf': 20, 'min_samples_split': 50, 'min_weight_fraction_leaf': 0.0, 'monotonic_cst': None, 'n_estimators': 10, 'n_jobs': None, 'oob_score': False, 'random_state': 42, 'verbose': 0, 'warm_start': False}\n",
            "Training Size: 96, Testing Size: 24\n",
            "{'bootstrap': True, 'ccp_alpha': 0.0, 'class_weight': None, 'criterion': 'gini', 'max_depth': 3, 'max_features': 'sqrt', 'max_leaf_nodes': None, 'max_samples': None, 'min_impurity_decrease': 0.0, 'min_samples_leaf': 20, 'min_samples_split': 50, 'min_weight_fraction_leaf': 0.0, 'monotonic_cst': None, 'n_estimators': 10, 'n_jobs': None, 'oob_score': False, 'random_state': 42, 'verbose': 0, 'warm_start': False}\n",
            "Training Size: 96, Testing Size: 24\n",
            "{'bootstrap': True, 'ccp_alpha': 0.0, 'class_weight': None, 'criterion': 'gini', 'max_depth': 3, 'max_features': 'sqrt', 'max_leaf_nodes': None, 'max_samples': None, 'min_impurity_decrease': 0.0, 'min_samples_leaf': 20, 'min_samples_split': 50, 'min_weight_fraction_leaf': 0.0, 'monotonic_cst': None, 'n_estimators': 10, 'n_jobs': None, 'oob_score': False, 'random_state': 42, 'verbose': 0, 'warm_start': False}\n",
            "Training Size: 96, Testing Size: 24\n",
            "{'bootstrap': True, 'ccp_alpha': 0.0, 'class_weight': None, 'criterion': 'gini', 'max_depth': 3, 'max_features': 'sqrt', 'max_leaf_nodes': None, 'max_samples': None, 'min_impurity_decrease': 0.0, 'min_samples_leaf': 20, 'min_samples_split': 50, 'min_weight_fraction_leaf': 0.0, 'monotonic_cst': None, 'n_estimators': 10, 'n_jobs': None, 'oob_score': False, 'random_state': 42, 'verbose': 0, 'warm_start': False}\n",
            "Training Size: 96, Testing Size: 24\n",
            "{'bootstrap': True, 'ccp_alpha': 0.0, 'class_weight': None, 'criterion': 'gini', 'max_depth': 3, 'max_features': 'sqrt', 'max_leaf_nodes': None, 'max_samples': None, 'min_impurity_decrease': 0.0, 'min_samples_leaf': 20, 'min_samples_split': 50, 'min_weight_fraction_leaf': 0.0, 'monotonic_cst': None, 'n_estimators': 10, 'n_jobs': None, 'oob_score': False, 'random_state': 42, 'verbose': 0, 'warm_start': False}\n"
          ]
        }
      ]
    },
    {
      "cell_type": "markdown",
      "source": [
        "Metrics Average Train"
      ],
      "metadata": {
        "id": "LBpqD3ZhEqtq"
      }
    },
    {
      "cell_type": "code",
      "source": [
        "print(f\"Mean Accuracy RF2 Train(cross-validation): {np.mean(accuracy_scores_RF2_train )* 100:.2f}%\")\n",
        "print(f\"Mean Precision RF2 Train(Cross-validation): {np.mean(precision_scores_RF2_train )* 100:.2f}%\")\n",
        "print(f\"Mean Recall RF2 Train(Cross-validation): {np.mean(recall_scores_RF2_train)* 100:.2f}%\")"
      ],
      "metadata": {
        "colab": {
          "base_uri": "https://localhost:8080/"
        },
        "outputId": "03cec0c7-11bb-4237-db3a-af70318aeb9b",
        "id": "xH-YMPnTEqtq"
      },
      "execution_count": null,
      "outputs": [
        {
          "output_type": "stream",
          "name": "stdout",
          "text": [
            "Mean Accuracy RF2 Train(cross-validation): 96.04%\n",
            "Mean Precision RF2 Train(Cross-validation): 95.41%\n",
            "Mean Recall RF2 Train(Cross-validation): 95.50%\n"
          ]
        }
      ]
    },
    {
      "cell_type": "markdown",
      "source": [
        "Metrics Average Test"
      ],
      "metadata": {
        "id": "PvWDW-siM_aH"
      }
    },
    {
      "cell_type": "code",
      "source": [
        "print(f\"Mean Accuracy RF2 (cross-validation): {np.mean(accuracy_scores_RF2 )* 100:.2f}%\")\n",
        "print(f\"Mean Precision RF2 (Cross-validation): {np.mean(precision_scores_RF2)* 100:.2f}%\")\n",
        "print(f\"Mean Recall RF2 (Cross-validation): {np.mean(recall_scores_RF2)*100:.2f}%\")"
      ],
      "metadata": {
        "colab": {
          "base_uri": "https://localhost:8080/"
        },
        "outputId": "cc691394-1176-4fd3-fa67-3f5b972907ea",
        "id": "w47k3ZzFM_aH"
      },
      "execution_count": null,
      "outputs": [
        {
          "output_type": "stream",
          "name": "stdout",
          "text": [
            "Mean Accuracy RF2 (cross-validation): 95.00%\n",
            "Mean Precision RF2 (Cross-validation): 91.72%\n",
            "Mean Recall RF2 (Cross-validation): 98.00%\n"
          ]
        }
      ]
    },
    {
      "cell_type": "markdown",
      "source": [
        "Feature Importance"
      ],
      "metadata": {
        "id": "Spph9BrHM_aH"
      }
    },
    {
      "cell_type": "code",
      "source": [
        "fi_RF2 = np.array(fi_RF2)\n",
        "mean_fi_RF2 = fi_RF2.mean(axis=0) #Mean feature importance\n",
        "percent_fi_RF2 = mean_fi_RF2*100\n",
        "\n",
        "fi_RF2_df = pd.DataFrame({'Feature': xRF2_train_cv.columns, 'Importance %': percent_fi_RF2})#dataframe fi\n",
        "fi_RF2_df = fi_RF2_df.sort_values(by='Importance %', ascending=False)\n",
        "\n",
        "print(fi_RF2_df)#print"
      ],
      "metadata": {
        "colab": {
          "base_uri": "https://localhost:8080/"
        },
        "outputId": "828cf81d-d55a-49db-f325-cb26a14ae61c",
        "id": "QeUn-iM4M_aH"
      },
      "execution_count": null,
      "outputs": [
        {
          "output_type": "stream",
          "name": "stdout",
          "text": [
            "             Feature  Importance %\n",
            "2        lumbar-pain     39.777778\n",
            "3      urine-pushing     24.444444\n",
            "4  micturition-pains     12.888889\n",
            "5    burning-urethra     12.444444\n",
            "0        temperature     10.444444\n",
            "1             nausea      0.000000\n"
          ]
        }
      ]
    },
    {
      "cell_type": "code",
      "source": [
        "plt.figure(figsize=(8, 6))\n",
        "sns.barplot(x='Feature', y='Importance %', data= fi_RF2_df, palette=\"coolwarm\")\n",
        "\n",
        "plt.xlabel('Average Feature Importance')\n",
        "plt.title('Average Feature Importance (RF MODEL 2) from Cross-Validation')\n",
        "plt.xticks(fontsize=6)\n",
        "plt.xticks(rotation=45)\n",
        "plt.show()"
      ],
      "metadata": {
        "colab": {
          "base_uri": "https://localhost:8080/",
          "height": 698
        },
        "outputId": "eef41bfb-afa2-4967-ab4a-09a94b1152bc",
        "id": "0k702OFCM_aI"
      },
      "execution_count": null,
      "outputs": [
        {
          "output_type": "stream",
          "name": "stderr",
          "text": [
            "<ipython-input-70-4394f58e3114>:2: FutureWarning: \n",
            "\n",
            "Passing `palette` without assigning `hue` is deprecated and will be removed in v0.14.0. Assign the `x` variable to `hue` and set `legend=False` for the same effect.\n",
            "\n",
            "  sns.barplot(x='Feature', y='Importance %', data= fi_RF2_df, palette=\"coolwarm\")\n"
          ]
        },
        {
          "output_type": "display_data",
          "data": {
            "text/plain": [
              "<Figure size 800x600 with 1 Axes>"
            ],
            "image/png": "[encoded data removed]"
          },
          "metadata": {}
        }
      ]
    },
    {
      "cell_type": "markdown",
      "source": [
        "# Decission Tree model 2"
      ],
      "metadata": {
        "id": "uXyTye4dhs2N"
      }
    },
    {
      "cell_type": "markdown",
      "source": [
        "**DT model 2 parameter tunning (NO symptom count)**"
      ],
      "metadata": {
        "id": "2TaatVumh3SG"
      }
    },
    {
      "cell_type": "code",
      "source": [
        "DT2 = DecisionTreeClassifier(random_state=42, max_depth=3, min_samples_split=50, min_samples_leaf=20)"
      ],
      "metadata": {
        "id": "RST9dgw1h5K4"
      },
      "execution_count": null,
      "outputs": []
    },
    {
      "cell_type": "markdown",
      "source": [
        "Train using training and testing sets"
      ],
      "metadata": {
        "id": "_5hzZDxAiLdR"
      }
    },
    {
      "cell_type": "code",
      "source": [
        "DT2.fit(x_simple_train, y_train)"
      ],
      "metadata": {
        "colab": {
          "base_uri": "https://localhost:8080/",
          "height": 97
        },
        "id": "Z-2agpF2iUo8",
        "outputId": "0fa66d9e-529b-4507-eb6c-c63d178102dd"
      },
      "execution_count": null,
      "outputs": [
        {
          "output_type": "execute_result",
          "data": {
            "text/plain": [
              "DecisionTreeClassifier(max_depth=3, min_samples_leaf=20, min_samples_split=50,\n",
              "                       random_state=42)"
            ],
            "text/html": [
              "<style>#sk-container-id-5 {\n",
              "  /* Definition of color scheme common for light and dark mode */\n",
              "  --sklearn-color-text: #000;\n",
              "  --sklearn-color-text-muted: #666;\n",
              "  --sklearn-color-line: gray;\n",
              "  /* Definition of color scheme for unfitted estimators */\n",
              "  --sklearn-color-unfitted-level-0: #fff5e6;\n",
              "  --sklearn-color-unfitted-level-1: #f6e4d2;\n",
              "  --sklearn-color-unfitted-level-2: #ffe0b3;\n",
              "  --sklearn-color-unfitted-level-3: chocolate;\n",
              "  /* Definition of color scheme for fitted estimators */\n",
              "  --sklearn-color-fitted-level-0: #f0f8ff;\n",
              "  --sklearn-color-fitted-level-1: #d4ebff;\n",
              "  --sklearn-color-fitted-level-2: #b3dbfd;\n",
              "  --sklearn-color-fitted-level-3: cornflowerblue;\n",
              "\n",
              "  /* Specific color for light theme */\n",
              "  --sklearn-color-text-on-default-background: var(--sg-text-color, var(--theme-code-foreground, var(--jp-content-font-color1, black)));\n",
              "  --sklearn-color-background: var(--sg-background-color, var(--theme-background, var(--jp-layout-color0, white)));\n",
              "  --sklearn-color-border-box: var(--sg-text-color, var(--theme-code-foreground, var(--jp-content-font-color1, black)));\n",
              "  --sklearn-color-icon: #696969;\n",
              "\n",
              "  @media (prefers-color-scheme: dark) {\n",
              "    /* Redefinition of color scheme for dark theme */\n",
              "    --sklearn-color-text-on-default-background: var(--sg-text-color, var(--theme-code-foreground, var(--jp-content-font-color1, white)));\n",
              "    --sklearn-color-background: var(--sg-background-color, var(--theme-background, var(--jp-layout-color0, #111)));\n",
              "    --sklearn-color-border-box: var(--sg-text-color, var(--theme-code-foreground, var(--jp-content-font-color1, white)));\n",
              "    --sklearn-color-icon: #878787;\n",
              "  }\n",
              "}\n",
              "\n",
              "#sk-container-id-5 {\n",
              "  color: var(--sklearn-color-text);\n",
              "}\n",
              "\n",
              "#sk-container-id-5 pre {\n",
              "  padding: 0;\n",
              "}\n",
              "\n",
              "#sk-container-id-5 input.sk-hidden--visually {\n",
              "  border: 0;\n",
              "  clip: rect(1px 1px 1px 1px);\n",
              "  clip: rect(1px, 1px, 1px, 1px);\n",
              "  height: 1px;\n",
              "  margin: -1px;\n",
              "  overflow: hidden;\n",
              "  padding: 0;\n",
              "  position: absolute;\n",
              "  width: 1px;\n",
              "}\n",
              "\n",
              "#sk-container-id-5 div.sk-dashed-wrapped {\n",
              "  border: 1px dashed var(--sklearn-color-line);\n",
              "  margin: 0 0.4em 0.5em 0.4em;\n",
              "  box-sizing: border-box;\n",
              "  padding-bottom: 0.4em;\n",
              "  background-color: var(--sklearn-color-background);\n",
              "}\n",
              "\n",
              "#sk-container-id-5 div.sk-container {\n",
              "  /* jupyter's `normalize.less` sets `[hidden] { display: none; }`\n",
              "     but bootstrap.min.css set `[hidden] { display: none !important; }`\n",
              "     so we also need the `!important` here to be able to override the\n",
              "     default hidden behavior on the sphinx rendered scikit-learn.org.\n",
              "     See: https://github.com/scikit-learn/scikit-learn/issues/21755 */\n",
              "  display: inline-block !important;\n",
              "  position: relative;\n",
              "}\n",
              "\n",
              "#sk-container-id-5 div.sk-text-repr-fallback {\n",
              "  display: none;\n",
              "}\n",
              "\n",
              "div.sk-parallel-item,\n",
              "div.sk-serial,\n",
              "div.sk-item {\n",
              "  /* draw centered vertical line to link estimators */\n",
              "  background-image: linear-gradient(var(--sklearn-color-text-on-default-background), var(--sklearn-color-text-on-default-background));\n",
              "  background-size: 2px 100%;\n",
              "  background-repeat: no-repeat;\n",
              "  background-position: center center;\n",
              "}\n",
              "\n",
              "/* Parallel-specific style estimator block */\n",
              "\n",
              "#sk-container-id-5 div.sk-parallel-item::after {\n",
              "  content: \"\";\n",
              "  width: 100%;\n",
              "  border-bottom: 2px solid var(--sklearn-color-text-on-default-background);\n",
              "  flex-grow: 1;\n",
              "}\n",
              "\n",
              "#sk-container-id-5 div.sk-parallel {\n",
              "  display: flex;\n",
              "  align-items: stretch;\n",
              "  justify-content: center;\n",
              "  background-color: var(--sklearn-color-background);\n",
              "  position: relative;\n",
              "}\n",
              "\n",
              "#sk-container-id-5 div.sk-parallel-item {\n",
              "  display: flex;\n",
              "  flex-direction: column;\n",
              "}\n",
              "\n",
              "#sk-container-id-5 div.sk-parallel-item:first-child::after {\n",
              "  align-self: flex-end;\n",
              "  width: 50%;\n",
              "}\n",
              "\n",
              "#sk-container-id-5 div.sk-parallel-item:last-child::after {\n",
              "  align-self: flex-start;\n",
              "  width: 50%;\n",
              "}\n",
              "\n",
              "#sk-container-id-5 div.sk-parallel-item:only-child::after {\n",
              "  width: 0;\n",
              "}\n",
              "\n",
              "/* Serial-specific style estimator block */\n",
              "\n",
              "#sk-container-id-5 div.sk-serial {\n",
              "  display: flex;\n",
              "  flex-direction: column;\n",
              "  align-items: center;\n",
              "  background-color: var(--sklearn-color-background);\n",
              "  padding-right: 1em;\n",
              "  padding-left: 1em;\n",
              "}\n",
              "\n",
              "\n",
              "/* Toggleable style: style used for estimator/Pipeline/ColumnTransformer box that is\n",
              "clickable and can be expanded/collapsed.\n",
              "- Pipeline and ColumnTransformer use this feature and define the default style\n",
              "- Estimators will overwrite some part of the style using the `sk-estimator` class\n",
              "*/\n",
              "\n",
              "/* Pipeline and ColumnTransformer style (default) */\n",
              "\n",
              "#sk-container-id-5 div.sk-toggleable {\n",
              "  /* Default theme specific background. It is overwritten whether we have a\n",
              "  specific estimator or a Pipeline/ColumnTransformer */\n",
              "  background-color: var(--sklearn-color-background);\n",
              "}\n",
              "\n",
              "/* Toggleable label */\n",
              "#sk-container-id-5 label.sk-toggleable__label {\n",
              "  cursor: pointer;\n",
              "  display: flex;\n",
              "  width: 100%;\n",
              "  margin-bottom: 0;\n",
              "  padding: 0.5em;\n",
              "  box-sizing: border-box;\n",
              "  text-align: center;\n",
              "  align-items: start;\n",
              "  justify-content: space-between;\n",
              "  gap: 0.5em;\n",
              "}\n",
              "\n",
              "#sk-container-id-5 label.sk-toggleable__label .caption {\n",
              "  font-size: 0.6rem;\n",
              "  font-weight: lighter;\n",
              "  color: var(--sklearn-color-text-muted);\n",
              "}\n",
              "\n",
              "#sk-container-id-5 label.sk-toggleable__label-arrow:before {\n",
              "  /* Arrow on the left of the label */\n",
              "  content: \"▸\";\n",
              "  float: left;\n",
              "  margin-right: 0.25em;\n",
              "  color: var(--sklearn-color-icon);\n",
              "}\n",
              "\n",
              "#sk-container-id-5 label.sk-toggleable__label-arrow:hover:before {\n",
              "  color: var(--sklearn-color-text);\n",
              "}\n",
              "\n",
              "/* Toggleable content - dropdown */\n",
              "\n",
              "#sk-container-id-5 div.sk-toggleable__content {\n",
              "  max-height: 0;\n",
              "  max-width: 0;\n",
              "  overflow: hidden;\n",
              "  text-align: left;\n",
              "  /* unfitted */\n",
              "  background-color: var(--sklearn-color-unfitted-level-0);\n",
              "}\n",
              "\n",
              "#sk-container-id-5 div.sk-toggleable__content.fitted {\n",
              "  /* fitted */\n",
              "  background-color: var(--sklearn-color-fitted-level-0);\n",
              "}\n",
              "\n",
              "#sk-container-id-5 div.sk-toggleable__content pre {\n",
              "  margin: 0.2em;\n",
              "  border-radius: 0.25em;\n",
              "  color: var(--sklearn-color-text);\n",
              "  /* unfitted */\n",
              "  background-color: var(--sklearn-color-unfitted-level-0);\n",
              "}\n",
              "\n",
              "#sk-container-id-5 div.sk-toggleable__content.fitted pre {\n",
              "  /* unfitted */\n",
              "  background-color: var(--sklearn-color-fitted-level-0);\n",
              "}\n",
              "\n",
              "#sk-container-id-5 input.sk-toggleable__control:checked~div.sk-toggleable__content {\n",
              "  /* Expand drop-down */\n",
              "  max-height: 200px;\n",
              "  max-width: 100%;\n",
              "  overflow: auto;\n",
              "}\n",
              "\n",
              "#sk-container-id-5 input.sk-toggleable__control:checked~label.sk-toggleable__label-arrow:before {\n",
              "  content: \"▾\";\n",
              "}\n",
              "\n",
              "/* Pipeline/ColumnTransformer-specific style */\n",
              "\n",
              "#sk-container-id-5 div.sk-label input.sk-toggleable__control:checked~label.sk-toggleable__label {\n",
              "  color: var(--sklearn-color-text);\n",
              "  background-color: var(--sklearn-color-unfitted-level-2);\n",
              "}\n",
              "\n",
              "#sk-container-id-5 div.sk-label.fitted input.sk-toggleable__control:checked~label.sk-toggleable__label {\n",
              "  background-color: var(--sklearn-color-fitted-level-2);\n",
              "}\n",
              "\n",
              "/* Estimator-specific style */\n",
              "\n",
              "/* Colorize estimator box */\n",
              "#sk-container-id-5 div.sk-estimator input.sk-toggleable__control:checked~label.sk-toggleable__label {\n",
              "  /* unfitted */\n",
              "  background-color: var(--sklearn-color-unfitted-level-2);\n",
              "}\n",
              "\n",
              "#sk-container-id-5 div.sk-estimator.fitted input.sk-toggleable__control:checked~label.sk-toggleable__label {\n",
              "  /* fitted */\n",
              "  background-color: var(--sklearn-color-fitted-level-2);\n",
              "}\n",
              "\n",
              "#sk-container-id-5 div.sk-label label.sk-toggleable__label,\n",
              "#sk-container-id-5 div.sk-label label {\n",
              "  /* The background is the default theme color */\n",
              "  color: var(--sklearn-color-text-on-default-background);\n",
              "}\n",
              "\n",
              "/* On hover, darken the color of the background */\n",
              "#sk-container-id-5 div.sk-label:hover label.sk-toggleable__label {\n",
              "  color: var(--sklearn-color-text);\n",
              "  background-color: var(--sklearn-color-unfitted-level-2);\n",
              "}\n",
              "\n",
              "/* Label box, darken color on hover, fitted */\n",
              "#sk-container-id-5 div.sk-label.fitted:hover label.sk-toggleable__label.fitted {\n",
              "  color: var(--sklearn-color-text);\n",
              "  background-color: var(--sklearn-color-fitted-level-2);\n",
              "}\n",
              "\n",
              "/* Estimator label */\n",
              "\n",
              "#sk-container-id-5 div.sk-label label {\n",
              "  font-family: monospace;\n",
              "  font-weight: bold;\n",
              "  display: inline-block;\n",
              "  line-height: 1.2em;\n",
              "}\n",
              "\n",
              "#sk-container-id-5 div.sk-label-container {\n",
              "  text-align: center;\n",
              "}\n",
              "\n",
              "/* Estimator-specific */\n",
              "#sk-container-id-5 div.sk-estimator {\n",
              "  font-family: monospace;\n",
              "  border: 1px dotted var(--sklearn-color-border-box);\n",
              "  border-radius: 0.25em;\n",
              "  box-sizing: border-box;\n",
              "  margin-bottom: 0.5em;\n",
              "  /* unfitted */\n",
              "  background-color: var(--sklearn-color-unfitted-level-0);\n",
              "}\n",
              "\n",
              "#sk-container-id-5 div.sk-estimator.fitted {\n",
              "  /* fitted */\n",
              "  background-color: var(--sklearn-color-fitted-level-0);\n",
              "}\n",
              "\n",
              "/* on hover */\n",
              "#sk-container-id-5 div.sk-estimator:hover {\n",
              "  /* unfitted */\n",
              "  background-color: var(--sklearn-color-unfitted-level-2);\n",
              "}\n",
              "\n",
              "#sk-container-id-5 div.sk-estimator.fitted:hover {\n",
              "  /* fitted */\n",
              "  background-color: var(--sklearn-color-fitted-level-2);\n",
              "}\n",
              "\n",
              "/* Specification for estimator info (e.g. \"i\" and \"?\") */\n",
              "\n",
              "/* Common style for \"i\" and \"?\" */\n",
              "\n",
              ".sk-estimator-doc-link,\n",
              "a:link.sk-estimator-doc-link,\n",
              "a:visited.sk-estimator-doc-link {\n",
              "  float: right;\n",
              "  font-size: smaller;\n",
              "  line-height: 1em;\n",
              "  font-family: monospace;\n",
              "  background-color: var(--sklearn-color-background);\n",
              "  border-radius: 1em;\n",
              "  height: 1em;\n",
              "  width: 1em;\n",
              "  text-decoration: none !important;\n",
              "  margin-left: 0.5em;\n",
              "  text-align: center;\n",
              "  /* unfitted */\n",
              "  border: var(--sklearn-color-unfitted-level-1) 1pt solid;\n",
              "  color: var(--sklearn-color-unfitted-level-1);\n",
              "}\n",
              "\n",
              ".sk-estimator-doc-link.fitted,\n",
              "a:link.sk-estimator-doc-link.fitted,\n",
              "a:visited.sk-estimator-doc-link.fitted {\n",
              "  /* fitted */\n",
              "  border: var(--sklearn-color-fitted-level-1) 1pt solid;\n",
              "  color: var(--sklearn-color-fitted-level-1);\n",
              "}\n",
              "\n",
              "/* On hover */\n",
              "div.sk-estimator:hover .sk-estimator-doc-link:hover,\n",
              ".sk-estimator-doc-link:hover,\n",
              "div.sk-label-container:hover .sk-estimator-doc-link:hover,\n",
              ".sk-estimator-doc-link:hover {\n",
              "  /* unfitted */\n",
              "  background-color: var(--sklearn-color-unfitted-level-3);\n",
              "  color: var(--sklearn-color-background);\n",
              "  text-decoration: none;\n",
              "}\n",
              "\n",
              "div.sk-estimator.fitted:hover .sk-estimator-doc-link.fitted:hover,\n",
              ".sk-estimator-doc-link.fitted:hover,\n",
              "div.sk-label-container:hover .sk-estimator-doc-link.fitted:hover,\n",
              ".sk-estimator-doc-link.fitted:hover {\n",
              "  /* fitted */\n",
              "  background-color: var(--sklearn-color-fitted-level-3);\n",
              "  color: var(--sklearn-color-background);\n",
              "  text-decoration: none;\n",
              "}\n",
              "\n",
              "/* Span, style for the box shown on hovering the info icon */\n",
              ".sk-estimator-doc-link span {\n",
              "  display: none;\n",
              "  z-index: 9999;\n",
              "  position: relative;\n",
              "  font-weight: normal;\n",
              "  right: .2ex;\n",
              "  padding: .5ex;\n",
              "  margin: .5ex;\n",
              "  width: min-content;\n",
              "  min-width: 20ex;\n",
              "  max-width: 50ex;\n",
              "  color: var(--sklearn-color-text);\n",
              "  box-shadow: 2pt 2pt 4pt #999;\n",
              "  /* unfitted */\n",
              "  background: var(--sklearn-color-unfitted-level-0);\n",
              "  border: .5pt solid var(--sklearn-color-unfitted-level-3);\n",
              "}\n",
              "\n",
              ".sk-estimator-doc-link.fitted span {\n",
              "  /* fitted */\n",
              "  background: var(--sklearn-color-fitted-level-0);\n",
              "  border: var(--sklearn-color-fitted-level-3);\n",
              "}\n",
              "\n",
              ".sk-estimator-doc-link:hover span {\n",
              "  display: block;\n",
              "}\n",
              "\n",
              "/* \"?\"-specific style due to the `<a>` HTML tag */\n",
              "\n",
              "#sk-container-id-5 a.estimator_doc_link {\n",
              "  float: right;\n",
              "  font-size: 1rem;\n",
              "  line-height: 1em;\n",
              "  font-family: monospace;\n",
              "  background-color: var(--sklearn-color-background);\n",
              "  border-radius: 1rem;\n",
              "  height: 1rem;\n",
              "  width: 1rem;\n",
              "  text-decoration: none;\n",
              "  /* unfitted */\n",
              "  color: var(--sklearn-color-unfitted-level-1);\n",
              "  border: var(--sklearn-color-unfitted-level-1) 1pt solid;\n",
              "}\n",
              "\n",
              "#sk-container-id-5 a.estimator_doc_link.fitted {\n",
              "  /* fitted */\n",
              "  border: var(--sklearn-color-fitted-level-1) 1pt solid;\n",
              "  color: var(--sklearn-color-fitted-level-1);\n",
              "}\n",
              "\n",
              "/* On hover */\n",
              "#sk-container-id-5 a.estimator_doc_link:hover {\n",
              "  /* unfitted */\n",
              "  background-color: var(--sklearn-color-unfitted-level-3);\n",
              "  color: var(--sklearn-color-background);\n",
              "  text-decoration: none;\n",
              "}\n",
              "\n",
              "#sk-container-id-5 a.estimator_doc_link.fitted:hover {\n",
              "  /* fitted */\n",
              "  background-color: var(--sklearn-color-fitted-level-3);\n",
              "}\n",
              "</style><div id=\"sk-container-id-5\" class=\"sk-top-container\"><div class=\"sk-text-repr-fallback\"><pre>DecisionTreeClassifier(max_depth=3, min_samples_leaf=20, min_samples_split=50,\n",
              "                       random_state=42)</pre><b>In a Jupyter environment, please rerun this cell to show the HTML representation or trust the notebook. <br />On GitHub, the HTML representation is unable to render, please try loading this page with nbviewer.org.</b></div><div class=\"sk-container\" hidden><div class=\"sk-item\"><div class=\"sk-estimator fitted sk-toggleable\"><input class=\"sk-toggleable__control sk-hidden--visually\" id=\"sk-estimator-id-5\" type=\"checkbox\" checked><label for=\"sk-estimator-id-5\" class=\"sk-toggleable__label fitted sk-toggleable__label-arrow\"><div><div>DecisionTreeClassifier</div></div><div><a class=\"sk-estimator-doc-link fitted\" rel=\"noreferrer\" target=\"_blank\" href=\"https://scikit-learn.org/1.6/modules/generated/sklearn.tree.DecisionTreeClassifier.html\">?<span>Documentation for DecisionTreeClassifier</span></a><span class=\"sk-estimator-doc-link fitted\">i<span>Fitted</span></span></div></label><div class=\"sk-toggleable__content fitted\"><pre>DecisionTreeClassifier(max_depth=3, min_samples_leaf=20, min_samples_split=50,\n",
              "                       random_state=42)</pre></div> </div></div></div></div>"
            ]
          },
          "metadata": {},
          "execution_count": 72
        }
      ]
    },
    {
      "cell_type": "markdown",
      "source": [
        "Prediction DT model 2"
      ],
      "metadata": {
        "id": "hblc5PnNibkJ"
      }
    },
    {
      "cell_type": "code",
      "source": [
        "y_pred_DT2 = DT2.predict (x_simple_test)"
      ],
      "metadata": {
        "id": "b5Bpr6eeiWJJ"
      },
      "execution_count": null,
      "outputs": []
    },
    {
      "cell_type": "markdown",
      "source": [
        "Confusion Matrix"
      ],
      "metadata": {
        "id": "JUtQdD9Gi3rP"
      }
    },
    {
      "cell_type": "code",
      "source": [
        "print(\"Confusion Matrix (DT model 2):\")\n",
        "print(confusion_matrix (y_test, y_pred_DT2))"
      ],
      "metadata": {
        "colab": {
          "base_uri": "https://localhost:8080/"
        },
        "id": "T4e5m54Qi4Yy",
        "outputId": "ee506199-4231-43c3-e22f-82f565741078"
      },
      "execution_count": null,
      "outputs": [
        {
          "output_type": "stream",
          "name": "stdout",
          "text": [
            "Confusion Matrix (DT model 2):\n",
            "[[14  7]\n",
            " [ 0 15]]\n"
          ]
        }
      ]
    },
    {
      "cell_type": "markdown",
      "source": [
        "Accuracy"
      ],
      "metadata": {
        "id": "7f-EQgmQjGXU"
      }
    },
    {
      "cell_type": "code",
      "source": [
        "accuracy_DT2=accuracy_score(y_test, y_pred_DT2)\n",
        "print(f\"Accuracy DT model 2: {accuracy_DT2 * 100:.2f}%\")\n"
      ],
      "metadata": {
        "colab": {
          "base_uri": "https://localhost:8080/"
        },
        "id": "Mq7phKnVjIvH",
        "outputId": "abcada9a-f74b-4ac4-aba2-c2f6bf9a1798"
      },
      "execution_count": null,
      "outputs": [
        {
          "output_type": "stream",
          "name": "stdout",
          "text": [
            "Accuracy DT model 2: 80.56%\n"
          ]
        }
      ]
    },
    {
      "cell_type": "markdown",
      "source": [
        "Using Cross Validation"
      ],
      "metadata": {
        "id": "K6wckXUXkHNG"
      }
    },
    {
      "cell_type": "code",
      "source": [
        "#Metrics\n",
        "fi_DT2 = [] #Feature importances per fold\n",
        "accuracy_scores_DT2 = []\n",
        "precision_scores_DT2 = []\n",
        "recall_scores_DT2 = []\n",
        "\n",
        "accuracy_scores_DT2_train = []\n",
        "precision_scores_DT2_train = []\n",
        "recall_scores_DT2_train = []"
      ],
      "metadata": {
        "id": "gbsBx6SKOXJS"
      },
      "execution_count": null,
      "outputs": []
    },
    {
      "cell_type": "markdown",
      "source": [
        "Train model and metrics"
      ],
      "metadata": {
        "id": "WOSr2w9QOXJS"
      }
    },
    {
      "cell_type": "code",
      "source": [
        "for train_index_DT2, test_index_DT2 in kfold.split(x_simple):\n",
        "    xDT2_train_cv, xDT2_test_cv = x_simple.iloc[train_index_DT2], x_simple.iloc[test_index_DT2]\n",
        "    yDT2_train_cv, yDT2_test_cv = y.iloc[train_index_DT2], y.iloc[test_index_DT2]\n",
        "\n",
        "    train_size = len(train_index_DT2)\n",
        "    test_size = len(test_index_DT2)\n",
        "    print(f\"Training Size: {train_size}, Testing Size: {test_size}\")\n",
        "\n",
        "    # Train\n",
        "    DT2.fit(xDT2_train_cv, yDT2_train_cv)\n",
        "\n",
        "    y_pred_DT2 = DT2.predict (xDT2_test_cv)\n",
        "    ytrain_pred_DT2=DT2.predict(xDT2_train_cv)\n",
        "\n",
        "    # Metrics for each fold\n",
        "    accuracy_scores_DT2.append (accuracy_score (yDT2_test_cv, y_pred_DT2))\n",
        "    precision_scores_DT2.append(precision_score (yDT2_test_cv, y_pred_DT2, average='binary'))\n",
        "    recall_scores_DT2.append (recall_score (yDT2_test_cv, y_pred_DT2, average='binary'))\n",
        "    fi_DT2.append(DT2.feature_importances_)\n",
        "\n",
        "    # Metrics for each fold TRAIN and feature importance\n",
        "    accuracy_scores_DT2_train.append(accuracy_score (yDT2_train_cv, ytrain_pred_DT2))\n",
        "    precision_scores_DT2_train.append(precision_score (yDT2_train_cv, ytrain_pred_DT2, average='binary'))\n",
        "    recall_scores_DT2_train.append(recall_score (yDT2_train_cv, ytrain_pred_DT2, average='binary'))\n",
        "\n",
        "    fi_DT2.append(DT2.feature_importances_)\n",
        "\n",
        "    print(DT2.get_params())"
      ],
      "metadata": {
        "id": "dinDlcEmOXJS",
        "colab": {
          "base_uri": "https://localhost:8080/"
        },
        "outputId": "3edc6c28-96b0-4fdf-a915-c4b38e3aede7"
      },
      "execution_count": null,
      "outputs": [
        {
          "output_type": "stream",
          "name": "stdout",
          "text": [
            "Training Size: 96, Testing Size: 24\n",
            "{'ccp_alpha': 0.0, 'class_weight': None, 'criterion': 'gini', 'max_depth': 3, 'max_features': None, 'max_leaf_nodes': None, 'min_impurity_decrease': 0.0, 'min_samples_leaf': 20, 'min_samples_split': 50, 'min_weight_fraction_leaf': 0.0, 'monotonic_cst': None, 'random_state': 42, 'splitter': 'best'}\n",
            "Training Size: 96, Testing Size: 24\n",
            "{'ccp_alpha': 0.0, 'class_weight': None, 'criterion': 'gini', 'max_depth': 3, 'max_features': None, 'max_leaf_nodes': None, 'min_impurity_decrease': 0.0, 'min_samples_leaf': 20, 'min_samples_split': 50, 'min_weight_fraction_leaf': 0.0, 'monotonic_cst': None, 'random_state': 42, 'splitter': 'best'}\n",
            "Training Size: 96, Testing Size: 24\n",
            "{'ccp_alpha': 0.0, 'class_weight': None, 'criterion': 'gini', 'max_depth': 3, 'max_features': None, 'max_leaf_nodes': None, 'min_impurity_decrease': 0.0, 'min_samples_leaf': 20, 'min_samples_split': 50, 'min_weight_fraction_leaf': 0.0, 'monotonic_cst': None, 'random_state': 42, 'splitter': 'best'}\n",
            "Training Size: 96, Testing Size: 24\n",
            "{'ccp_alpha': 0.0, 'class_weight': None, 'criterion': 'gini', 'max_depth': 3, 'max_features': None, 'max_leaf_nodes': None, 'min_impurity_decrease': 0.0, 'min_samples_leaf': 20, 'min_samples_split': 50, 'min_weight_fraction_leaf': 0.0, 'monotonic_cst': None, 'random_state': 42, 'splitter': 'best'}\n",
            "Training Size: 96, Testing Size: 24\n",
            "{'ccp_alpha': 0.0, 'class_weight': None, 'criterion': 'gini', 'max_depth': 3, 'max_features': None, 'max_leaf_nodes': None, 'min_impurity_decrease': 0.0, 'min_samples_leaf': 20, 'min_samples_split': 50, 'min_weight_fraction_leaf': 0.0, 'monotonic_cst': None, 'random_state': 42, 'splitter': 'best'}\n"
          ]
        }
      ]
    },
    {
      "cell_type": "markdown",
      "source": [
        "\n",
        "Metrics Average Train"
      ],
      "metadata": {
        "id": "6FIa_jPYGKUw"
      }
    },
    {
      "cell_type": "code",
      "source": [
        "print(f\"Mean Accuracy DT 2 Train (cross-validation): {np.mean(accuracy_scores_DT2_train)* 100:.2f}%\")\n",
        "print(f\"Mean Precision DT 2 Train(Cross-validation): {np.mean(precision_scores_DT2_train)* 100:.2f}%\")\n",
        "print(f\"Mean Recall DT 2 Train(Cross-validation): {np.mean(recall_scores_DT2_train) * 100:.2f}%\")"
      ],
      "metadata": {
        "colab": {
          "base_uri": "https://localhost:8080/"
        },
        "outputId": "e49110d4-dd79-4bd8-9588-0c1b0e8d2229",
        "id": "EPV3wl1gGKUx"
      },
      "execution_count": null,
      "outputs": [
        {
          "output_type": "stream",
          "name": "stdout",
          "text": [
            "Mean Accuracy DT 2 Train (cross-validation): 91.67%\n",
            "Mean Precision DT 2 Train(Cross-validation): 100.00%\n",
            "Mean Recall DT 2 Train(Cross-validation): 80.02%\n"
          ]
        }
      ]
    },
    {
      "cell_type": "markdown",
      "source": [
        "\n",
        "Metrics Average"
      ],
      "metadata": {
        "id": "qBpJtIYLOXJT"
      }
    },
    {
      "cell_type": "code",
      "source": [
        "print(f\"Mean Accuracy DT 2 (cross-validation): {np.mean(accuracy_scores_DT2)* 100:.2f}%\")\n",
        "print(f\"Mean Precision DT 2 (Cross-validation): {np.mean(precision_scores_DT2)* 100:.2f}%\")\n",
        "print(f\"Mean Recall DT 2 (Cross-validation): {np.mean(recall_scores_DT2)* 100:.2f}%\")"
      ],
      "metadata": {
        "colab": {
          "base_uri": "https://localhost:8080/"
        },
        "outputId": "22a06e83-4b91-443a-832b-ef2d4f691133",
        "id": "psRF7a1NOXJT"
      },
      "execution_count": null,
      "outputs": [
        {
          "output_type": "stream",
          "name": "stdout",
          "text": [
            "Mean Accuracy DT 2 (cross-validation): 91.67%\n",
            "Mean Precision DT 2 (Cross-validation): 100.00%\n",
            "Mean Recall DT 2 (Cross-validation): 80.32%\n"
          ]
        }
      ]
    },
    {
      "cell_type": "markdown",
      "source": [
        "Feature Importance"
      ],
      "metadata": {
        "id": "RP8ejtqKOXJT"
      }
    },
    {
      "cell_type": "code",
      "source": [
        "fi_DT2 = np.array(fi_DT2)\n",
        "mean_fi_DT2 = fi_DT2.mean(axis=0) #Mean feature importance\n",
        "percent_fi_DT2 = mean_fi_DT2*100\n",
        "\n",
        "fi_DT2_df = pd.DataFrame({'Feature': xDT2_train_cv.columns, 'Importance %': percent_fi_DT2})#dataframe fi\n",
        "fi_DT2_df = fi_DT2_df.sort_values(by='Importance %', ascending= False)\n",
        "\n",
        "print(fi_DT2_df)#print"
      ],
      "metadata": {
        "colab": {
          "base_uri": "https://localhost:8080/"
        },
        "outputId": "fc784106-4318-422c-ca40-df74b90c0bc8",
        "id": "JM6ihnMoOXJT"
      },
      "execution_count": null,
      "outputs": [
        {
          "output_type": "stream",
          "name": "stdout",
          "text": [
            "             Feature  Importance %\n",
            "2        lumbar-pain     66.105875\n",
            "3      urine-pushing     33.894125\n",
            "1             nausea      0.000000\n",
            "0        temperature      0.000000\n",
            "4  micturition-pains      0.000000\n",
            "5    burning-urethra      0.000000\n"
          ]
        }
      ]
    },
    {
      "cell_type": "code",
      "source": [
        "plt.figure(figsize=(8, 6))\n",
        "sns.barplot(x='Feature', y='Importance %', data= fi_DT2_df, palette=\"coolwarm\")\n",
        "plt.xlabel('Average Feature Importance')\n",
        "plt.title('Average Feature Importance (DT MODEL 2) from Cross-Validation')\n",
        "plt.xticks(rotation=45)\n",
        "plt.xticks(fontsize=6)\n",
        "plt.show()\n"
      ],
      "metadata": {
        "colab": {
          "base_uri": "https://localhost:8080/",
          "height": 698
        },
        "outputId": "d7d10772-90ff-4ac2-fea8-265769fc8af7",
        "id": "Xe9kr_EuOXJT"
      },
      "execution_count": null,
      "outputs": [
        {
          "output_type": "stream",
          "name": "stderr",
          "text": [
            "<ipython-input-81-881573cfaac4>:2: FutureWarning: \n",
            "\n",
            "Passing `palette` without assigning `hue` is deprecated and will be removed in v0.14.0. Assign the `x` variable to `hue` and set `legend=False` for the same effect.\n",
            "\n",
            "  sns.barplot(x='Feature', y='Importance %', data= fi_DT2_df, palette=\"coolwarm\")\n"
          ]
        },
        {
          "output_type": "display_data",
          "data": {
            "text/plain": [
              "<Figure size 800x600 with 1 Axes>"
            ],
            "image/png": "[encoded data removed]"
          },
          "metadata": {}
        }
      ]
    },
    {
      "cell_type": "markdown",
      "source": [
        "# Random Forest Model 3"
      ],
      "metadata": {
        "id": "uVJPuMVmj_tz"
      }
    },
    {
      "cell_type": "markdown",
      "source": [
        "**RF model 3 parameter tunning (with symptom count)**"
      ],
      "metadata": {
        "id": "xpqiUzONkkJM"
      }
    },
    {
      "cell_type": "code",
      "source": [
        "RF3 = RandomForestClassifier(random_state=42, n_estimators=10, max_depth=3, min_samples_split=50, min_samples_leaf=20)"
      ],
      "metadata": {
        "id": "vwdlrf8-YMzl"
      },
      "execution_count": null,
      "outputs": []
    },
    {
      "cell_type": "markdown",
      "source": [
        "Using cross validation"
      ],
      "metadata": {
        "id": "wPNbv_1RYMzl"
      }
    },
    {
      "cell_type": "code",
      "source": [
        "# metrics\n",
        "fi_RF3 = []\n",
        "accuracy_scores_RF3 = []\n",
        "precision_scores_RF3 = []\n",
        "recall_scores_RF3 = []\n",
        "\n",
        "accuracy_scores_RF3_train = []\n",
        "precision_scores_RF3_train = []\n",
        "recall_scores_RF3_train = []"
      ],
      "metadata": {
        "id": "sYiTWjZSYMzl"
      },
      "execution_count": null,
      "outputs": []
    },
    {
      "cell_type": "markdown",
      "source": [
        "Train model and metrics"
      ],
      "metadata": {
        "id": "mXFysSrOYMzl"
      }
    },
    {
      "cell_type": "code",
      "source": [
        "for train_index_RF3, test_index_RF3 in kfold.split(x):\n",
        "    xRF3_train_cv, xRF3_test_cv = x.iloc[train_index_RF3], x.iloc[test_index_RF3]\n",
        "    yRF3_train_cv, yRF3_test_cv = y.iloc[train_index_RF3], y.iloc[test_index_RF3]\n",
        "\n",
        "    # Train\n",
        "    RF3.fit(xRF3_train_cv, yRF3_train_cv)\n",
        "\n",
        "    y_pred_RF3 = RF3.predict (xRF3_test_cv)\n",
        "    ytrain_pred_RF3 = RF3.predict (xRF3_train_cv)\n",
        "\n",
        "    # Metrics for each fold Test\n",
        "    accuracy_scores_RF3.append(accuracy_score (yRF3_test_cv, y_pred_RF3))\n",
        "    precision_scores_RF3.append(precision_score(yRF3_test_cv, y_pred_RF3, average='binary'))\n",
        "    recall_scores_RF3.append(recall_score(yRF3_test_cv, y_pred_RF3, average='binary'))\n",
        "\n",
        "    # Metrics for each fold and feature importance\n",
        "    accuracy_scores_RF3_train.append (accuracy_score(yRF3_train_cv, ytrain_pred_RF3))\n",
        "    precision_scores_RF3_train.append(precision_score(yRF3_train_cv, ytrain_pred_RF3, average='binary'))\n",
        "    recall_scores_RF3_train.append(recall_score(yRF3_train_cv, ytrain_pred_RF3, average='binary'))\n",
        "\n",
        "    fi_RF3.append(RF3.feature_importances_)"
      ],
      "metadata": {
        "id": "H8GxeCkSYMzm"
      },
      "execution_count": null,
      "outputs": []
    },
    {
      "cell_type": "markdown",
      "source": [
        "Metrics Train"
      ],
      "metadata": {
        "id": "YGHK11orIBaQ"
      }
    },
    {
      "cell_type": "code",
      "source": [
        "print(f\"Mean Accuracy RF3 Train(cross-validation): {np.mean(accuracy_scores_RF3_train )*100:.2f}%\")\n",
        "print(f\"Mean Precision RF3 Train(Cross-validation): {np.mean(precision_scores_RF3_train)*100:.2f}%\")\n",
        "print(f\"Mean Recall RF3 Train(Cross-validation): {np.mean(recall_scores_RF3_train)*100:.2f}%\")"
      ],
      "metadata": {
        "colab": {
          "base_uri": "https://localhost:8080/"
        },
        "outputId": "9a356d19-d7d6-484e-ed32-9153fd09626f",
        "id": "SUl04Qa0IBaQ"
      },
      "execution_count": null,
      "outputs": [
        {
          "output_type": "stream",
          "name": "stdout",
          "text": [
            "Mean Accuracy RF3 Train(cross-validation): 97.29%\n",
            "Mean Precision RF3 Train(Cross-validation): 93.97%\n",
            "Mean Recall RF3 Train(Cross-validation): 100.00%\n"
          ]
        }
      ]
    },
    {
      "cell_type": "markdown",
      "source": [
        "Metrics Test"
      ],
      "metadata": {
        "id": "qRNTZWN1HuWz"
      }
    },
    {
      "cell_type": "code",
      "source": [
        "print(f\"Mean Accuracy RF3 (cross-validation): {np.mean(accuracy_scores_RF3 )*100:.2f}%\")\n",
        "print(f\"Mean Precision RF3 (Cross-validation): {np.mean(precision_scores_RF3)*100:.2f}%\")\n",
        "print(f\"Mean Recall RF3 (Cross-validation): {np.mean(recall_scores_RF3)*100:.2f}%\")"
      ],
      "metadata": {
        "colab": {
          "base_uri": "https://localhost:8080/"
        },
        "outputId": "ffc10579-1de0-44de-da04-340d078d0920",
        "id": "Kwo7tfZGYMzm"
      },
      "execution_count": null,
      "outputs": [
        {
          "output_type": "stream",
          "name": "stdout",
          "text": [
            "Mean Accuracy RF3 (cross-validation): 97.50%\n",
            "Mean Precision RF3 (Cross-validation): 94.85%\n",
            "Mean Recall RF3 (Cross-validation): 100.00%\n"
          ]
        }
      ]
    },
    {
      "cell_type": "markdown",
      "source": [
        "Feature Importance"
      ],
      "metadata": {
        "id": "mtSTPqIYYMzm"
      }
    },
    {
      "cell_type": "code",
      "source": [
        "fi_RF3 = np.array(fi_RF3)\n",
        "mean_fi_RF3 = fi_RF3.mean(axis=0) #Mean feature importance\n",
        "percent_fi_RF3 = mean_fi_RF3 * 100\n",
        "\n",
        "fi_RF3_df = pd.DataFrame({'Feature': xRF3_train_cv.columns, 'Importance %': percent_fi_RF3})#dataframe fi\n",
        "fi_RF3_df = fi_RF3_df.sort_values(by='Importance %', ascending=False)\n",
        "\n",
        "\n",
        "print(fi_RF3_df)#print"
      ],
      "metadata": {
        "colab": {
          "base_uri": "https://localhost:8080/"
        },
        "outputId": "71632d57-bd0e-476d-e754-523a3bf23a4e",
        "id": "nPRDuQAAYMzm"
      },
      "execution_count": null,
      "outputs": [
        {
          "output_type": "stream",
          "name": "stdout",
          "text": [
            "             Feature  Importance %\n",
            "6      symptom_count     27.222222\n",
            "5    burning-urethra     20.555556\n",
            "2        lumbar-pain     20.555556\n",
            "0        temperature     15.833333\n",
            "4  micturition-pains      8.888889\n",
            "1             nausea      4.444444\n",
            "3      urine-pushing      2.500000\n"
          ]
        }
      ]
    },
    {
      "cell_type": "code",
      "source": [
        "plt.figure(figsize=(8, 6))\n",
        "\n",
        "sns.barplot(x='Feature', y='Importance %', data= fi_RF3_df, palette=\"coolwarm\")\n",
        "plt.xlabel('Average Feature Importance')\n",
        "plt.title('Average Feature Importance (RF MODEL 3) from Cross-Validation')\n",
        "\n",
        "plt.xticks(rotation=45)\n",
        "plt.xticks(fontsize=6)\n",
        "plt.show()\n"
      ],
      "metadata": {
        "colab": {
          "base_uri": "https://localhost:8080/",
          "height": 698
        },
        "outputId": "5c7550cb-832c-4166-b1ba-f2789af12594",
        "id": "GKF_Cl-fYMzm"
      },
      "execution_count": null,
      "outputs": [
        {
          "output_type": "stream",
          "name": "stderr",
          "text": [
            "<ipython-input-88-5c3bc9a88ad3>:3: FutureWarning: \n",
            "\n",
            "Passing `palette` without assigning `hue` is deprecated and will be removed in v0.14.0. Assign the `x` variable to `hue` and set `legend=False` for the same effect.\n",
            "\n",
            "  sns.barplot(x='Feature', y='Importance %', data= fi_RF3_df, palette=\"coolwarm\")\n"
          ]
        },
        {
          "output_type": "display_data",
          "data": {
            "text/plain": [
              "<Figure size 800x600 with 1 Axes>"
            ],
            "image/png": "[encoded data removed]"
          },
          "metadata": {}
        }
      ]
    },
    {
      "cell_type": "markdown",
      "source": [
        "# Decission Tree Model 3"
      ],
      "metadata": {
        "id": "s_-_LhAIkaKk"
      }
    },
    {
      "cell_type": "markdown",
      "source": [
        "**DT model 3 parameter tunning (with symptom count)**"
      ],
      "metadata": {
        "id": "Tj8qPq2SzawY"
      }
    },
    {
      "cell_type": "code",
      "source": [
        "DT3 = DecisionTreeClassifier(random_state=42, max_depth=3, min_samples_split=50, min_samples_leaf=20)"
      ],
      "metadata": {
        "id": "x5eC5-ifzZLo"
      },
      "execution_count": null,
      "outputs": []
    },
    {
      "cell_type": "markdown",
      "source": [
        "Using Cross Validation"
      ],
      "metadata": {
        "id": "9l50gQQz0BRM"
      }
    },
    {
      "cell_type": "code",
      "source": [
        "# metrics\n",
        "fi_DT3 = []\n",
        "accuracy_scores_DT3 = []\n",
        "precision_scores_DT3 = []\n",
        "recall_scores_DT3 = []\n",
        "\n",
        "accuracy_scores_DT3_train = []\n",
        "precision_scores_DT3_train = []\n",
        "recall_scores_DT3_train = []"
      ],
      "metadata": {
        "id": "3wLExdWtcAB2"
      },
      "execution_count": null,
      "outputs": []
    },
    {
      "cell_type": "markdown",
      "source": [
        "Train model and metrics"
      ],
      "metadata": {
        "id": "OgPZ7IxpcAB2"
      }
    },
    {
      "cell_type": "code",
      "source": [
        "for train_index_DT3, test_index_DT3 in kfold.split(x):\n",
        "    xDT3_train_cv, xDT3_test_cv = x.iloc[train_index_DT3], x.iloc[test_index_DT3]\n",
        "    yDT3_train_cv, yDT3_test_cv = y.iloc[train_index_DT3], y.iloc[test_index_DT3]\n",
        "\n",
        "    # Train\n",
        "    DT3.fit(xDT3_train_cv, yDT3_train_cv)\n",
        "\n",
        "    y_pred_DT3 = DT3.predict(xDT3_test_cv)\n",
        "    ytrain_pred_DT3 = DT3.predict(xDT3_train_cv)\n",
        "\n",
        "    # Metrics for each fold and feature importance\n",
        "    accuracy_scores_DT3.append (accuracy_score(yDT3_test_cv, y_pred_DT3))\n",
        "    precision_scores_DT3.append (precision_score(yDT3_test_cv, y_pred_DT3, average='binary'))\n",
        "    recall_scores_DT3.append (recall_score(yDT3_test_cv, y_pred_DT3, average='binary'))\n",
        "\n",
        "    # Metrics for each fold and feature importance\n",
        "    accuracy_scores_DT3_train.append (accuracy_score(yDT3_train_cv, ytrain_pred_DT3))\n",
        "    precision_scores_DT3_train.append (precision_score(yDT3_train_cv, ytrain_pred_DT3, average='binary'))\n",
        "    recall_scores_DT3_train.append (recall_score(yDT3_train_cv, ytrain_pred_DT3, average='binary'))\n",
        "\n",
        "    fi_DT3.append(DT3.feature_importances_)\n"
      ],
      "metadata": {
        "id": "bpd7xet2cAB2"
      },
      "execution_count": null,
      "outputs": []
    },
    {
      "cell_type": "markdown",
      "source": [
        "Metrics DT3 Training"
      ],
      "metadata": {
        "id": "-oCk3ZG2Kjc_"
      }
    },
    {
      "cell_type": "code",
      "source": [
        "print(f\"Mean Accuracy DT3 Training(cross-validation): {np.mean(accuracy_scores_DT3_train )* 100:.2f}%\")\n",
        "print(f\"Mean Precision DT3 Training (Cross-validation): {np.mean(precision_scores_DT3_train)* 100:.2f}%\")\n",
        "print(f\"Mean Recall DT3 Training (Cross-validation): {np.mean(recall_scores_DT3_train)* 100:.2f}%\")"
      ],
      "metadata": {
        "colab": {
          "base_uri": "https://localhost:8080/"
        },
        "outputId": "229d0824-967f-4090-9f0e-517b8ec36108",
        "id": "ee7-D3nqKjdA"
      },
      "execution_count": null,
      "outputs": [
        {
          "output_type": "stream",
          "name": "stdout",
          "text": [
            "Mean Accuracy DT3 Training(cross-validation): 87.71%\n",
            "Mean Precision DT3 Training (Cross-validation): 89.36%\n",
            "Mean Recall DT3 Training (Cross-validation): 85.11%\n"
          ]
        }
      ]
    },
    {
      "cell_type": "markdown",
      "source": [
        "Metrics DT3 Testing"
      ],
      "metadata": {
        "id": "yMEODCXHKfq3"
      }
    },
    {
      "cell_type": "code",
      "source": [
        "print(f\"Mean Accuracy DT3 (cross-validation): {np.mean(accuracy_scores_DT3 )* 100:.2f}%\")\n",
        "print(f\"Mean Precision DT3 (Cross-validation): {np.mean(precision_scores_DT3)* 100:.2f}%\")\n",
        "print(f\"Mean Recall DT3 (Cross-validation): {np.mean(recall_scores_DT3)* 100:.2f}%\")"
      ],
      "metadata": {
        "colab": {
          "base_uri": "https://localhost:8080/"
        },
        "outputId": "1be0f6ab-de10-4c97-e69b-21a9a9dfd87f",
        "id": "nqbmpVAscAB3"
      },
      "execution_count": null,
      "outputs": [
        {
          "output_type": "stream",
          "name": "stdout",
          "text": [
            "Mean Accuracy DT3 (cross-validation): 81.67%\n",
            "Mean Precision DT3 (Cross-validation): 85.83%\n",
            "Mean Recall DT3 (Cross-validation): 77.43%\n"
          ]
        }
      ]
    },
    {
      "cell_type": "markdown",
      "source": [
        "Feature Importance"
      ],
      "metadata": {
        "id": "q0aXYBuFcAB3"
      }
    },
    {
      "cell_type": "code",
      "source": [
        "fi_DT3 = np.array(fi_DT3)\n",
        "mean_fi_DT3 = fi_DT3.mean(axis=0) #Mean feature importance\n",
        "percent_fi_DT3 = mean_fi_DT3 * 100\n",
        "\n",
        "fi_DT3_df = pd.DataFrame({'Feature': xDT3_train_cv.columns, 'Importance %': percent_fi_DT3})#dataframe fi\n",
        "fi_DT3_df = fi_DT3_df.sort_values(by='Importance %', ascending=False)\n",
        "\n",
        "print(fi_DT3_df )#print"
      ],
      "metadata": {
        "colab": {
          "base_uri": "https://localhost:8080/"
        },
        "outputId": "eef52e24-ad9f-4a70-e78c-786d75199706",
        "id": "ba4XTbnncAB3"
      },
      "execution_count": null,
      "outputs": [
        {
          "output_type": "stream",
          "name": "stdout",
          "text": [
            "             Feature  Importance %\n",
            "6      symptom_count      47.98195\n",
            "2        lumbar-pain      25.81264\n",
            "3      urine-pushing      14.18736\n",
            "1             nausea      12.01805\n",
            "0        temperature       0.00000\n",
            "4  micturition-pains       0.00000\n",
            "5    burning-urethra       0.00000\n"
          ]
        }
      ]
    },
    {
      "cell_type": "code",
      "source": [
        "plt.figure(figsize=(8, 6))\n",
        "sns.barplot(x='Feature', y='Importance %', data= fi_DT3_df, palette=\"coolwarm\")\n",
        "plt.xlabel('Average Feature Importance')\n",
        "plt.title('Average Feature Importance (DT MODEL 3) from Cross-Validation')\n",
        "\n",
        "plt.xticks(rotation=45)\n",
        "plt.xticks(fontsize=6)\n",
        "plt.show()\n",
        "\n",
        "print(\"\\n\")\n",
        "print(\"\\n\")\n"
      ],
      "metadata": {
        "colab": {
          "base_uri": "https://localhost:8080/",
          "height": 770
        },
        "id": "0tnxHj6cc8Pj",
        "outputId": "6588ca52-58dd-4418-f2a1-98b56f85b038"
      },
      "execution_count": null,
      "outputs": [
        {
          "output_type": "stream",
          "name": "stderr",
          "text": [
            "<ipython-input-95-581ff4f797b3>:2: FutureWarning: \n",
            "\n",
            "Passing `palette` without assigning `hue` is deprecated and will be removed in v0.14.0. Assign the `x` variable to `hue` and set `legend=False` for the same effect.\n",
            "\n",
            "  sns.barplot(x='Feature', y='Importance %', data= fi_DT3_df, palette=\"coolwarm\")\n"
          ]
        },
        {
          "output_type": "display_data",
          "data": {
            "text/plain": [
              "<Figure size 800x600 with 1 Axes>"
            ],
            "image/png": "[encoded data removed]"
          },
          "metadata": {}
        },
        {
          "output_type": "stream",
          "name": "stdout",
          "text": [
            "\n",
            "\n",
            "\n",
            "\n"
          ]
        }
      ]
    },
    {
      "cell_type": "markdown",
      "source": [
        "# Final Results"
      ],
      "metadata": {
        "id": "WMUhFy91ezCk"
      }
    },
    {
      "cell_type": "markdown",
      "source": [
        "Table training"
      ],
      "metadata": {
        "id": "qw2-ARC1jlgt"
      }
    },
    {
      "cell_type": "code",
      "source": [
        "title1 = \"Model Performance (Training)\"\n",
        "print(title1)\n",
        "print(\"\\n\")\n",
        "\n",
        "# Results\n",
        "results1 = []\n",
        "\n",
        "# RF2\n",
        "results1.append({\n",
        "    'Model': 'RF2 (Tuned Parameters)',\n",
        "    'Accuracy': np.mean(accuracy_scores_RF2_train)* 100,\n",
        "    'Precision': np.mean(precision_scores_RF2_train)* 100,\n",
        "    'Recall': np.mean(recall_scores_RF2_train) * 100,\n",
        "    #'F1 Score': np.mean(f1_scores_RF2) * 100,\n",
        "    #'ROC AUC': np.mean(roc_auc_scores_RF2) * 100\n",
        "})\n",
        "\n",
        "# DT2\n",
        "results1.append({\n",
        "    'Model': 'DT2 (Tuned Parameters)',\n",
        "    'Accuracy': np.mean(accuracy_scores_DT2_train)* 100,\n",
        "    'Precision': np.mean(precision_scores_DT2_train)* 100,\n",
        "    'Recall': np.mean(recall_scores_DT2_train) * 100,\n",
        "    #'F1 Score': np.mean(f1_scores_DT2) * 100,\n",
        "    #'ROC AUC': np.mean(roc_auc_scores_DT2) * 100\n",
        "})\n",
        "\n",
        "# RF3\n",
        "results1.append({\n",
        "    'Model': 'RF3 (Symptom Count)',\n",
        "    'Accuracy': np.mean(accuracy_scores_RF3_train)* 100,\n",
        "    'Precision': np.mean(precision_scores_RF3_train)* 100,\n",
        "    'Recall': np.mean(recall_scores_RF3_train) * 100,\n",
        "    #'F1 Score': np.mean(f1_scores_RF3) * 100,\n",
        "    #'ROC AUC': np.mean(roc_auc_scores_RF3) * 100\n",
        "})\n",
        "\n",
        "# DT3\n",
        "results1.append({\n",
        "    'Model': 'DT3 (Symptom Count)',\n",
        "    'Accuracy': np.mean(accuracy_scores_DT3_train)* 100,\n",
        "    'Precision': np.mean(precision_scores_DT3_train)* 100,\n",
        "    'Recall': np.mean(recall_scores_DT3_train) * 100,\n",
        "    #'F1 Score': np.mean(f1_scores_DT3) * 100,\n",
        "    #'ROC AUC': np.mean(roc_auc_scores_DT3) * 100\n",
        "})\n",
        "\n",
        "# dataframe\n",
        "training_df = pd.DataFrame(results1)\n",
        "\n",
        "print(training_df)\n",
        "print(\"\\n\")"
      ],
      "metadata": {
        "colab": {
          "base_uri": "https://localhost:8080/"
        },
        "id": "rO9LdTmxjjYK",
        "outputId": "49745b28-6f86-4808-db05-94d4957a7913"
      },
      "execution_count": null,
      "outputs": [
        {
          "output_type": "stream",
          "name": "stdout",
          "text": [
            "Model Performance (Training)\n",
            "\n",
            "\n",
            "                    Model   Accuracy   Precision      Recall\n",
            "0  RF2 (Tuned Parameters)  96.041667   95.409376   95.500000\n",
            "1  DT2 (Tuned Parameters)  91.666667  100.000000   80.020013\n",
            "2     RF3 (Symptom Count)  97.291667   93.973623  100.000000\n",
            "3     DT3 (Symptom Count)  87.708333   89.360269   85.105378\n",
            "\n",
            "\n"
          ]
        }
      ]
    },
    {
      "cell_type": "markdown",
      "source": [
        "Table testing"
      ],
      "metadata": {
        "id": "iiq5nnkglyO1"
      }
    },
    {
      "cell_type": "code",
      "source": [
        "title = \"Model Performance (Testing)\"\n",
        "print(title)\n",
        "print(\"\\n\")\n",
        "\n",
        "# Results\n",
        "results = []\n",
        "\n",
        "# RF2\n",
        "results.append({\n",
        "    'Model': 'RF2 (Tuned Parameters)',\n",
        "    'Accuracy': np.mean(accuracy_scores_RF2)* 100,\n",
        "    'Precision': np.mean(precision_scores_RF2)* 100,\n",
        "    'Recall': np.mean(recall_scores_RF2) * 100,\n",
        "    #'F1 Score': np.mean(f1_scores_RF2) * 100,\n",
        "    #'ROC AUC': np.mean(roc_auc_scores_RF2) * 100\n",
        "})\n",
        "\n",
        "# DT2\n",
        "results.append({\n",
        "    'Model': 'DT2 (Tuned Parameters)',\n",
        "    'Accuracy': np.mean(accuracy_scores_DT2)* 100,\n",
        "    'Precision': np.mean(precision_scores_DT2)* 100,\n",
        "    'Recall': np.mean(recall_scores_DT2) * 100,\n",
        "    #'F1 Score': np.mean(f1_scores_DT2) * 100,\n",
        "    #'ROC AUC': np.mean(roc_auc_scores_DT2) * 100\n",
        "})\n",
        "\n",
        "# RF3\n",
        "results.append({\n",
        "    'Model': 'RF3 (Symptom Count)',\n",
        "    'Accuracy': np.mean(accuracy_scores_RF3)* 100,\n",
        "    'Precision': np.mean(precision_scores_RF3)* 100,\n",
        "    'Recall': np.mean(recall_scores_RF3) * 100,\n",
        "    #'F1 Score': np.mean(f1_scores_RF3) * 100,\n",
        "    #'ROC AUC': np.mean(roc_auc_scores_RF3) * 100\n",
        "})\n",
        "\n",
        "# DT3\n",
        "results.append({\n",
        "    'Model': 'DT3 (Symptom Count)',\n",
        "    'Accuracy': np.mean(accuracy_scores_DT3)* 100,\n",
        "    'Precision': np.mean(precision_scores_DT3)* 100,\n",
        "    'Recall': np.mean(recall_scores_DT3) * 100,\n",
        "    #'F1 Score': np.mean(f1_scores_DT3) * 100,\n",
        "    #'ROC AUC': np.mean(roc_auc_scores_DT3) * 100\n",
        "})\n",
        "\n",
        "# dataframe\n",
        "testing_df = pd.DataFrame(results)\n",
        "\n",
        "print(testing_df)\n",
        "print(\"\\n\")"
      ],
      "metadata": {
        "colab": {
          "base_uri": "https://localhost:8080/"
        },
        "id": "OsG1oaJnh9qn",
        "outputId": "fe2d2a21-7326-46fe-e823-8dc516cf649e"
      },
      "execution_count": null,
      "outputs": [
        {
          "output_type": "stream",
          "name": "stdout",
          "text": [
            "Model Performance (Testing)\n",
            "\n",
            "\n",
            "                    Model   Accuracy   Precision      Recall\n",
            "0  RF2 (Tuned Parameters)  95.000000   91.717949   98.000000\n",
            "1  DT2 (Tuned Parameters)  91.666667  100.000000   80.323232\n",
            "2     RF3 (Symptom Count)  97.500000   94.848485  100.000000\n",
            "3     DT3 (Symptom Count)  81.666667   85.833333   77.434343\n",
            "\n",
            "\n"
          ]
        }
      ]
    },
    {
      "cell_type": "markdown",
      "source": [
        "Create 1 plot containing all plots"
      ],
      "metadata": {
        "id": "Nnhm4zlzeviz"
      }
    },
    {
      "cell_type": "code",
      "source": [
        "#Comparing plots with and without symtom count\n",
        "fig, axes = plt.subplots(2, 2, figsize=(12, 12))\n",
        "axes = axes.flatten()\n",
        "\n",
        "# Plot for DT2\n",
        "sns.barplot(x='Feature', y='Importance %', data=fi_DT2_df, ax=axes[0], palette=\"coolwarm\")\n",
        "axes[0].set_title('Feature Importance Model 2 (DT)')\n",
        "axes[0].tick_params(axis='x', rotation=45, labelsize=8)\n",
        "\n",
        "# Plot for DT3\n",
        "sns.barplot(x='Feature', y='Importance %', data=fi_DT3_df, ax=axes[1], palette=\"coolwarm\")\n",
        "axes[1].set_title('Feature Importance Model 4 (DT)')\n",
        "axes[1].tick_params(axis='x', rotation=45, labelsize=8)\n",
        "\n",
        "# Plot for RF2\n",
        "sns.barplot(x='Feature', y='Importance %', data=fi_RF2_df, ax=axes[2], palette=\"coolwarm\")\n",
        "axes[2].set_title('Feature Importance Model 1 (RF)')\n",
        "axes[2].tick_params(axis='x', rotation=45, labelsize=8)\n",
        "\n",
        "# Plot for RF3\n",
        "sns.barplot(x='Feature', y='Importance %', data=fi_RF3_df, ax=axes[3], palette=\"coolwarm\")\n",
        "axes[3].set_title('Feature Importance Model 3(RF)')\n",
        "axes[3].tick_params(axis='x', rotation=45, labelsize=8)\n",
        "\n",
        "# Final figure\n",
        "plt.tight_layout()\n",
        "plt.show()"
      ],
      "metadata": {
        "colab": {
          "base_uri": "https://localhost:8080/",
          "height": 1000
        },
        "id": "BrF8qrJJeiTA",
        "outputId": "03d1237c-8c28-4e8b-9de0-2c9c71abdff2"
      },
      "execution_count": null,
      "outputs": [
        {
          "output_type": "stream",
          "name": "stderr",
          "text": [
            "<ipython-input-98-075340f8d2cc>:6: FutureWarning: \n",
            "\n",
            "Passing `palette` without assigning `hue` is deprecated and will be removed in v0.14.0. Assign the `x` variable to `hue` and set `legend=False` for the same effect.\n",
            "\n",
            "  sns.barplot(x='Feature', y='Importance %', data=fi_DT2_df, ax=axes[0], palette=\"coolwarm\")\n",
            "<ipython-input-98-075340f8d2cc>:11: FutureWarning: \n",
            "\n",
            "Passing `palette` without assigning `hue` is deprecated and will be removed in v0.14.0. Assign the `x` variable to `hue` and set `legend=False` for the same effect.\n",
            "\n",
            "  sns.barplot(x='Feature', y='Importance %', data=fi_DT3_df, ax=axes[1], palette=\"coolwarm\")\n",
            "<ipython-input-98-075340f8d2cc>:16: FutureWarning: \n",
            "\n",
            "Passing `palette` without assigning `hue` is deprecated and will be removed in v0.14.0. Assign the `x` variable to `hue` and set `legend=False` for the same effect.\n",
            "\n",
            "  sns.barplot(x='Feature', y='Importance %', data=fi_RF2_df, ax=axes[2], palette=\"coolwarm\")\n",
            "<ipython-input-98-075340f8d2cc>:21: FutureWarning: \n",
            "\n",
            "Passing `palette` without assigning `hue` is deprecated and will be removed in v0.14.0. Assign the `x` variable to `hue` and set `legend=False` for the same effect.\n",
            "\n",
            "  sns.barplot(x='Feature', y='Importance %', data=fi_RF3_df, ax=axes[3], palette=\"coolwarm\")\n"
          ]
        },
        {
          "output_type": "display_data",
          "data": {
            "text/plain": [
              "<Figure size 1200x1200 with 4 Axes>"
            ],
            "image/png": "[encoded data removed]"
          },
          "metadata": {}
        }
      ]
    }
  ]
}