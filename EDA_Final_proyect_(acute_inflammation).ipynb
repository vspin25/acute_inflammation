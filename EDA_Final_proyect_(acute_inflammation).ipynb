{
  "nbformat": 4,
  "nbformat_minor": 0,
  "metadata": {
    "colab": {
      "provenance": [],
      "include_colab_link": true
    },
    "kernelspec": {
      "name": "python3",
      "display_name": "Python 3"
    },
    "language_info": {
      "name": "python"
    }
  },
  "cells": [
    {
      "cell_type": "markdown",
      "metadata": {
        "id": "view-in-github",
        "colab_type": "text"
      },
      "source": [
        "<a href=\"https://colab.research.google.com/github/vspin25/acute_inflammation/blob/main/EDA_Final_proyect_(acute_inflammation).ipynb\" target=\"_parent\"><img src=\"https://colab.research.google.com/assets/colab-badge.svg\" alt=\"Open In Colab\"/></a>"
      ]
    },
    {
      "cell_type": "markdown",
      "source": [
        "# **Acute Inflammations**\n",
        "Dataset https://archive.ics.uci.edu/dataset/184/acute+inflammations"
      ],
      "metadata": {
        "id": "Ssa-tEnO7pnr"
      }
    },
    {
      "cell_type": "markdown",
      "source": [
        "# EDA"
      ],
      "metadata": {
        "id": "u8cp9QHnKaNB"
      }
    },
    {
      "cell_type": "markdown",
      "source": [
        "Libraries"
      ],
      "metadata": {
        "id": "9m2ezova7oo_"
      }
    },
    {
      "cell_type": "code",
      "execution_count": null,
      "metadata": {
        "id": "d7eCFgjS4rLc"
      },
      "outputs": [],
      "source": [
        "import pandas as pd\n",
        "from google.colab import files\n",
        "import matplotlib.pyplot as plt\n",
        "import seaborn as sns\n",
        "from scipy.stats import chi2_contingency\n",
        "from sklearn.preprocessing import LabelEncoder\n"
      ]
    },
    {
      "cell_type": "markdown",
      "source": [
        "Dataset"
      ],
      "metadata": {
        "id": "y25tV5vq-RpP"
      }
    },
    {
      "cell_type": "code",
      "source": [
        "uploaded = files.upload()"
      ],
      "metadata": {
        "colab": {
          "base_uri": "https://localhost:8080/",
          "height": 74
        },
        "id": "5WD0qm8K-UC3",
        "outputId": "7ebd1ce6-9f57-4a13-f828-ef39536c2436"
      },
      "execution_count": null,
      "outputs": [
        {
          "output_type": "display_data",
          "data": {
            "text/plain": [
              "<IPython.core.display.HTML object>"
            ],
            "text/html": [
              "\n",
              "     <input type=\"file\" id=\"files-b2f028ac-5984-4a24-983e-45590b1f6a68\" name=\"files[]\" multiple disabled\n",
              "        style=\"border:none\" />\n",
              "     <output id=\"result-b2f028ac-5984-4a24-983e-45590b1f6a68\">\n",
              "      Upload widget is only available when the cell has been executed in the\n",
              "      current browser session. Please rerun this cell to enable.\n",
              "      </output>\n",
              "      <script>// Copyright 2017 Google LLC\n",
              "//\n",
              "// Licensed under the Apache License, Version 2.0 (the \"License\");\n",
              "// you may not use this file except in compliance with the License.\n",
              "// You may obtain a copy of the License at\n",
              "//\n",
              "//      http://www.apache.org/licenses/LICENSE-2.0\n",
              "//\n",
              "// Unless required by applicable law or agreed to in writing, software\n",
              "// distributed under the License is distributed on an \"AS IS\" BASIS,\n",
              "// WITHOUT WARRANTIES OR CONDITIONS OF ANY KIND, either express or implied.\n",
              "// See the License for the specific language governing permissions and\n",
              "// limitations under the License.\n",
              "\n",
              "/**\n",
              " * @fileoverview Helpers for google.colab Python module.\n",
              " */\n",
              "(function(scope) {\n",
              "function span(text, styleAttributes = {}) {\n",
              "  const element = document.createElement('span');\n",
              "  element.textContent = text;\n",
              "  for (const key of Object.keys(styleAttributes)) {\n",
              "    element.style[key] = styleAttributes[key];\n",
              "  }\n",
              "  return element;\n",
              "}\n",
              "\n",
              "// Max number of bytes which will be uploaded at a time.\n",
              "const MAX_PAYLOAD_SIZE = 100 * 1024;\n",
              "\n",
              "function _uploadFiles(inputId, outputId) {\n",
              "  const steps = uploadFilesStep(inputId, outputId);\n",
              "  const outputElement = document.getElementById(outputId);\n",
              "  // Cache steps on the outputElement to make it available for the next call\n",
              "  // to uploadFilesContinue from Python.\n",
              "  outputElement.steps = steps;\n",
              "\n",
              "  return _uploadFilesContinue(outputId);\n",
              "}\n",
              "\n",
              "// This is roughly an async generator (not supported in the browser yet),\n",
              "// where there are multiple asynchronous steps and the Python side is going\n",
              "// to poll for completion of each step.\n",
              "// This uses a Promise to block the python side on completion of each step,\n",
              "// then passes the result of the previous step as the input to the next step.\n",
              "function _uploadFilesContinue(outputId) {\n",
              "  const outputElement = document.getElementById(outputId);\n",
              "  const steps = outputElement.steps;\n",
              "\n",
              "  const next = steps.next(outputElement.lastPromiseValue);\n",
              "  return Promise.resolve(next.value.promise).then((value) => {\n",
              "    // Cache the last promise value to make it available to the next\n",
              "    // step of the generator.\n",
              "    outputElement.lastPromiseValue = value;\n",
              "    return next.value.response;\n",
              "  });\n",
              "}\n",
              "\n",
              "/**\n",
              " * Generator function which is called between each async step of the upload\n",
              " * process.\n",
              " * @param {string} inputId Element ID of the input file picker element.\n",
              " * @param {string} outputId Element ID of the output display.\n",
              " * @return {!Iterable<!Object>} Iterable of next steps.\n",
              " */\n",
              "function* uploadFilesStep(inputId, outputId) {\n",
              "  const inputElement = document.getElementById(inputId);\n",
              "  inputElement.disabled = false;\n",
              "\n",
              "  const outputElement = document.getElementById(outputId);\n",
              "  outputElement.innerHTML = '';\n",
              "\n",
              "  const pickedPromise = new Promise((resolve) => {\n",
              "    inputElement.addEventListener('change', (e) => {\n",
              "      resolve(e.target.files);\n",
              "    });\n",
              "  });\n",
              "\n",
              "  const cancel = document.createElement('button');\n",
              "  inputElement.parentElement.appendChild(cancel);\n",
              "  cancel.textContent = 'Cancel upload';\n",
              "  const cancelPromise = new Promise((resolve) => {\n",
              "    cancel.onclick = () => {\n",
              "      resolve(null);\n",
              "    };\n",
              "  });\n",
              "\n",
              "  // Wait for the user to pick the files.\n",
              "  const files = yield {\n",
              "    promise: Promise.race([pickedPromise, cancelPromise]),\n",
              "    response: {\n",
              "      action: 'starting',\n",
              "    }\n",
              "  };\n",
              "\n",
              "  cancel.remove();\n",
              "\n",
              "  // Disable the input element since further picks are not allowed.\n",
              "  inputElement.disabled = true;\n",
              "\n",
              "  if (!files) {\n",
              "    return {\n",
              "      response: {\n",
              "        action: 'complete',\n",
              "      }\n",
              "    };\n",
              "  }\n",
              "\n",
              "  for (const file of files) {\n",
              "    const li = document.createElement('li');\n",
              "    li.append(span(file.name, {fontWeight: 'bold'}));\n",
              "    li.append(span(\n",
              "        `(${file.type || 'n/a'}) - ${file.size} bytes, ` +\n",
              "        `last modified: ${\n",
              "            file.lastModifiedDate ? file.lastModifiedDate.toLocaleDateString() :\n",
              "                                    'n/a'} - `));\n",
              "    const percent = span('0% done');\n",
              "    li.appendChild(percent);\n",
              "\n",
              "    outputElement.appendChild(li);\n",
              "\n",
              "    const fileDataPromise = new Promise((resolve) => {\n",
              "      const reader = new FileReader();\n",
              "      reader.onload = (e) => {\n",
              "        resolve(e.target.result);\n",
              "      };\n",
              "      reader.readAsArrayBuffer(file);\n",
              "    });\n",
              "    // Wait for the data to be ready.\n",
              "    let fileData = yield {\n",
              "      promise: fileDataPromise,\n",
              "      response: {\n",
              "        action: 'continue',\n",
              "      }\n",
              "    };\n",
              "\n",
              "    // Use a chunked sending to avoid message size limits. See b/62115660.\n",
              "    let position = 0;\n",
              "    do {\n",
              "      const length = Math.min(fileData.byteLength - position, MAX_PAYLOAD_SIZE);\n",
              "      const chunk = new Uint8Array(fileData, position, length);\n",
              "      position += length;\n",
              "\n",
              "      const base64 = btoa(String.fromCharCode.apply(null, chunk));\n",
              "      yield {\n",
              "        response: {\n",
              "          action: 'append',\n",
              "          file: file.name,\n",
              "          data: base64,\n",
              "        },\n",
              "      };\n",
              "\n",
              "      let percentDone = fileData.byteLength === 0 ?\n",
              "          100 :\n",
              "          Math.round((position / fileData.byteLength) * 100);\n",
              "      percent.textContent = `${percentDone}% done`;\n",
              "\n",
              "    } while (position < fileData.byteLength);\n",
              "  }\n",
              "\n",
              "  // All done.\n",
              "  yield {\n",
              "    response: {\n",
              "      action: 'complete',\n",
              "    }\n",
              "  };\n",
              "}\n",
              "\n",
              "scope.google = scope.google || {};\n",
              "scope.google.colab = scope.google.colab || {};\n",
              "scope.google.colab._files = {\n",
              "  _uploadFiles,\n",
              "  _uploadFilesContinue,\n",
              "};\n",
              "})(self);\n",
              "</script> "
            ]
          },
          "metadata": {}
        },
        {
          "output_type": "stream",
          "name": "stdout",
          "text": [
            "Saving Acute_Inflammations.xlsx to Acute_Inflammations (1).xlsx\n"
          ]
        }
      ]
    },
    {
      "cell_type": "code",
      "source": [
        "dataset = pd.read_excel('Acute_Inflammations.xlsx')"
      ],
      "metadata": {
        "id": "vsWy8ldy_BuQ"
      },
      "execution_count": null,
      "outputs": []
    },
    {
      "cell_type": "markdown",
      "source": [
        "See how dataset looks like"
      ],
      "metadata": {
        "id": "qZ-qsCNrCJ5P"
      }
    },
    {
      "cell_type": "code",
      "source": [
        "print(dataset.head())"
      ],
      "metadata": {
        "colab": {
          "base_uri": "https://localhost:8080/"
        },
        "id": "NAszqvefBZ9C",
        "outputId": "9aacb0d1-293e-415f-bcf6-c70b9e30f658"
      },
      "execution_count": null,
      "outputs": [
        {
          "output_type": "stream",
          "name": "stdout",
          "text": [
            "  temperature nausea lumbar-pain urine-pushing micturition-pains  \\\n",
            "0        35,5     no         yes            no                no   \n",
            "1        35,9     no          no           yes               yes   \n",
            "2        35,9     no         yes            no                no   \n",
            "3        36,0     no          no           yes               yes   \n",
            "4        36,0     no         yes            no                no   \n",
            "\n",
            "  burning-urethra bladder-inflammation nephritis  \n",
            "0              no                   no        no  \n",
            "1             yes                  yes        no  \n",
            "2              no                   no        no  \n",
            "3             yes                  yes        no  \n",
            "4              no                   no        no  \n"
          ]
        }
      ]
    },
    {
      "cell_type": "markdown",
      "source": [
        "Missing Values"
      ],
      "metadata": {
        "id": "zsjeCyqgNwI2"
      }
    },
    {
      "cell_type": "code",
      "source": [
        "dataset.isnull().sum()"
      ],
      "metadata": {
        "colab": {
          "base_uri": "https://localhost:8080/",
          "height": 335
        },
        "id": "T62aJtOaNyId",
        "outputId": "d30c3adf-3b32-4279-cd4a-805627e403bc"
      },
      "execution_count": null,
      "outputs": [
        {
          "output_type": "execute_result",
          "data": {
            "text/plain": [
              "temperature             0\n",
              "nausea                  0\n",
              "lumbar-pain             0\n",
              "urine-pushing           0\n",
              "micturition-pains       0\n",
              "burning-urethra         0\n",
              "bladder-inflammation    0\n",
              "nephritis               0\n",
              "dtype: int64"
            ],
            "text/html": [
              "<div>\n",
              "<style scoped>\n",
              "    .dataframe tbody tr th:only-of-type {\n",
              "        vertical-align: middle;\n",
              "    }\n",
              "\n",
              "    .dataframe tbody tr th {\n",
              "        vertical-align: top;\n",
              "    }\n",
              "\n",
              "    .dataframe thead th {\n",
              "        text-align: right;\n",
              "    }\n",
              "</style>\n",
              "<table border=\"1\" class=\"dataframe\">\n",
              "  <thead>\n",
              "    <tr style=\"text-align: right;\">\n",
              "      <th></th>\n",
              "      <th>0</th>\n",
              "    </tr>\n",
              "  </thead>\n",
              "  <tbody>\n",
              "    <tr>\n",
              "      <th>temperature</th>\n",
              "      <td>0</td>\n",
              "    </tr>\n",
              "    <tr>\n",
              "      <th>nausea</th>\n",
              "      <td>0</td>\n",
              "    </tr>\n",
              "    <tr>\n",
              "      <th>lumbar-pain</th>\n",
              "      <td>0</td>\n",
              "    </tr>\n",
              "    <tr>\n",
              "      <th>urine-pushing</th>\n",
              "      <td>0</td>\n",
              "    </tr>\n",
              "    <tr>\n",
              "      <th>micturition-pains</th>\n",
              "      <td>0</td>\n",
              "    </tr>\n",
              "    <tr>\n",
              "      <th>burning-urethra</th>\n",
              "      <td>0</td>\n",
              "    </tr>\n",
              "    <tr>\n",
              "      <th>bladder-inflammation</th>\n",
              "      <td>0</td>\n",
              "    </tr>\n",
              "    <tr>\n",
              "      <th>nephritis</th>\n",
              "      <td>0</td>\n",
              "    </tr>\n",
              "  </tbody>\n",
              "</table>\n",
              "</div><br><label><b>dtype:</b> int64</label>"
            ]
          },
          "metadata": {},
          "execution_count": 29
        }
      ]
    },
    {
      "cell_type": "markdown",
      "source": [
        "Statistics"
      ],
      "metadata": {
        "id": "kmmFDYllP5We"
      }
    },
    {
      "cell_type": "code",
      "source": [
        "dataset.describe()"
      ],
      "metadata": {
        "colab": {
          "base_uri": "https://localhost:8080/",
          "height": 175
        },
        "id": "-s_M5JJAPzfy",
        "outputId": "25a93265-0fd3-4649-bf91-8614515b24e3"
      },
      "execution_count": null,
      "outputs": [
        {
          "output_type": "execute_result",
          "data": {
            "text/plain": [
              "       temperature nausea lumbar-pain urine-pushing micturition-pains  \\\n",
              "count          120    120         120           120               120   \n",
              "unique          44      2           2             2                 2   \n",
              "top           37,0     no         yes           yes                no   \n",
              "freq             8     91          70            80                61   \n",
              "\n",
              "       burning-urethra bladder-inflammation nephritis  \n",
              "count              120                  120       120  \n",
              "unique               2                    2         2  \n",
              "top                 no                   no        no  \n",
              "freq                70                   61        70  "
            ],
            "text/html": [
              "\n",
              "  <div id=\"df-56544a11-4354-4213-8113-211c04370f6f\" class=\"colab-df-container\">\n",
              "    <div>\n",
              "<style scoped>\n",
              "    .dataframe tbody tr th:only-of-type {\n",
              "        vertical-align: middle;\n",
              "    }\n",
              "\n",
              "    .dataframe tbody tr th {\n",
              "        vertical-align: top;\n",
              "    }\n",
              "\n",
              "    .dataframe thead th {\n",
              "        text-align: right;\n",
              "    }\n",
              "</style>\n",
              "<table border=\"1\" class=\"dataframe\">\n",
              "  <thead>\n",
              "    <tr style=\"text-align: right;\">\n",
              "      <th></th>\n",
              "      <th>temperature</th>\n",
              "      <th>nausea</th>\n",
              "      <th>lumbar-pain</th>\n",
              "      <th>urine-pushing</th>\n",
              "      <th>micturition-pains</th>\n",
              "      <th>burning-urethra</th>\n",
              "      <th>bladder-inflammation</th>\n",
              "      <th>nephritis</th>\n",
              "    </tr>\n",
              "  </thead>\n",
              "  <tbody>\n",
              "    <tr>\n",
              "      <th>count</th>\n",
              "      <td>120</td>\n",
              "      <td>120</td>\n",
              "      <td>120</td>\n",
              "      <td>120</td>\n",
              "      <td>120</td>\n",
              "      <td>120</td>\n",
              "      <td>120</td>\n",
              "      <td>120</td>\n",
              "    </tr>\n",
              "    <tr>\n",
              "      <th>unique</th>\n",
              "      <td>44</td>\n",
              "      <td>2</td>\n",
              "      <td>2</td>\n",
              "      <td>2</td>\n",
              "      <td>2</td>\n",
              "      <td>2</td>\n",
              "      <td>2</td>\n",
              "      <td>2</td>\n",
              "    </tr>\n",
              "    <tr>\n",
              "      <th>top</th>\n",
              "      <td>37,0</td>\n",
              "      <td>no</td>\n",
              "      <td>yes</td>\n",
              "      <td>yes</td>\n",
              "      <td>no</td>\n",
              "      <td>no</td>\n",
              "      <td>no</td>\n",
              "      <td>no</td>\n",
              "    </tr>\n",
              "    <tr>\n",
              "      <th>freq</th>\n",
              "      <td>8</td>\n",
              "      <td>91</td>\n",
              "      <td>70</td>\n",
              "      <td>80</td>\n",
              "      <td>61</td>\n",
              "      <td>70</td>\n",
              "      <td>61</td>\n",
              "      <td>70</td>\n",
              "    </tr>\n",
              "  </tbody>\n",
              "</table>\n",
              "</div>\n",
              "    <div class=\"colab-df-buttons\">\n",
              "\n",
              "  <div class=\"colab-df-container\">\n",
              "    <button class=\"colab-df-convert\" onclick=\"convertToInteractive('df-56544a11-4354-4213-8113-211c04370f6f')\"\n",
              "            title=\"Convert this dataframe to an interactive table.\"\n",
              "            style=\"display:none;\">\n",
              "\n",
              "  <svg xmlns=\"http://www.w3.org/2000/svg\" height=\"24px\" viewBox=\"0 -960 960 960\">\n",
              "    <path d=\"M120-120v-720h720v720H120Zm60-500h600v-160H180v160Zm220 220h160v-160H400v160Zm0 220h160v-160H400v160ZM180-400h160v-160H180v160Zm440 0h160v-160H620v160ZM180-180h160v-160H180v160Zm440 0h160v-160H620v160Z\"/>\n",
              "  </svg>\n",
              "    </button>\n",
              "\n",
              "  <style>\n",
              "    .colab-df-container {\n",
              "      display:flex;\n",
              "      gap: 12px;\n",
              "    }\n",
              "\n",
              "    .colab-df-convert {\n",
              "      background-color: #E8F0FE;\n",
              "      border: none;\n",
              "      border-radius: 50%;\n",
              "      cursor: pointer;\n",
              "      display: none;\n",
              "      fill: #1967D2;\n",
              "      height: 32px;\n",
              "      padding: 0 0 0 0;\n",
              "      width: 32px;\n",
              "    }\n",
              "\n",
              "    .colab-df-convert:hover {\n",
              "      background-color: #E2EBFA;\n",
              "      box-shadow: 0px 1px 2px rgba(60, 64, 67, 0.3), 0px 1px 3px 1px rgba(60, 64, 67, 0.15);\n",
              "      fill: #174EA6;\n",
              "    }\n",
              "\n",
              "    .colab-df-buttons div {\n",
              "      margin-bottom: 4px;\n",
              "    }\n",
              "\n",
              "    [theme=dark] .colab-df-convert {\n",
              "      background-color: #3B4455;\n",
              "      fill: #D2E3FC;\n",
              "    }\n",
              "\n",
              "    [theme=dark] .colab-df-convert:hover {\n",
              "      background-color: #434B5C;\n",
              "      box-shadow: 0px 1px 3px 1px rgba(0, 0, 0, 0.15);\n",
              "      filter: drop-shadow(0px 1px 2px rgba(0, 0, 0, 0.3));\n",
              "      fill: #FFFFFF;\n",
              "    }\n",
              "  </style>\n",
              "\n",
              "    <script>\n",
              "      const buttonEl =\n",
              "        document.querySelector('#df-56544a11-4354-4213-8113-211c04370f6f button.colab-df-convert');\n",
              "      buttonEl.style.display =\n",
              "        google.colab.kernel.accessAllowed ? 'block' : 'none';\n",
              "\n",
              "      async function convertToInteractive(key) {\n",
              "        const element = document.querySelector('#df-56544a11-4354-4213-8113-211c04370f6f');\n",
              "        const dataTable =\n",
              "          await google.colab.kernel.invokeFunction('convertToInteractive',\n",
              "                                                    [key], {});\n",
              "        if (!dataTable) return;\n",
              "\n",
              "        const docLinkHtml = 'Like what you see? Visit the ' +\n",
              "          '<a target=\"_blank\" href=https://colab.research.google.com/notebooks/data_table.ipynb>data table notebook</a>'\n",
              "          + ' to learn more about interactive tables.';\n",
              "        element.innerHTML = '';\n",
              "        dataTable['output_type'] = 'display_data';\n",
              "        await google.colab.output.renderOutput(dataTable, element);\n",
              "        const docLink = document.createElement('div');\n",
              "        docLink.innerHTML = docLinkHtml;\n",
              "        element.appendChild(docLink);\n",
              "      }\n",
              "    </script>\n",
              "  </div>\n",
              "\n",
              "\n",
              "<div id=\"df-1ed29774-a4d4-4d21-a898-1d467a26a9fe\">\n",
              "  <button class=\"colab-df-quickchart\" onclick=\"quickchart('df-1ed29774-a4d4-4d21-a898-1d467a26a9fe')\"\n",
              "            title=\"Suggest charts\"\n",
              "            style=\"display:none;\">\n",
              "\n",
              "<svg xmlns=\"http://www.w3.org/2000/svg\" height=\"24px\"viewBox=\"0 0 24 24\"\n",
              "     width=\"24px\">\n",
              "    <g>\n",
              "        <path d=\"M19 3H5c-1.1 0-2 .9-2 2v14c0 1.1.9 2 2 2h14c1.1 0 2-.9 2-2V5c0-1.1-.9-2-2-2zM9 17H7v-7h2v7zm4 0h-2V7h2v10zm4 0h-2v-4h2v4z\"/>\n",
              "    </g>\n",
              "</svg>\n",
              "  </button>\n",
              "\n",
              "<style>\n",
              "  .colab-df-quickchart {\n",
              "      --bg-color: #E8F0FE;\n",
              "      --fill-color: #1967D2;\n",
              "      --hover-bg-color: #E2EBFA;\n",
              "      --hover-fill-color: #174EA6;\n",
              "      --disabled-fill-color: #AAA;\n",
              "      --disabled-bg-color: #DDD;\n",
              "  }\n",
              "\n",
              "  [theme=dark] .colab-df-quickchart {\n",
              "      --bg-color: #3B4455;\n",
              "      --fill-color: #D2E3FC;\n",
              "      --hover-bg-color: #434B5C;\n",
              "      --hover-fill-color: #FFFFFF;\n",
              "      --disabled-bg-color: #3B4455;\n",
              "      --disabled-fill-color: #666;\n",
              "  }\n",
              "\n",
              "  .colab-df-quickchart {\n",
              "    background-color: var(--bg-color);\n",
              "    border: none;\n",
              "    border-radius: 50%;\n",
              "    cursor: pointer;\n",
              "    display: none;\n",
              "    fill: var(--fill-color);\n",
              "    height: 32px;\n",
              "    padding: 0;\n",
              "    width: 32px;\n",
              "  }\n",
              "\n",
              "  .colab-df-quickchart:hover {\n",
              "    background-color: var(--hover-bg-color);\n",
              "    box-shadow: 0 1px 2px rgba(60, 64, 67, 0.3), 0 1px 3px 1px rgba(60, 64, 67, 0.15);\n",
              "    fill: var(--button-hover-fill-color);\n",
              "  }\n",
              "\n",
              "  .colab-df-quickchart-complete:disabled,\n",
              "  .colab-df-quickchart-complete:disabled:hover {\n",
              "    background-color: var(--disabled-bg-color);\n",
              "    fill: var(--disabled-fill-color);\n",
              "    box-shadow: none;\n",
              "  }\n",
              "\n",
              "  .colab-df-spinner {\n",
              "    border: 2px solid var(--fill-color);\n",
              "    border-color: transparent;\n",
              "    border-bottom-color: var(--fill-color);\n",
              "    animation:\n",
              "      spin 1s steps(1) infinite;\n",
              "  }\n",
              "\n",
              "  @keyframes spin {\n",
              "    0% {\n",
              "      border-color: transparent;\n",
              "      border-bottom-color: var(--fill-color);\n",
              "      border-left-color: var(--fill-color);\n",
              "    }\n",
              "    20% {\n",
              "      border-color: transparent;\n",
              "      border-left-color: var(--fill-color);\n",
              "      border-top-color: var(--fill-color);\n",
              "    }\n",
              "    30% {\n",
              "      border-color: transparent;\n",
              "      border-left-color: var(--fill-color);\n",
              "      border-top-color: var(--fill-color);\n",
              "      border-right-color: var(--fill-color);\n",
              "    }\n",
              "    40% {\n",
              "      border-color: transparent;\n",
              "      border-right-color: var(--fill-color);\n",
              "      border-top-color: var(--fill-color);\n",
              "    }\n",
              "    60% {\n",
              "      border-color: transparent;\n",
              "      border-right-color: var(--fill-color);\n",
              "    }\n",
              "    80% {\n",
              "      border-color: transparent;\n",
              "      border-right-color: var(--fill-color);\n",
              "      border-bottom-color: var(--fill-color);\n",
              "    }\n",
              "    90% {\n",
              "      border-color: transparent;\n",
              "      border-bottom-color: var(--fill-color);\n",
              "    }\n",
              "  }\n",
              "</style>\n",
              "\n",
              "  <script>\n",
              "    async function quickchart(key) {\n",
              "      const quickchartButtonEl =\n",
              "        document.querySelector('#' + key + ' button');\n",
              "      quickchartButtonEl.disabled = true;  // To prevent multiple clicks.\n",
              "      quickchartButtonEl.classList.add('colab-df-spinner');\n",
              "      try {\n",
              "        const charts = await google.colab.kernel.invokeFunction(\n",
              "            'suggestCharts', [key], {});\n",
              "      } catch (error) {\n",
              "        console.error('Error during call to suggestCharts:', error);\n",
              "      }\n",
              "      quickchartButtonEl.classList.remove('colab-df-spinner');\n",
              "      quickchartButtonEl.classList.add('colab-df-quickchart-complete');\n",
              "    }\n",
              "    (() => {\n",
              "      let quickchartButtonEl =\n",
              "        document.querySelector('#df-1ed29774-a4d4-4d21-a898-1d467a26a9fe button');\n",
              "      quickchartButtonEl.style.display =\n",
              "        google.colab.kernel.accessAllowed ? 'block' : 'none';\n",
              "    })();\n",
              "  </script>\n",
              "</div>\n",
              "\n",
              "    </div>\n",
              "  </div>\n"
            ],
            "application/vnd.google.colaboratory.intrinsic+json": {
              "type": "dataframe",
              "summary": "{\n  \"name\": \"dataset\",\n  \"rows\": 4,\n  \"fields\": [\n    {\n      \"column\": \"temperature\",\n      \"properties\": {\n        \"dtype\": \"date\",\n        \"min\": \"1970-01-01 00:00:00.000000008\",\n        \"max\": \"2037-01-01 00:00:00\",\n        \"num_unique_values\": 4,\n        \"samples\": [\n          44,\n          \"8\",\n          \"120\"\n        ],\n        \"semantic_type\": \"\",\n        \"description\": \"\"\n      }\n    },\n    {\n      \"column\": \"nausea\",\n      \"properties\": {\n        \"dtype\": \"string\",\n        \"num_unique_values\": 4,\n        \"samples\": [\n          2,\n          \"91\",\n          \"120\"\n        ],\n        \"semantic_type\": \"\",\n        \"description\": \"\"\n      }\n    },\n    {\n      \"column\": \"lumbar-pain\",\n      \"properties\": {\n        \"dtype\": \"string\",\n        \"num_unique_values\": 4,\n        \"samples\": [\n          2,\n          \"70\",\n          \"120\"\n        ],\n        \"semantic_type\": \"\",\n        \"description\": \"\"\n      }\n    },\n    {\n      \"column\": \"urine-pushing\",\n      \"properties\": {\n        \"dtype\": \"string\",\n        \"num_unique_values\": 4,\n        \"samples\": [\n          2,\n          \"80\",\n          \"120\"\n        ],\n        \"semantic_type\": \"\",\n        \"description\": \"\"\n      }\n    },\n    {\n      \"column\": \"micturition-pains\",\n      \"properties\": {\n        \"dtype\": \"string\",\n        \"num_unique_values\": 4,\n        \"samples\": [\n          2,\n          \"61\",\n          \"120\"\n        ],\n        \"semantic_type\": \"\",\n        \"description\": \"\"\n      }\n    },\n    {\n      \"column\": \"burning-urethra\",\n      \"properties\": {\n        \"dtype\": \"string\",\n        \"num_unique_values\": 4,\n        \"samples\": [\n          2,\n          \"70\",\n          \"120\"\n        ],\n        \"semantic_type\": \"\",\n        \"description\": \"\"\n      }\n    },\n    {\n      \"column\": \"bladder-inflammation\",\n      \"properties\": {\n        \"dtype\": \"string\",\n        \"num_unique_values\": 4,\n        \"samples\": [\n          2,\n          \"61\",\n          \"120\"\n        ],\n        \"semantic_type\": \"\",\n        \"description\": \"\"\n      }\n    },\n    {\n      \"column\": \"nephritis\",\n      \"properties\": {\n        \"dtype\": \"string\",\n        \"num_unique_values\": 4,\n        \"samples\": [\n          2,\n          \"70\",\n          \"120\"\n        ],\n        \"semantic_type\": \"\",\n        \"description\": \"\"\n      }\n    }\n  ]\n}"
            }
          },
          "metadata": {},
          "execution_count": 30
        }
      ]
    },
    {
      "cell_type": "markdown",
      "source": [
        "Convert temperature column to numerical (replace ',' with '.')"
      ],
      "metadata": {
        "id": "WHYtKcr0O64-"
      }
    },
    {
      "cell_type": "code",
      "source": [
        "dataset['temperature'] = dataset['temperature'].str.replace(',', '.')\n",
        "\n",
        "dataset['temperature'] = pd.to_numeric(dataset['temperature'])\n",
        "\n",
        "dataset['temperature'].head()"
      ],
      "metadata": {
        "colab": {
          "base_uri": "https://localhost:8080/",
          "height": 241
        },
        "id": "to1Pj7uWPDeJ",
        "outputId": "bb03fdbd-9582-424f-c391-7055a2786ba0"
      },
      "execution_count": null,
      "outputs": [
        {
          "output_type": "execute_result",
          "data": {
            "text/plain": [
              "0    35.5\n",
              "1    35.9\n",
              "2    35.9\n",
              "3    36.0\n",
              "4    36.0\n",
              "Name: temperature, dtype: float64"
            ],
            "text/html": [
              "<div>\n",
              "<style scoped>\n",
              "    .dataframe tbody tr th:only-of-type {\n",
              "        vertical-align: middle;\n",
              "    }\n",
              "\n",
              "    .dataframe tbody tr th {\n",
              "        vertical-align: top;\n",
              "    }\n",
              "\n",
              "    .dataframe thead th {\n",
              "        text-align: right;\n",
              "    }\n",
              "</style>\n",
              "<table border=\"1\" class=\"dataframe\">\n",
              "  <thead>\n",
              "    <tr style=\"text-align: right;\">\n",
              "      <th></th>\n",
              "      <th>temperature</th>\n",
              "    </tr>\n",
              "  </thead>\n",
              "  <tbody>\n",
              "    <tr>\n",
              "      <th>0</th>\n",
              "      <td>35.5</td>\n",
              "    </tr>\n",
              "    <tr>\n",
              "      <th>1</th>\n",
              "      <td>35.9</td>\n",
              "    </tr>\n",
              "    <tr>\n",
              "      <th>2</th>\n",
              "      <td>35.9</td>\n",
              "    </tr>\n",
              "    <tr>\n",
              "      <th>3</th>\n",
              "      <td>36.0</td>\n",
              "    </tr>\n",
              "    <tr>\n",
              "      <th>4</th>\n",
              "      <td>36.0</td>\n",
              "    </tr>\n",
              "  </tbody>\n",
              "</table>\n",
              "</div><br><label><b>dtype:</b> float64</label>"
            ]
          },
          "metadata": {},
          "execution_count": 31
        }
      ]
    },
    {
      "cell_type": "markdown",
      "source": [
        "Statistics of temperature (numerical)\n"
      ],
      "metadata": {
        "id": "7PPKTAD5CO-s"
      }
    },
    {
      "cell_type": "code",
      "source": [
        "dataset.describe()"
      ],
      "metadata": {
        "id": "stXNo54zCnsC",
        "colab": {
          "base_uri": "https://localhost:8080/",
          "height": 300
        },
        "outputId": "feacd37b-59b1-4e7e-a6fd-10f31a524d2a"
      },
      "execution_count": null,
      "outputs": [
        {
          "output_type": "execute_result",
          "data": {
            "text/plain": [
              "       temperature\n",
              "count   120.000000\n",
              "mean     38.724167\n",
              "std       1.819132\n",
              "min      35.500000\n",
              "25%      37.100000\n",
              "50%      37.950000\n",
              "75%      40.600000\n",
              "max      41.500000"
            ],
            "text/html": [
              "\n",
              "  <div id=\"df-b11fd5fd-e042-47ca-83ae-29494190039e\" class=\"colab-df-container\">\n",
              "    <div>\n",
              "<style scoped>\n",
              "    .dataframe tbody tr th:only-of-type {\n",
              "        vertical-align: middle;\n",
              "    }\n",
              "\n",
              "    .dataframe tbody tr th {\n",
              "        vertical-align: top;\n",
              "    }\n",
              "\n",
              "    .dataframe thead th {\n",
              "        text-align: right;\n",
              "    }\n",
              "</style>\n",
              "<table border=\"1\" class=\"dataframe\">\n",
              "  <thead>\n",
              "    <tr style=\"text-align: right;\">\n",
              "      <th></th>\n",
              "      <th>temperature</th>\n",
              "    </tr>\n",
              "  </thead>\n",
              "  <tbody>\n",
              "    <tr>\n",
              "      <th>count</th>\n",
              "      <td>120.000000</td>\n",
              "    </tr>\n",
              "    <tr>\n",
              "      <th>mean</th>\n",
              "      <td>38.724167</td>\n",
              "    </tr>\n",
              "    <tr>\n",
              "      <th>std</th>\n",
              "      <td>1.819132</td>\n",
              "    </tr>\n",
              "    <tr>\n",
              "      <th>min</th>\n",
              "      <td>35.500000</td>\n",
              "    </tr>\n",
              "    <tr>\n",
              "      <th>25%</th>\n",
              "      <td>37.100000</td>\n",
              "    </tr>\n",
              "    <tr>\n",
              "      <th>50%</th>\n",
              "      <td>37.950000</td>\n",
              "    </tr>\n",
              "    <tr>\n",
              "      <th>75%</th>\n",
              "      <td>40.600000</td>\n",
              "    </tr>\n",
              "    <tr>\n",
              "      <th>max</th>\n",
              "      <td>41.500000</td>\n",
              "    </tr>\n",
              "  </tbody>\n",
              "</table>\n",
              "</div>\n",
              "    <div class=\"colab-df-buttons\">\n",
              "\n",
              "  <div class=\"colab-df-container\">\n",
              "    <button class=\"colab-df-convert\" onclick=\"convertToInteractive('df-b11fd5fd-e042-47ca-83ae-29494190039e')\"\n",
              "            title=\"Convert this dataframe to an interactive table.\"\n",
              "            style=\"display:none;\">\n",
              "\n",
              "  <svg xmlns=\"http://www.w3.org/2000/svg\" height=\"24px\" viewBox=\"0 -960 960 960\">\n",
              "    <path d=\"M120-120v-720h720v720H120Zm60-500h600v-160H180v160Zm220 220h160v-160H400v160Zm0 220h160v-160H400v160ZM180-400h160v-160H180v160Zm440 0h160v-160H620v160ZM180-180h160v-160H180v160Zm440 0h160v-160H620v160Z\"/>\n",
              "  </svg>\n",
              "    </button>\n",
              "\n",
              "  <style>\n",
              "    .colab-df-container {\n",
              "      display:flex;\n",
              "      gap: 12px;\n",
              "    }\n",
              "\n",
              "    .colab-df-convert {\n",
              "      background-color: #E8F0FE;\n",
              "      border: none;\n",
              "      border-radius: 50%;\n",
              "      cursor: pointer;\n",
              "      display: none;\n",
              "      fill: #1967D2;\n",
              "      height: 32px;\n",
              "      padding: 0 0 0 0;\n",
              "      width: 32px;\n",
              "    }\n",
              "\n",
              "    .colab-df-convert:hover {\n",
              "      background-color: #E2EBFA;\n",
              "      box-shadow: 0px 1px 2px rgba(60, 64, 67, 0.3), 0px 1px 3px 1px rgba(60, 64, 67, 0.15);\n",
              "      fill: #174EA6;\n",
              "    }\n",
              "\n",
              "    .colab-df-buttons div {\n",
              "      margin-bottom: 4px;\n",
              "    }\n",
              "\n",
              "    [theme=dark] .colab-df-convert {\n",
              "      background-color: #3B4455;\n",
              "      fill: #D2E3FC;\n",
              "    }\n",
              "\n",
              "    [theme=dark] .colab-df-convert:hover {\n",
              "      background-color: #434B5C;\n",
              "      box-shadow: 0px 1px 3px 1px rgba(0, 0, 0, 0.15);\n",
              "      filter: drop-shadow(0px 1px 2px rgba(0, 0, 0, 0.3));\n",
              "      fill: #FFFFFF;\n",
              "    }\n",
              "  </style>\n",
              "\n",
              "    <script>\n",
              "      const buttonEl =\n",
              "        document.querySelector('#df-b11fd5fd-e042-47ca-83ae-29494190039e button.colab-df-convert');\n",
              "      buttonEl.style.display =\n",
              "        google.colab.kernel.accessAllowed ? 'block' : 'none';\n",
              "\n",
              "      async function convertToInteractive(key) {\n",
              "        const element = document.querySelector('#df-b11fd5fd-e042-47ca-83ae-29494190039e');\n",
              "        const dataTable =\n",
              "          await google.colab.kernel.invokeFunction('convertToInteractive',\n",
              "                                                    [key], {});\n",
              "        if (!dataTable) return;\n",
              "\n",
              "        const docLinkHtml = 'Like what you see? Visit the ' +\n",
              "          '<a target=\"_blank\" href=https://colab.research.google.com/notebooks/data_table.ipynb>data table notebook</a>'\n",
              "          + ' to learn more about interactive tables.';\n",
              "        element.innerHTML = '';\n",
              "        dataTable['output_type'] = 'display_data';\n",
              "        await google.colab.output.renderOutput(dataTable, element);\n",
              "        const docLink = document.createElement('div');\n",
              "        docLink.innerHTML = docLinkHtml;\n",
              "        element.appendChild(docLink);\n",
              "      }\n",
              "    </script>\n",
              "  </div>\n",
              "\n",
              "\n",
              "<div id=\"df-584ac944-7ca5-4e2f-8f2b-3101f28c4b9b\">\n",
              "  <button class=\"colab-df-quickchart\" onclick=\"quickchart('df-584ac944-7ca5-4e2f-8f2b-3101f28c4b9b')\"\n",
              "            title=\"Suggest charts\"\n",
              "            style=\"display:none;\">\n",
              "\n",
              "<svg xmlns=\"http://www.w3.org/2000/svg\" height=\"24px\"viewBox=\"0 0 24 24\"\n",
              "     width=\"24px\">\n",
              "    <g>\n",
              "        <path d=\"M19 3H5c-1.1 0-2 .9-2 2v14c0 1.1.9 2 2 2h14c1.1 0 2-.9 2-2V5c0-1.1-.9-2-2-2zM9 17H7v-7h2v7zm4 0h-2V7h2v10zm4 0h-2v-4h2v4z\"/>\n",
              "    </g>\n",
              "</svg>\n",
              "  </button>\n",
              "\n",
              "<style>\n",
              "  .colab-df-quickchart {\n",
              "      --bg-color: #E8F0FE;\n",
              "      --fill-color: #1967D2;\n",
              "      --hover-bg-color: #E2EBFA;\n",
              "      --hover-fill-color: #174EA6;\n",
              "      --disabled-fill-color: #AAA;\n",
              "      --disabled-bg-color: #DDD;\n",
              "  }\n",
              "\n",
              "  [theme=dark] .colab-df-quickchart {\n",
              "      --bg-color: #3B4455;\n",
              "      --fill-color: #D2E3FC;\n",
              "      --hover-bg-color: #434B5C;\n",
              "      --hover-fill-color: #FFFFFF;\n",
              "      --disabled-bg-color: #3B4455;\n",
              "      --disabled-fill-color: #666;\n",
              "  }\n",
              "\n",
              "  .colab-df-quickchart {\n",
              "    background-color: var(--bg-color);\n",
              "    border: none;\n",
              "    border-radius: 50%;\n",
              "    cursor: pointer;\n",
              "    display: none;\n",
              "    fill: var(--fill-color);\n",
              "    height: 32px;\n",
              "    padding: 0;\n",
              "    width: 32px;\n",
              "  }\n",
              "\n",
              "  .colab-df-quickchart:hover {\n",
              "    background-color: var(--hover-bg-color);\n",
              "    box-shadow: 0 1px 2px rgba(60, 64, 67, 0.3), 0 1px 3px 1px rgba(60, 64, 67, 0.15);\n",
              "    fill: var(--button-hover-fill-color);\n",
              "  }\n",
              "\n",
              "  .colab-df-quickchart-complete:disabled,\n",
              "  .colab-df-quickchart-complete:disabled:hover {\n",
              "    background-color: var(--disabled-bg-color);\n",
              "    fill: var(--disabled-fill-color);\n",
              "    box-shadow: none;\n",
              "  }\n",
              "\n",
              "  .colab-df-spinner {\n",
              "    border: 2px solid var(--fill-color);\n",
              "    border-color: transparent;\n",
              "    border-bottom-color: var(--fill-color);\n",
              "    animation:\n",
              "      spin 1s steps(1) infinite;\n",
              "  }\n",
              "\n",
              "  @keyframes spin {\n",
              "    0% {\n",
              "      border-color: transparent;\n",
              "      border-bottom-color: var(--fill-color);\n",
              "      border-left-color: var(--fill-color);\n",
              "    }\n",
              "    20% {\n",
              "      border-color: transparent;\n",
              "      border-left-color: var(--fill-color);\n",
              "      border-top-color: var(--fill-color);\n",
              "    }\n",
              "    30% {\n",
              "      border-color: transparent;\n",
              "      border-left-color: var(--fill-color);\n",
              "      border-top-color: var(--fill-color);\n",
              "      border-right-color: var(--fill-color);\n",
              "    }\n",
              "    40% {\n",
              "      border-color: transparent;\n",
              "      border-right-color: var(--fill-color);\n",
              "      border-top-color: var(--fill-color);\n",
              "    }\n",
              "    60% {\n",
              "      border-color: transparent;\n",
              "      border-right-color: var(--fill-color);\n",
              "    }\n",
              "    80% {\n",
              "      border-color: transparent;\n",
              "      border-right-color: var(--fill-color);\n",
              "      border-bottom-color: var(--fill-color);\n",
              "    }\n",
              "    90% {\n",
              "      border-color: transparent;\n",
              "      border-bottom-color: var(--fill-color);\n",
              "    }\n",
              "  }\n",
              "</style>\n",
              "\n",
              "  <script>\n",
              "    async function quickchart(key) {\n",
              "      const quickchartButtonEl =\n",
              "        document.querySelector('#' + key + ' button');\n",
              "      quickchartButtonEl.disabled = true;  // To prevent multiple clicks.\n",
              "      quickchartButtonEl.classList.add('colab-df-spinner');\n",
              "      try {\n",
              "        const charts = await google.colab.kernel.invokeFunction(\n",
              "            'suggestCharts', [key], {});\n",
              "      } catch (error) {\n",
              "        console.error('Error during call to suggestCharts:', error);\n",
              "      }\n",
              "      quickchartButtonEl.classList.remove('colab-df-spinner');\n",
              "      quickchartButtonEl.classList.add('colab-df-quickchart-complete');\n",
              "    }\n",
              "    (() => {\n",
              "      let quickchartButtonEl =\n",
              "        document.querySelector('#df-584ac944-7ca5-4e2f-8f2b-3101f28c4b9b button');\n",
              "      quickchartButtonEl.style.display =\n",
              "        google.colab.kernel.accessAllowed ? 'block' : 'none';\n",
              "    })();\n",
              "  </script>\n",
              "</div>\n",
              "\n",
              "    </div>\n",
              "  </div>\n"
            ],
            "application/vnd.google.colaboratory.intrinsic+json": {
              "type": "dataframe",
              "summary": "{\n  \"name\": \"dataset\",\n  \"rows\": 8,\n  \"fields\": [\n    {\n      \"column\": \"temperature\",\n      \"properties\": {\n        \"dtype\": \"number\",\n        \"std\": 33.2891112749653,\n        \"min\": 1.819132484784679,\n        \"max\": 120.0,\n        \"num_unique_values\": 8,\n        \"samples\": [\n          38.72416666666666,\n          37.95,\n          120.0\n        ],\n        \"semantic_type\": \"\",\n        \"description\": \"\"\n      }\n    }\n  ]\n}"
            }
          },
          "metadata": {},
          "execution_count": 32
        }
      ]
    },
    {
      "cell_type": "markdown",
      "source": [
        "Change temperature to categorical variable\n",
        "\n",
        "\n",
        "*   hypothermia: less than 36.2 (not including 36.2)\n",
        "*   normal: 36.2-37.4\n",
        "*   fever: more than 37.5 (including 37.5)\n"
      ],
      "metadata": {
        "id": "V900a4-iW4is"
      }
    },
    {
      "cell_type": "code",
      "source": [
        "bins = [0, 36.2, 37.5, 42]\n",
        "labels = ['hypothermia', 'normal', 'fever']\n",
        "dataset['temperature'] = pd.cut(dataset['temperature'], bins=bins, labels=labels, right=False)\n",
        "\n",
        "print(dataset)"
      ],
      "metadata": {
        "colab": {
          "base_uri": "https://localhost:8080/"
        },
        "id": "If9MV5ORVI2_",
        "outputId": "430dec31-1334-4e2e-ed29-57c09374eb81"
      },
      "execution_count": null,
      "outputs": [
        {
          "output_type": "stream",
          "name": "stdout",
          "text": [
            "     temperature nausea lumbar-pain urine-pushing micturition-pains  \\\n",
            "0    hypothermia     no         yes            no                no   \n",
            "1    hypothermia     no          no           yes               yes   \n",
            "2    hypothermia     no         yes            no                no   \n",
            "3    hypothermia     no          no           yes               yes   \n",
            "4    hypothermia     no         yes            no                no   \n",
            "..           ...    ...         ...           ...               ...   \n",
            "115        fever     no         yes           yes                no   \n",
            "116        fever     no          no            no                no   \n",
            "117        fever    yes         yes            no               yes   \n",
            "118        fever     no         yes           yes                no   \n",
            "119        fever     no         yes           yes                no   \n",
            "\n",
            "    burning-urethra bladder-inflammation nephritis  \n",
            "0                no                   no        no  \n",
            "1               yes                  yes        no  \n",
            "2                no                   no        no  \n",
            "3               yes                  yes        no  \n",
            "4                no                   no        no  \n",
            "..              ...                  ...       ...  \n",
            "115             yes                   no       yes  \n",
            "116              no                   no        no  \n",
            "117              no                   no       yes  \n",
            "118             yes                   no       yes  \n",
            "119             yes                   no       yes  \n",
            "\n",
            "[120 rows x 8 columns]\n"
          ]
        }
      ]
    },
    {
      "cell_type": "markdown",
      "source": [
        "Statistics of temperature (categorical)"
      ],
      "metadata": {
        "id": "HzX8xwfhXraU"
      }
    },
    {
      "cell_type": "code",
      "source": [
        "dataset['temperature'].describe()"
      ],
      "metadata": {
        "colab": {
          "base_uri": "https://localhost:8080/",
          "height": 209
        },
        "id": "aTJnCkZYWLJw",
        "outputId": "0f80563e-af42-4d94-82f5-fc03a39de006"
      },
      "execution_count": null,
      "outputs": [
        {
          "output_type": "execute_result",
          "data": {
            "text/plain": [
              "count       120\n",
              "unique        3\n",
              "top       fever\n",
              "freq         81\n",
              "Name: temperature, dtype: object"
            ],
            "text/html": [
              "<div>\n",
              "<style scoped>\n",
              "    .dataframe tbody tr th:only-of-type {\n",
              "        vertical-align: middle;\n",
              "    }\n",
              "\n",
              "    .dataframe tbody tr th {\n",
              "        vertical-align: top;\n",
              "    }\n",
              "\n",
              "    .dataframe thead th {\n",
              "        text-align: right;\n",
              "    }\n",
              "</style>\n",
              "<table border=\"1\" class=\"dataframe\">\n",
              "  <thead>\n",
              "    <tr style=\"text-align: right;\">\n",
              "      <th></th>\n",
              "      <th>temperature</th>\n",
              "    </tr>\n",
              "  </thead>\n",
              "  <tbody>\n",
              "    <tr>\n",
              "      <th>count</th>\n",
              "      <td>120</td>\n",
              "    </tr>\n",
              "    <tr>\n",
              "      <th>unique</th>\n",
              "      <td>3</td>\n",
              "    </tr>\n",
              "    <tr>\n",
              "      <th>top</th>\n",
              "      <td>fever</td>\n",
              "    </tr>\n",
              "    <tr>\n",
              "      <th>freq</th>\n",
              "      <td>81</td>\n",
              "    </tr>\n",
              "  </tbody>\n",
              "</table>\n",
              "</div><br><label><b>dtype:</b> object</label>"
            ]
          },
          "metadata": {},
          "execution_count": 34
        }
      ]
    },
    {
      "cell_type": "markdown",
      "source": [
        "**PLOTS**"
      ],
      "metadata": {
        "id": "apZFo_Iqd4IH"
      }
    },
    {
      "cell_type": "markdown",
      "source": [
        "Temperature Distribution"
      ],
      "metadata": {
        "id": "-bgbjDAOexTY"
      }
    },
    {
      "cell_type": "code",
      "source": [
        "Temperature_cat = ['temperature']\n",
        "\n",
        "for col in Temperature_cat:\n",
        "    plt.figure(figsize=(5, 5))\n",
        "    sns.countplot(x=col, data=dataset, palette=\"coolwarm\")\n",
        "    plt.title(f\"Distribution of {col}\")\n",
        "    plt.show()\n",
        "\n"
      ],
      "metadata": {
        "colab": {
          "base_uri": "https://localhost:8080/",
          "height": 578
        },
        "id": "wfqcarhOZX2e",
        "outputId": "65ab5abd-5e33-46dd-f3b8-d999923db3be"
      },
      "execution_count": null,
      "outputs": [
        {
          "output_type": "stream",
          "name": "stderr",
          "text": [
            "<ipython-input-35-b4fd6951a296>:5: FutureWarning: \n",
            "\n",
            "Passing `palette` without assigning `hue` is deprecated and will be removed in v0.14.0. Assign the `x` variable to `hue` and set `legend=False` for the same effect.\n",
            "\n",
            "  sns.countplot(x=col, data=dataset, palette=\"coolwarm\")\n"
          ]
        },
        {
          "output_type": "display_data",
          "data": {
            "text/plain": [
              "<Figure size 500x500 with 1 Axes>"
            ],
            "image/png": "[encoded data removed]"
          },
          "metadata": {}
        }
      ]
    },
    {
      "cell_type": "markdown",
      "source": [
        "Temperature categories count"
      ],
      "metadata": {
        "id": "u7ZK66SUd8Mw"
      }
    },
    {
      "cell_type": "code",
      "source": [
        "dataset['temperature'].value_counts()"
      ],
      "metadata": {
        "colab": {
          "base_uri": "https://localhost:8080/",
          "height": 209
        },
        "id": "Brhx6TrqatPi",
        "outputId": "57c3258c-9d6d-48a1-aed5-bc92f40218cb"
      },
      "execution_count": null,
      "outputs": [
        {
          "output_type": "execute_result",
          "data": {
            "text/plain": [
              "temperature\n",
              "fever          81\n",
              "normal         33\n",
              "hypothermia     6\n",
              "Name: count, dtype: int64"
            ],
            "text/html": [
              "<div>\n",
              "<style scoped>\n",
              "    .dataframe tbody tr th:only-of-type {\n",
              "        vertical-align: middle;\n",
              "    }\n",
              "\n",
              "    .dataframe tbody tr th {\n",
              "        vertical-align: top;\n",
              "    }\n",
              "\n",
              "    .dataframe thead th {\n",
              "        text-align: right;\n",
              "    }\n",
              "</style>\n",
              "<table border=\"1\" class=\"dataframe\">\n",
              "  <thead>\n",
              "    <tr style=\"text-align: right;\">\n",
              "      <th></th>\n",
              "      <th>count</th>\n",
              "    </tr>\n",
              "    <tr>\n",
              "      <th>temperature</th>\n",
              "      <th></th>\n",
              "    </tr>\n",
              "  </thead>\n",
              "  <tbody>\n",
              "    <tr>\n",
              "      <th>fever</th>\n",
              "      <td>81</td>\n",
              "    </tr>\n",
              "    <tr>\n",
              "      <th>normal</th>\n",
              "      <td>33</td>\n",
              "    </tr>\n",
              "    <tr>\n",
              "      <th>hypothermia</th>\n",
              "      <td>6</td>\n",
              "    </tr>\n",
              "  </tbody>\n",
              "</table>\n",
              "</div><br><label><b>dtype:</b> int64</label>"
            ]
          },
          "metadata": {},
          "execution_count": 36
        }
      ]
    },
    {
      "cell_type": "markdown",
      "source": [
        "Binary features count"
      ],
      "metadata": {
        "id": "JwkgVHT0dpDH"
      }
    },
    {
      "cell_type": "code",
      "source": [
        "Binary_columns = ['nausea','lumbar-pain','urine-pushing', 'micturition-pains', 'burning-urethra']\n",
        "for col in Binary_columns:\n",
        "    print(dataset[col].value_counts())"
      ],
      "metadata": {
        "colab": {
          "base_uri": "https://localhost:8080/"
        },
        "id": "4dFdZRQ5CxaA",
        "outputId": "e0528316-80a2-4064-dac2-406133871aaf"
      },
      "execution_count": null,
      "outputs": [
        {
          "output_type": "stream",
          "name": "stdout",
          "text": [
            "nausea\n",
            "no     91\n",
            "yes    29\n",
            "Name: count, dtype: int64\n",
            "lumbar-pain\n",
            "yes    70\n",
            "no     50\n",
            "Name: count, dtype: int64\n",
            "urine-pushing\n",
            "yes    80\n",
            "no     40\n",
            "Name: count, dtype: int64\n",
            "micturition-pains\n",
            "no     61\n",
            "yes    59\n",
            "Name: count, dtype: int64\n",
            "burning-urethra\n",
            "no     70\n",
            "yes    50\n",
            "Name: count, dtype: int64\n"
          ]
        }
      ]
    },
    {
      "cell_type": "markdown",
      "source": [
        "Binary features distribution"
      ],
      "metadata": {
        "id": "NaoR_9arefXA"
      }
    },
    {
      "cell_type": "code",
      "source": [
        "plt.figure(figsize=(15, 15))\n",
        "\n",
        "for i, col in enumerate (Binary_columns,1):\n",
        "    plt.subplot(4, 6, i)\n",
        "    sns.countplot(x=col, data=dataset, palette=\"Paired\")\n",
        "    plt.title(f\"Distribution of {col}\", fontsize=10)\n",
        "\n",
        "plt.tight_layout()\n",
        "plt.show()"
      ],
      "metadata": {
        "colab": {
          "base_uri": "https://localhost:8080/",
          "height": 872
        },
        "id": "0JrpkRjheiEN",
        "outputId": "4976b1ec-9c42-4e9f-c4fd-b7fe6206c027"
      },
      "execution_count": null,
      "outputs": [
        {
          "output_type": "stream",
          "name": "stderr",
          "text": [
            "<ipython-input-38-24065950f0fb>:5: FutureWarning: \n",
            "\n",
            "Passing `palette` without assigning `hue` is deprecated and will be removed in v0.14.0. Assign the `x` variable to `hue` and set `legend=False` for the same effect.\n",
            "\n",
            "  sns.countplot(x=col, data=dataset, palette=\"Paired\")\n",
            "<ipython-input-38-24065950f0fb>:5: FutureWarning: \n",
            "\n",
            "Passing `palette` without assigning `hue` is deprecated and will be removed in v0.14.0. Assign the `x` variable to `hue` and set `legend=False` for the same effect.\n",
            "\n",
            "  sns.countplot(x=col, data=dataset, palette=\"Paired\")\n",
            "<ipython-input-38-24065950f0fb>:5: FutureWarning: \n",
            "\n",
            "Passing `palette` without assigning `hue` is deprecated and will be removed in v0.14.0. Assign the `x` variable to `hue` and set `legend=False` for the same effect.\n",
            "\n",
            "  sns.countplot(x=col, data=dataset, palette=\"Paired\")\n",
            "<ipython-input-38-24065950f0fb>:5: FutureWarning: \n",
            "\n",
            "Passing `palette` without assigning `hue` is deprecated and will be removed in v0.14.0. Assign the `x` variable to `hue` and set `legend=False` for the same effect.\n",
            "\n",
            "  sns.countplot(x=col, data=dataset, palette=\"Paired\")\n",
            "<ipython-input-38-24065950f0fb>:5: FutureWarning: \n",
            "\n",
            "Passing `palette` without assigning `hue` is deprecated and will be removed in v0.14.0. Assign the `x` variable to `hue` and set `legend=False` for the same effect.\n",
            "\n",
            "  sns.countplot(x=col, data=dataset, palette=\"Paired\")\n"
          ]
        },
        {
          "output_type": "display_data",
          "data": {
            "text/plain": [
              "<Figure size 1500x1500 with 5 Axes>"
            ],
            "image/png": "[encoded data removed]"
          },
          "metadata": {}
        }
      ]
    },
    {
      "cell_type": "markdown",
      "source": [
        "Target variables count"
      ],
      "metadata": {
        "id": "YXcZTxY4fSMX"
      }
    },
    {
      "cell_type": "code",
      "source": [
        "Target_columns = ['bladder-inflammation','nephritis']\n",
        "for col in Target_columns:\n",
        "    print(dataset[col].value_counts())"
      ],
      "metadata": {
        "colab": {
          "base_uri": "https://localhost:8080/"
        },
        "id": "xmvrzsiXfVtm",
        "outputId": "166472dd-87c9-453e-9ddd-c7273fd028af"
      },
      "execution_count": null,
      "outputs": [
        {
          "output_type": "stream",
          "name": "stdout",
          "text": [
            "bladder-inflammation\n",
            "no     61\n",
            "yes    59\n",
            "Name: count, dtype: int64\n",
            "nephritis\n",
            "no     70\n",
            "yes    50\n",
            "Name: count, dtype: int64\n"
          ]
        }
      ]
    },
    {
      "cell_type": "code",
      "source": [
        "plt.figure(figsize=(15, 15))\n",
        "\n",
        "for i, col in enumerate (Target_columns,1):\n",
        "    plt.subplot(4, 2, i)\n",
        "    sns.countplot(x=col, data=dataset, palette=\"Set1\")\n",
        "    plt.title(f\"Distribution of {col}\", fontsize=10)\n",
        "\n",
        "plt.tight_layout()\n",
        "plt.show()"
      ],
      "metadata": {
        "colab": {
          "base_uri": "https://localhost:8080/",
          "height": 577
        },
        "collapsed": true,
        "id": "mPDjcUFdfuUs",
        "outputId": "c2cded25-7dfd-4251-d485-8203c6f3217b"
      },
      "execution_count": null,
      "outputs": [
        {
          "output_type": "stream",
          "name": "stderr",
          "text": [
            "<ipython-input-40-94a47c8f8b97>:5: FutureWarning: \n",
            "\n",
            "Passing `palette` without assigning `hue` is deprecated and will be removed in v0.14.0. Assign the `x` variable to `hue` and set `legend=False` for the same effect.\n",
            "\n",
            "  sns.countplot(x=col, data=dataset, palette=\"Set1\")\n",
            "<ipython-input-40-94a47c8f8b97>:5: FutureWarning: \n",
            "\n",
            "Passing `palette` without assigning `hue` is deprecated and will be removed in v0.14.0. Assign the `x` variable to `hue` and set `legend=False` for the same effect.\n",
            "\n",
            "  sns.countplot(x=col, data=dataset, palette=\"Set1\")\n"
          ]
        },
        {
          "output_type": "display_data",
          "data": {
            "text/plain": [
              "<Figure size 1500x1500 with 2 Axes>"
            ],
            "image/png": "[encoded data removed]"
          },
          "metadata": {}
        }
      ]
    },
    {
      "cell_type": "markdown",
      "source": [
        "Plot Between Features and Target (bladder-inflammation) - Relationship"
      ],
      "metadata": {
        "id": "HNC3CP_okrb8"
      }
    },
    {
      "cell_type": "code",
      "source": [
        "Features = ['temperature','nausea','lumbar-pain','urine-pushing', 'micturition-pains', 'burning-urethra']\n",
        "plt.figure(figsize=(15, 15))\n",
        "\n",
        "for i, feature in enumerate(Features, 1):\n",
        "    plt.subplot(4, 6, i)  # Adjust rows and columns\n",
        "    sns.countplot(x=feature, hue='bladder-inflammation', data=dataset, palette=\"Set1\")\n",
        "    plt.title(f\"{feature} vs\\n bladder-inflammation\", fontsize = 10)\n",
        "    plt.xlabel(f\"{feature}\", fontsize=10)\n",
        "    plt.xticks(rotation=45)\n",
        "    plt.xticks(fontsize=6)\n",
        "\n",
        "plt.tight_layout()\n",
        "plt.show()"
      ],
      "metadata": {
        "colab": {
          "base_uri": "https://localhost:8080/",
          "height": 414
        },
        "id": "uzH0h1jejnNe",
        "outputId": "f20a0525-d6f7-43b7-d80a-ba066e437062"
      },
      "execution_count": null,
      "outputs": [
        {
          "output_type": "display_data",
          "data": {
            "text/plain": [
              "<Figure size 1500x1500 with 6 Axes>"
            ],
            "image/png": "[encoded data removed]"
          },
          "metadata": {}
        }
      ]
    },
    {
      "cell_type": "markdown",
      "source": [
        "Plot Between Features and Target (nephritis) - Relationship"
      ],
      "metadata": {
        "id": "umM9xh2dk5Vc"
      }
    },
    {
      "cell_type": "code",
      "source": [
        "plt.figure(figsize=(15, 15))\n",
        "\n",
        "for i, feature in enumerate(Features, 1):\n",
        "    plt.subplot(4, 6, i)  # Adjust rows and columns\n",
        "    sns.countplot(x=feature, hue='nephritis', data=dataset, palette=\"Set1\")\n",
        "    plt.title(f\"{feature} vs nephritis\", fontsize = 10)\n",
        "    plt.xlabel(f\"{feature}\", fontsize=10)\n",
        "    plt.xticks(rotation=45)\n",
        "    plt.xticks(fontsize=6)\n",
        "\n",
        "plt.tight_layout()\n",
        "plt.show()"
      ],
      "metadata": {
        "colab": {
          "base_uri": "https://localhost:8080/",
          "height": 402
        },
        "id": "Na0EC-gSlCNn",
        "outputId": "8573fecb-3733-43be-a170-ecc6c7099b00"
      },
      "execution_count": null,
      "outputs": [
        {
          "output_type": "display_data",
          "data": {
            "text/plain": [
              "<Figure size 1500x1500 with 6 Axes>"
            ],
            "image/png": "[encoded data removed]"
          },
          "metadata": {}
        }
      ]
    },
    {
      "cell_type": "markdown",
      "source": [
        "# Chi-square test"
      ],
      "metadata": {
        "id": "S401H0kprmqy"
      }
    },
    {
      "cell_type": "markdown",
      "source": [
        "Encode columns (0,1,2)"
      ],
      "metadata": {
        "id": "KGe7Q3i6vF4i"
      }
    },
    {
      "cell_type": "code",
      "source": [
        "new_label = LabelEncoder()\n",
        "data_encoded = dataset.copy()\n",
        "label_mappings = {}\n",
        "\n",
        "for col in data_encoded.columns:\n",
        "    new_label.fit(data_encoded[col])\n",
        "    data_encoded[col] = new_label.fit_transform(data_encoded[col])\n",
        "    label_mappings[col] = dict(zip(new_label.classes_, new_label.transform(new_label.classes_)))\n",
        "\n",
        "# Mapping values\n",
        "for feature, mapping in label_mappings.items():\n",
        "    print(f\"Feature: {feature}\")\n",
        "    print(\"Original---> Encoded:\")\n",
        "    for original, encoded in mapping.items():\n",
        "        print(f\"  {original} -> {encoded}\")\n",
        "    print(\"\\n\")"
      ],
      "metadata": {
        "colab": {
          "base_uri": "https://localhost:8080/"
        },
        "collapsed": true,
        "id": "efv1sdHUrv2B",
        "outputId": "24b6b90f-a556-41e6-d76d-de4f1a1a4863"
      },
      "execution_count": null,
      "outputs": [
        {
          "output_type": "stream",
          "name": "stdout",
          "text": [
            "Feature: temperature\n",
            "Original---> Encoded:\n",
            "  fever -> 0\n",
            "  hypothermia -> 1\n",
            "  normal -> 2\n",
            "\n",
            "\n",
            "Feature: nausea\n",
            "Original---> Encoded:\n",
            "  no -> 0\n",
            "  yes -> 1\n",
            "\n",
            "\n",
            "Feature: lumbar-pain\n",
            "Original---> Encoded:\n",
            "  no -> 0\n",
            "  yes -> 1\n",
            "\n",
            "\n",
            "Feature: urine-pushing\n",
            "Original---> Encoded:\n",
            "  no -> 0\n",
            "  yes -> 1\n",
            "\n",
            "\n",
            "Feature: micturition-pains\n",
            "Original---> Encoded:\n",
            "  no -> 0\n",
            "  yes -> 1\n",
            "\n",
            "\n",
            "Feature: burning-urethra\n",
            "Original---> Encoded:\n",
            "  no -> 0\n",
            "  yes -> 1\n",
            "\n",
            "\n",
            "Feature: bladder-inflammation\n",
            "Original---> Encoded:\n",
            "  no -> 0\n",
            "  yes -> 1\n",
            "\n",
            "\n",
            "Feature: nephritis\n",
            "Original---> Encoded:\n",
            "  no -> 0\n",
            "  yes -> 1\n",
            "\n",
            "\n"
          ]
        }
      ]
    },
    {
      "cell_type": "markdown",
      "source": [
        "**For Nephritis**"
      ],
      "metadata": {
        "id": "oHZZmrq58ZxU"
      }
    },
    {
      "cell_type": "markdown",
      "source": [
        "Chi-square test"
      ],
      "metadata": {
        "id": "waRriA0XxjEz"
      }
    },
    {
      "cell_type": "code",
      "source": [
        "for feature in data_encoded.drop(columns=['nephritis', 'bladder-inflammation']).columns:  # Exclude target columns\n",
        "    crosstab = pd.crosstab(data_encoded[feature], data_encoded['nephritis']) #For nephritis\n",
        "    chi2, p, dof, expected = chi2_contingency(crosstab)\n",
        "    print (feature)\n",
        "    print (crosstab)\n",
        "    print(f\"Chi-Square Test for {feature}:\")\n",
        "    print(f\"Chi2 P-Value: {p}\")\n",
        "    print(f\"RESULT:\")\n",
        "    if p < 0.05:\n",
        "        print(f\"  p < 0.05: There is a significant relationship between {feature} and nephritis.\\n\")\n",
        "    else:\n",
        "        print(f\"  p >= 0.05: No significant relationship between {feature} and nephritis.\\n\")\n"
      ],
      "metadata": {
        "colab": {
          "base_uri": "https://localhost:8080/"
        },
        "id": "TkTuawLit4FG",
        "outputId": "7f4d8588-466e-44cc-a18c-5668110487b9"
      },
      "execution_count": null,
      "outputs": [
        {
          "output_type": "stream",
          "name": "stdout",
          "text": [
            "temperature\n",
            "nephritis     0   1\n",
            "temperature        \n",
            "0            31  50\n",
            "1             6   0\n",
            "2            33   0\n",
            "Chi-Square Test for temperature:\n",
            "Chi2 P-Value: 1.0923651436106077e-09\n",
            "RESULT:\n",
            "  p < 0.05: There is a significant relationship between temperature and nephritis.\n",
            "\n",
            "nausea\n",
            "nephritis   0   1\n",
            "nausea           \n",
            "0          70  21\n",
            "1           0  29\n",
            "Chi-Square Test for nausea:\n",
            "Chi2 P-Value: 1.2409766885409853e-12\n",
            "RESULT:\n",
            "  p < 0.05: There is a significant relationship between nausea and nephritis.\n",
            "\n",
            "lumbar-pain\n",
            "nephritis     0   1\n",
            "lumbar-pain        \n",
            "0            50   0\n",
            "1            20  50\n",
            "Chi-Square Test for lumbar-pain:\n",
            "Chi2 P-Value: 2.2265697314315614e-14\n",
            "RESULT:\n",
            "  p < 0.05: There is a significant relationship between lumbar-pain and nephritis.\n",
            "\n",
            "urine-pushing\n",
            "nephritis       0   1\n",
            "urine-pushing        \n",
            "0              30  10\n",
            "1              40  40\n",
            "Chi-Square Test for urine-pushing:\n",
            "Chi2 P-Value: 0.015426068688276007\n",
            "RESULT:\n",
            "  p < 0.05: There is a significant relationship between urine-pushing and nephritis.\n",
            "\n",
            "micturition-pains\n",
            "nephritis           0   1\n",
            "micturition-pains        \n",
            "0                  40  21\n",
            "1                  30  29\n",
            "Chi-Square Test for micturition-pains:\n",
            "Chi2 P-Value: 0.1468765137695431\n",
            "RESULT:\n",
            "  p >= 0.05: No significant relationship between micturition-pains and nephritis.\n",
            "\n",
            "burning-urethra\n",
            "nephritis         0   1\n",
            "burning-urethra        \n",
            "0                50  20\n",
            "1                20  30\n",
            "Chi-Square Test for burning-urethra:\n",
            "Chi2 P-Value: 0.0011337762865295756\n",
            "RESULT:\n",
            "  p < 0.05: There is a significant relationship between burning-urethra and nephritis.\n",
            "\n"
          ]
        }
      ]
    },
    {
      "cell_type": "markdown",
      "source": [
        "**For Bladder-inflammation**"
      ],
      "metadata": {
        "id": "n7QQQd368kEc"
      }
    },
    {
      "cell_type": "code",
      "source": [
        "for feature in data_encoded.drop(columns=['nephritis', 'bladder-inflammation']).columns:  # Exclude target columns\n",
        "    crosstab = pd.crosstab(data_encoded[feature], data_encoded['bladder-inflammation']) #For bladder-inflammation\n",
        "    chi2, p, dof, expected = chi2_contingency(crosstab)\n",
        "    print (feature)\n",
        "    print (crosstab)\n",
        "    print(f\"Chi-Square Test for {feature}:\")\n",
        "    print(f\"Chi2 P-Value: {p}\")\n",
        "    print(f\"RESULT:\")\n",
        "    if p < 0.05:\n",
        "        print(f\"  p < 0.05: There is a significant relationship between {feature} and bladder-inflammation.\\n\")\n",
        "    else:\n",
        "        print(f\"  p >= 0.05: No significant relationship between {feature} and bladder-inflammation.\\n\")"
      ],
      "metadata": {
        "colab": {
          "base_uri": "https://localhost:8080/"
        },
        "id": "fYeLCiaK8UV3",
        "outputId": "982090d5-9190-403f-82e8-2e269526b4ff"
      },
      "execution_count": null,
      "outputs": [
        {
          "output_type": "stream",
          "name": "stdout",
          "text": [
            "temperature\n",
            "bladder-inflammation   0   1\n",
            "temperature                 \n",
            "0                     46  35\n",
            "1                      4   2\n",
            "2                     11  22\n",
            "Chi-Square Test for temperature:\n",
            "Chi2 P-Value: 0.05514889873330718\n",
            "RESULT:\n",
            "  p >= 0.05: No significant relationship between temperature and bladder-inflammation.\n",
            "\n",
            "nausea\n",
            "bladder-inflammation   0   1\n",
            "nausea                      \n",
            "0                     51  40\n",
            "1                     10  19\n",
            "Chi-Square Test for nausea:\n",
            "Chi2 P-Value: 0.07041268686822552\n",
            "RESULT:\n",
            "  p >= 0.05: No significant relationship between nausea and bladder-inflammation.\n",
            "\n",
            "lumbar-pain\n",
            "bladder-inflammation   0   1\n",
            "lumbar-pain                 \n",
            "0                     10  40\n",
            "1                     51  19\n",
            "Chi-Square Test for lumbar-pain:\n",
            "Chi2 P-Value: 3.2980982867079064e-08\n",
            "RESULT:\n",
            "  p < 0.05: There is a significant relationship between lumbar-pain and bladder-inflammation.\n",
            "\n",
            "urine-pushing\n",
            "bladder-inflammation   0   1\n",
            "urine-pushing               \n",
            "0                     40   0\n",
            "1                     21  59\n",
            "Chi-Square Test for urine-pushing:\n",
            "Chi2 P-Value: 1.1342135452266987e-13\n",
            "RESULT:\n",
            "  p < 0.05: There is a significant relationship between urine-pushing and bladder-inflammation.\n",
            "\n",
            "micturition-pains\n",
            "bladder-inflammation   0   1\n",
            "micturition-pains           \n",
            "0                     51  10\n",
            "1                     10  49\n",
            "Chi-Square Test for micturition-pains:\n",
            "Chi2 P-Value: 1.0845458636473047e-12\n",
            "RESULT:\n",
            "  p < 0.05: There is a significant relationship between micturition-pains and bladder-inflammation.\n",
            "\n",
            "burning-urethra\n",
            "bladder-inflammation   0   1\n",
            "burning-urethra             \n",
            "0                     40  30\n",
            "1                     21  29\n",
            "Chi-Square Test for burning-urethra:\n",
            "Chi2 P-Value: 0.1468765137695431\n",
            "RESULT:\n",
            "  p >= 0.05: No significant relationship between burning-urethra and bladder-inflammation.\n",
            "\n"
          ]
        }
      ]
    }
  ]
}